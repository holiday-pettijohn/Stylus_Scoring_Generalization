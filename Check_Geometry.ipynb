{
 "cells": [
  {
   "cell_type": "markdown",
   "id": "421a14b9",
   "metadata": {},
   "source": [
    "# Load the Geometry of a Drawn Gene Character for Anylitcal Processing"
   ]
  },
  {
   "cell_type": "code",
   "execution_count": 1,
   "id": "d2efc2e5",
   "metadata": {},
   "outputs": [
    {
     "name": "stderr",
     "output_type": "stream",
     "text": [
      "2023-09-19T16:49:25.123812Z [INFO ] Stylus initialized - Stylus 1.5.0 [RELEASE - Aug 29 2023 15:40:46] (c) 2006-2009 Biologic Institute\n"
     ]
    }
   ],
   "source": [
    "import os\n",
    "import xmltodict\n",
    "\n",
    "import matplotlib.pyplot as plt\n",
    "import numpy as np\n",
    "\n",
    "from PIL import Image, ImageDraw\n",
    "from random import randint, seed\n",
    "from xmlparse import xmlToGeometry, loadGeometry, loadRef\n",
    "\n",
    "import numpy as np"
   ]
  },
  {
   "cell_type": "code",
   "execution_count": 2,
   "id": "20a2c641",
   "metadata": {},
   "outputs": [
    {
     "name": "stdout",
     "output_type": "stream",
     "text": [
      "5\n",
      "[array([[  0., 390.],\n",
      "       [  0.,   0.]]), array([[  0., 390.],\n",
      "       [370., 390.],\n",
      "       [370.,   0.]]), array([[130.     , 390.     ],\n",
      "       [130.34375, 340.21875],\n",
      "       [127.375  , 295.375  ],\n",
      "       [121.09375, 255.46875],\n",
      "       [111.5    , 220.5    ],\n",
      "       [ 98.59375, 190.46875],\n",
      "       [ 82.375  , 165.375  ],\n",
      "       [ 62.84375, 145.21875],\n",
      "       [ 40.     , 130.     ]]), array([[240.   , 390.   ],\n",
      "       [240.   , 210.   ],\n",
      "       [240.625, 188.125],\n",
      "       [247.5  , 172.5  ],\n",
      "       [260.625, 163.125],\n",
      "       [280.   , 160.   ],\n",
      "       [320.   , 160.   ],\n",
      "       [320.   , 210.   ]]), array([[  0.,  50.],\n",
      "       [370.,  50.]])]\n"
     ]
    }
   ],
   "source": [
    "ref_g, ref_l, output_size = loadRef(\"56DB\", \"Reference\")\n",
    "print(len(ref_g))\n",
    "print(ref_g)"
   ]
  },
  {
   "cell_type": "code",
   "execution_count": 3,
   "id": "a6a79fb1",
   "metadata": {},
   "outputs": [
    {
     "name": "stdout",
     "output_type": "stream",
     "text": [
      "7\n",
      "[array([[139.45994049,  52.19472431],\n",
      "       [114.94905929,  98.8562059 ],\n",
      "       [100.08245835, 127.15782512],\n",
      "       [ 79.05790967, 127.15782512]]), array([[ 93.92451061, 155.45944434],\n",
      "       [151.07515924, 155.45944434],\n",
      "       [185.73877985, 155.45944434],\n",
      "       [210.24966105, 108.79796274],\n",
      "       [210.24966105,   0.        ]]), array([[187.76263304,   0.        ],\n",
      "       [212.27351423,  46.6614816 ],\n",
      "       [187.76263304,  93.32296319],\n",
      "       [187.76263304, 133.34749693]]), array([[169.98946655,  18.35986238],\n",
      "       [135.32584593,  18.35986238],\n",
      "       [ 78.17519731,  18.35986238],\n",
      "       [ 21.02454868,  18.35986238],\n",
      "       [  0.        ,  18.35986238]]), array([[ 49.53022156,  46.6614816 ],\n",
      "       [ 25.01934036,  93.32296319],\n",
      "       [ 10.15273942, 121.62458241],\n",
      "       [ 34.66362062, 168.28606401]]), array([[106.38896823, 120.65662627],\n",
      "       [127.41351691, 120.65662627],\n",
      "       [127.41351691,  80.63209254],\n",
      "       [162.07713752,  80.63209254],\n",
      "       [176.94373846,  52.33047332],\n",
      "       [201.45461966,   5.66899173],\n",
      "       [225.96550086,  52.33047332],\n",
      "       [225.96550086,  92.35500706],\n",
      "       [225.96550086, 132.37954079],\n",
      "       [225.96550086, 172.40407452],\n",
      "       [283.11614949, 172.40407452]]), array([[355.13339906, 196.29717961],\n",
      "       [340.26679811, 224.59879883],\n",
      "       [340.26679811, 333.39676157],\n",
      "       [355.13339906, 361.69838078],\n",
      "       [370.        , 390.        ]])]\n"
     ]
    }
   ],
   "source": [
    "g, l = loadGeometry(\"Genes/maint_0.001 on 56DB.08\", \"56DB\", output_size, f_read = [\"56DB.08.92.gene\"])[0]\n",
    "print(len(g))\n",
    "print(g)"
   ]
  },
  {
   "cell_type": "code",
   "execution_count": 4,
   "id": "d11a8961",
   "metadata": {},
   "outputs": [
    {
     "data": {
      "image/png": "[encoded data removed]",
      "text/plain": [
       "<PIL.Image.Image image mode=RGBA size=370x390>"
      ]
     },
     "metadata": {},
     "output_type": "display_data"
    }
   ],
   "source": [
    "alignments=[1, 2, 0, 4, 3]\n",
    "img = Image.new(mode=\"RGBA\", size=output_size)\n",
    "seed(742)\n",
    "colors = [(randint(0, 256), randint(0, 256), randint(0, 256)) for _ in range(len(g)+1)]\n",
    "colors_t = [(c[0], c[1], c[2], 70) for c in colors]\n",
    "\n",
    "for i in range(len(g)):\n",
    "    draw = ImageDraw.Draw(img)\n",
    "    for a in range(len(g[i])-1):\n",
    "        x1, y1 = g[i][a]\n",
    "        x2, y2 = g[i][a+1]\n",
    "        y1 = -(y1-output_size[1]/2)+output_size[1]/2\n",
    "        y2 = -(y2-output_size[1]/2)+output_size[1]/2\n",
    "        draw.line(((x1, y1), (x2, y2)), width=6, fill=colors[i])\n",
    "\n",
    "display(img)\n",
    "img.save(\"extra_strokes.png\")\n",
    "# I think I ran into these before in a different form - these stray strokes are giving us major scaling issues!"
   ]
  },
  {
   "cell_type": "code",
   "execution_count": 5,
   "id": "99cfea69",
   "metadata": {},
   "outputs": [
    {
     "data": {
      "image/png": "[encoded data removed]",
      "text/plain": [
       "<PIL.Image.Image image mode=RGBA size=370x390>"
      ]
     },
     "metadata": {},
     "output_type": "display_data"
    },
    {
     "data": {
      "image/png": "[encoded data removed]",
      "text/plain": [
       "<PIL.Image.Image image mode=RGBA size=370x390>"
      ]
     },
     "metadata": {},
     "output_type": "display_data"
    }
   ],
   "source": [
    "img_full = Image.new(mode=\"RGBA\", size=output_size)\n",
    "\n",
    "for i in range(len(alignments)):\n",
    "    draw_full = ImageDraw.Draw(img_full)\n",
    "    draw_over = ImageDraw.Draw(img)\n",
    "    for a in range(len(ref_g[i])-1):\n",
    "        x1, y1 = ref_g[i][a]\n",
    "        x2, y2 = ref_g[i][a+1]\n",
    "        y1 = -(y1-output_size[1]/2)+output_size[1]/2\n",
    "        y2 = -(y2-output_size[1]/2)+output_size[1]/2\n",
    "        draw_full.line(((x1, y1), (x2, y2)), width=3, fill=colors[i])\n",
    "        draw_over.line(((x1, y1), (x2, y2)), width=3, fill=colors[i])\n",
    "\n",
    "img_full.save(\"56DB_ref.png\")\n",
    "img.save(\"56DB_both.png\")\n",
    "\n",
    "display(img_full)\n",
    "display(img)\n",
    "# These colors have no meaning - we aren't taking alignment into consideration\n",
    "# This does, however, show what's going on with the data we're rendering\n",
    "# All the colors in the thick lines not in common with the reference figure are all extraneous\n",
    "# Problem is, we can't figure out which strokes are 'stray' until at least matching\n",
    "# Our matching algorithm may need to take a different approach to scaling..."
   ]
  },
  {
   "cell_type": "code",
   "execution_count": null,
   "id": "1bdfed5c-174d-4643-ab95-b7a2b83b4629",
   "metadata": {},
   "outputs": [],
   "source": []
  }
 ],
 "metadata": {
  "kernelspec": {
   "display_name": "Python 3 (ipykernel)",
   "language": "python",
   "name": "python3"
  },
  "language_info": {
   "codemirror_mode": {
    "name": "ipython",
    "version": 3
   },
   "file_extension": ".py",
   "mimetype": "text/x-python",
   "name": "python",
   "nbconvert_exporter": "python",
   "pygments_lexer": "ipython3",
   "version": "3.11.3"
  }
 },
 "nbformat": 4,
 "nbformat_minor": 5
}
