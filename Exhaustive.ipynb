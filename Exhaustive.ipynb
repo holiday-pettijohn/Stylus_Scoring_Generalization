{
 "cells": [
  {
   "cell_type": "markdown",
   "id": "f2a9246b-4385-4088-a00d-1c6145930007",
   "metadata": {},
   "source": [
    "# Run exaustive search for stroke arrangement using stylusengine to check scores and evaluate results"
   ]
  },
  {
   "cell_type": "code",
   "execution_count": 1,
   "id": "109b03c6-61f2-4840-9e7d-721e42b22205",
   "metadata": {},
   "outputs": [],
   "source": [
    "import os\n",
    "import re\n",
    "import sys\n",
    "\n",
    "import matplotlib.pyplot as plt\n",
    "import numpy as np\n",
    "\n",
    "from itertools import permutations\n",
    "from math import factorial\n",
    "\n",
    "from xmlparse import loadRef, loadGeometryBases, minXml\n",
    "from score_strokes import alignStrokes"
   ]
  },
  {
   "cell_type": "code",
   "execution_count": 2,
   "id": "c568b64e-b074-4415-b416-bba28060f799",
   "metadata": {},
   "outputs": [
    {
     "name": "stderr",
     "output_type": "stream",
     "text": [
      "2023-08-29T23:14:26.882073Z [INFO ] Stylus initialized - Stylus 1.5.0 [RELEASE - Aug 29 2023 15:40:46] (c) 2006-2009 Biologic Institute\n"
     ]
    },
    {
     "data": {
      "text/plain": [
       "0"
      ]
     },
     "execution_count": 2,
     "metadata": {},
     "output_type": "execute_result"
    }
   ],
   "source": [
    "#sys.path.append('/Users/douglasa6/Documents/stylus-master/src')\n",
    "\n",
    "import stylusengine\n",
    "\n",
    "\n",
    "stylusengine.setLogFile(b'errors.log')\n",
    "\n",
    "stylusengine.setScope(\n",
    "    b'file:///home/tulip/Documents/College/Stewart/stylusapp/hans',\n",
    "    b'file:///home/tulip/Documents/College/Stewart/stylus/schemas'\n",
    ")\n"
   ]
  },
  {
   "cell_type": "code",
   "execution_count": 3,
   "id": "01094867-aaae-4c90-a917-303922592cfd",
   "metadata": {},
   "outputs": [],
   "source": [
    "def getXmlScore(xml_bstring):\n",
    "    stylusengine.setGenome(xml_bstring, b\"\")\n",
    "    g = stylusengine.getGenome([b\"all\"]).decode()\n",
    "    score = float(\n",
    "            re.search(r\"score='([e\\d.+-]+)'\", g).group(1)\n",
    "        )\n",
    "    return score\n"
   ]
  },
  {
   "cell_type": "code",
   "execution_count": 4,
   "id": "eafefbf3-b66c-44c9-b8e9-555fb1212fc5",
   "metadata": {},
   "outputs": [
    {
     "name": "stdout",
     "output_type": "stream",
     "text": [
      "0 is good\n",
      "1 is good\n",
      "2 is good\n",
      "3 is good\n",
      "4 is good\n",
      "5 is good\n",
      "6 is good\n",
      "7 is good\n",
      "8 is good\n",
      "9 is good\n",
      "10 is good\n",
      "11 is good\n",
      "12 is good\n",
      "15 is good\n",
      "16 is good\n",
      "17 is good\n",
      "18 is good\n",
      "Testing character 2\n"
     ]
    }
   ],
   "source": [
    "dlen = 20\n",
    "f_read = [f\"4EFB.2.{i}.gene\" for i in range(1, dlen)]\n",
    "\n",
    "han_char = \"4EFB\"\n",
    "\n",
    "ref_g, ref_l, output_size = loadRef(han_char, \"Reference\")\n",
    "g_data, _, base_data, stroke_sets, stroke_orders, _ = loadGeometryBases(\"Genes/maint_0.2 on 4EFB.2\", han_char, output_size, f_read = f_read)\n",
    "\"\"\"\n",
    "bad_data = []\n",
    "for i in range(len(g_data)):\n",
    "    if len(ref_g) is not len(g_data[i][0]):\n",
    "        bad_data.append(i)\n",
    "for i in bad_data[::-1]:\n",
    "    g_data.pop(i)\n",
    "    base_data.pop(i)\n",
    "    stroke_sets.pop(i)\n",
    "    stroke_orders.pop(i)\n",
    "\"\"\"\n",
    "\n",
    "good_characters = []\n",
    "for i in range(len(g_data)):\n",
    "    if len(g_data[i][0]) == 6:\n",
    "        print(f\"{i} is good\")\n",
    "        good_characters.append(i)\n",
    "        \n",
    "character_num = good_characters[2]\n",
    "print(f\"Testing character {character_num}\")\n",
    "\n",
    "g, l = g_data[character_num]\n",
    "bases = base_data[character_num]\n",
    "stroke_set = stroke_sets[character_num]\n",
    "stroke_order = stroke_orders[character_num]\n"
   ]
  },
  {
   "cell_type": "code",
   "execution_count": 5,
   "id": "dbbbef04-fbee-43f6-89ab-d69863eb1203",
   "metadata": {},
   "outputs": [
    {
     "name": "stdout",
     "output_type": "stream",
     "text": [
      "[1 2 6 5 3 4] [1 2 6 5 3 4]\n"
     ]
    }
   ],
   "source": [
    "# reference-gene alignments are flipped along the index and value - reversing it\n",
    "\n",
    "heuristic_alignments = alignStrokes(g, ref_g, l, ref_l)+1\n",
    "\n",
    "print(heuristic_alignments, stroke_order)\n"
   ]
  },
  {
   "cell_type": "code",
   "execution_count": 6,
   "id": "6d768de5-bd92-4655-a542-b009908e03d4",
   "metadata": {},
   "outputs": [],
   "source": [
    "heuristic_xml = minXml(han_char, bases, stroke_set, heuristic_alignments)\n",
    "original_xml = minXml(han_char, bases, stroke_set, stroke_order)\n",
    "heuristic_score = getXmlScore(heuristic_xml)\n",
    "original_score = getXmlScore(original_xml)"
   ]
  },
  {
   "cell_type": "code",
   "execution_count": 7,
   "id": "4ab21c23-ef8e-41c5-b93f-0c097c52c4d3",
   "metadata": {},
   "outputs": [],
   "source": [
    "def saveExhaustive(ref_char, han_char, f_read, data_dir=\"HanBitmap\", exhaust_dir = \"Exhaustive\"):\n",
    "    ref_g, ref_l, output_size = loadRef(ref_char, \"Reference\")\n",
    "    g_data, _, base_data, stroke_sets, _, f_names = loadGeometryBases(data_dir, han_char, output_size, f_read = f_read)\n",
    "    print(f\"Pruning bad data from {len(f_read)} files...\")\n",
    "    bad_data = []\n",
    "    for i in range(len(g_data)):\n",
    "        if len(ref_g) != len(g_data[i][0]) or len(ref_g) != len(g_data[i][1]):\n",
    "            bad_data.append(i)\n",
    "    for i in bad_data[::-1]:\n",
    "        g_data.pop(i)\n",
    "        base_data.pop(i)\n",
    "        stroke_sets.pop(i)\n",
    "    print(f\"Pruning finished, dropped {len(f_read)-len(g_data)}/{len(f_read)} bad samples\")\n",
    "    for i in range(len(g_data)):\n",
    "        print(f\"Generating exhaustive scores for sample {f_read[i]}\")\n",
    "        g, l = g_data[i]\n",
    "        bases = base_data[i]\n",
    "        stroke_set = stroke_sets[i]\n",
    "        exhaustive_alignments = permutations(range(1, len(l)+1))\n",
    "        exhaustive_scores = np.zeros(factorial(len(l)))\n",
    "        for j, p in enumerate(exhaustive_alignments):\n",
    "            p_xml = minXml(ref_char, bases, stroke_set, p)\n",
    "            exhaustive_scores[j] = getXmlScore(p_xml)\n",
    "            if j%10000 == 0:\n",
    "                print(f\"Scoring permutation {j} of {len(exhaustive_scores)}\")\n",
    "        f_name_cleaned = f_names[i].replace(\"/\", \"_\")\n",
    "        print(f\"Wrote exhaustive scores to {exhaust_dir}/exhaust_{ref_char}_{han_char}_{f_name_cleaned}.npy\")\n",
    "        np.save(f\"{exhaust_dir}/exhaust_{ref_char}_{han_char}_{f_name_cleaned}.npy\", exhaustive_scores)\n"
   ]
  },
  {
   "cell_type": "code",
   "execution_count": 8,
   "id": "18fd7c80",
   "metadata": {},
   "outputs": [
    {
     "name": "stdout",
     "output_type": "stream",
     "text": [
      "[1 2 6 5 3 4] [1 2 6 5 3 4]\n",
      "0: 0.2009721093859917, 0.2009721093859917\n",
      "[1 2 6 5 3 4] [1 2 6 5 3 4]\n",
      "1: 0.2013953338277964, 0.2013953338277964\n",
      "[1 2 6 5 3 4] [1 2 6 5 3 4]\n",
      "2: 0.2078045801000123, 0.2078045801000123\n",
      "[1 2 6 5 3 4] [1 2 6 5 3 4]\n",
      "3: 0.2016256382450882, 0.2016256382450882\n",
      "[1 2 6 5 3 4] [1 2 6 5 3 4]\n",
      "4: 0.2145956745779752, 0.2145956745779752\n",
      "[1 2 6 5 3 4] [1 2 6 5 3 4]\n",
      "5: 0.2089713007412017, 0.2089713007412017\n",
      "[1 2 6 5 3 4] [1 2 6 5 3 4]\n",
      "6: 0.2034092049312096, 0.2034092049312096\n",
      "[1 2 6 5 3 4] [1 2 6 5 3 4]\n",
      "7: 0.2230345742767507, 0.2230345742767507\n",
      "[1 2 6 5 3 4] [1 2 6 5 3 4]\n",
      "8: 0.2049115164682263, 0.2049115164682263\n",
      "[1 2 6 5 3 4] [1 2 6 5 3 4]\n",
      "9: 0.2086181203229363, 0.2086181203229363\n",
      "[1 2 6 5 3 4] [1 2 6 5 3 4]\n",
      "10: 0.2125022264934223, 0.2125022264934223\n",
      "[1 2 6 5 3 4] [1 2 6 5 3 4]\n",
      "11: 0.207720919891055, 0.207720919891055\n",
      "[1 2 6 5 3 4] [1 2 6 5 3 4]\n",
      "12: 0.2107049646295421, 0.2107049646295421\n",
      "[1 2 6 5 3 4] [1 2 6 5 3 4]\n",
      "15: 0.2272769228518867, 0.2272769228518867\n",
      "[1 2 6 5 3 4] [1 2 6 5 3 4]\n",
      "16: 0.2091404784088746, 0.2091404784088746\n",
      "[1 2 6 5 3 4] [1 2 6 5 3 4]\n",
      "17: 0.207123481074788, 0.207123481074788\n",
      "[1 2 6 5 3 4] [1 2 6 5 3 4]\n",
      "18: 0.2196481313045786, 0.2196481313045786\n"
     ]
    }
   ],
   "source": [
    "for c in good_characters:\n",
    "    g, l = g_data[c]\n",
    "    bases = base_data[c]\n",
    "    stroke_set = stroke_sets[c]\n",
    "    stroke_order = stroke_orders[c]\n",
    "    heuristic_alignments = np.array(alignStrokes(g, ref_g, l, ref_l))+1\n",
    "    print(stroke_order, heuristic_alignments)\n",
    "    heuristic_xml = minXml(han_char, bases, stroke_set, heuristic_alignments)\n",
    "    original_xml = minXml(han_char, bases, stroke_set, stroke_order)\n",
    "    heuristic_score = getXmlScore(heuristic_xml)\n",
    "    original_score = getXmlScore(original_xml)\n",
    "    print(f\"{c}: {heuristic_score}, {original_score}\")"
   ]
  },
  {
   "cell_type": "code",
   "execution_count": 9,
   "id": "92ec08b0-59b7-430a-be3b-24b912b66118",
   "metadata": {},
   "outputs": [
    {
     "data": {
      "text/plain": [
       "'\\nf_read = [\"56DB.08.15.gene\"]\\nref_char = \"56DB\"\\nhan_char = \"56DB\"\\ndata_dir = \"Genes//maint_0.001 on 56DB.08/\"\\n'"
      ]
     },
     "execution_count": 9,
     "metadata": {},
     "output_type": "execute_result"
    }
   ],
   "source": [
    "\"\"\"\n",
    "f_read = [\"56DB.08.15.gene\"]\n",
    "ref_char = \"56DB\"\n",
    "han_char = \"56DB\"\n",
    "data_dir = \"Genes//maint_0.001 on 56DB.08/\"\n",
    "\"\"\""
   ]
  },
  {
   "cell_type": "code",
   "execution_count": 10,
   "id": "f6b78949-6b00-4e3f-aabb-756f32cd769a",
   "metadata": {},
   "outputs": [],
   "source": [
    "#saveExhaustive(ref_char, han_char, f_read, data_dir)"
   ]
  },
  {
   "cell_type": "code",
   "execution_count": null,
   "id": "9789cb7e-a044-47b7-b34a-30326aeceaf0",
   "metadata": {},
   "outputs": [],
   "source": []
  }
 ],
 "metadata": {
  "kernelspec": {
   "display_name": "Python 3 (ipykernel)",
   "language": "python",
   "name": "python3"
  },
  "language_info": {
   "codemirror_mode": {
    "name": "ipython",
    "version": 3
   },
   "file_extension": ".py",
   "mimetype": "text/x-python",
   "name": "python",
   "nbconvert_exporter": "python",
   "pygments_lexer": "ipython3",
   "version": "3.11.5"
  }
 },
 "nbformat": 4,
 "nbformat_minor": 5
}
