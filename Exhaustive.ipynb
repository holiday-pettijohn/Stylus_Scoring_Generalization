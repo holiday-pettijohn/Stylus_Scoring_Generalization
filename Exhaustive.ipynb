{
 "cells": [
  {
   "cell_type": "markdown",
   "id": "f2a9246b-4385-4088-a00d-1c6145930007",
   "metadata": {},
   "source": [
    "# Run exaustive search for stroke arrangement using stylusengine to check scores and evaluate results"
   ]
  },
  {
   "cell_type": "code",
   "execution_count": 1,
   "id": "109b03c6-61f2-4840-9e7d-721e42b22205",
   "metadata": {},
   "outputs": [],
   "source": [
    "import matplotlib.pyplot as plt\n",
    "import numpy as np\n",
    "\n",
    "from itertools import permutations\n",
    "from math import factorial\n",
    "\n",
    "from xmlparse import loadRef, loadGeometryBases, minXml\n",
    "from score_strokes import alignStrokes\n",
    "\n",
    "#import stylusengine"
   ]
  },
  {
   "cell_type": "code",
   "execution_count": 2,
   "id": "01094867-aaae-4c90-a917-303922592cfd",
   "metadata": {},
   "outputs": [],
   "source": [
    "def getXmlScore(xml_bstring):\n",
    "    score = 0#stylusengine.score_binary_string\n",
    "    return score\n"
   ]
  },
  {
   "cell_type": "code",
   "execution_count": 3,
   "id": "eafefbf3-b66c-44c9-b8e9-555fb1212fc5",
   "metadata": {},
   "outputs": [],
   "source": [
    "f_read = [\"11000\"]\n",
    "\n",
    "ref_g, ref_l, output_size = loadRef(\"5E7E\", \"Reference\")\n",
    "g_data, han_chars, base_data, ordered_stroke_sets = loadGeometryBases(\"HanBitmap\", \"5E7E\", output_size, f_read = f_read)\n",
    "g, l = g_data[0]\n",
    "han_char = han_chars[0]\n",
    "bases = base_data[0]\n",
    "stroke_bases = ordered_stroke_sets[0]"
   ]
  },
  {
   "cell_type": "code",
   "execution_count": 4,
   "id": "dbbbef04-fbee-43f6-89ab-d69863eb1203",
   "metadata": {},
   "outputs": [],
   "source": [
    "heuristic_alignments = alignStrokes(g, ref_g, l, ref_l)\n",
    "\n",
    "exhaustive_alignments = permutations(range(len(l)))\n"
   ]
  },
  {
   "cell_type": "code",
   "execution_count": 5,
   "id": "6d768de5-bd92-4655-a542-b009908e03d4",
   "metadata": {},
   "outputs": [],
   "source": [
    "heuristic_xml = minXml(han_char, bases, stroke_bases, heuristic_alignments)\n",
    "heuristic_score = getXmlScore(heuristic_xml)"
   ]
  },
  {
   "cell_type": "code",
   "execution_count": 6,
   "id": "4ab21c23-ef8e-41c5-b93f-0c097c52c4d3",
   "metadata": {},
   "outputs": [],
   "source": [
    "def saveExhaustive(han_char, f_read):\n",
    "    ref_g, ref_l, output_size = loadRef(han_char, \"Reference\")\n",
    "    g_data, _, base_data, ordered_stroke_sets = loadGeometryBases(\"HanBitmap\", han_char, output_size, f_read = f_read)\n",
    "    for i in range(len(g_data)):\n",
    "        g, l = g_data[i]\n",
    "        bases = base_data[i]\n",
    "        stroke_bases = ordered_stroke_sets[i]\n",
    "        exhaustive_scores = np.zeros(factorial(len(l)))\n",
    "        for j, p in enumerate(exhaustive_alignments):\n",
    "            p_xml = minXml(han_char, bases, stroke_bases, p)\n",
    "            exhaustive_scores[j] = getXmlScore(p_xml)\n",
    "        print(f\"Wrote exhaustive scores to {f_read[i]}_exhaust.npy\")\n",
    "        np.save(f\"{f_read[i]}_exhaust.npy\", exhaustive_scores)\n"
   ]
  },
  {
   "cell_type": "code",
   "execution_count": null,
   "id": "9101c320-3e10-4af0-b607-50b366093f6b",
   "metadata": {},
   "outputs": [],
   "source": []
  }
 ],
 "metadata": {
  "kernelspec": {
   "display_name": "Python 3 (ipykernel)",
   "language": "python",
   "name": "python3"
  },
  "language_info": {
   "codemirror_mode": {
    "name": "ipython",
    "version": 3
   },
   "file_extension": ".py",
   "mimetype": "text/x-python",
   "name": "python",
   "nbconvert_exporter": "python",
   "pygments_lexer": "ipython3",
   "version": "3.9.12"
  }
 },
 "nbformat": 4,
 "nbformat_minor": 5
}
