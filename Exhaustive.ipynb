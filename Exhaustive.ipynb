{
 "cells": [
  {
   "cell_type": "markdown",
   "id": "f2a9246b-4385-4088-a00d-1c6145930007",
   "metadata": {},
   "source": [
    "# Run exaustive search for stroke arrangement using stylusengine to check scores and evaluate results"
   ]
  },
  {
   "cell_type": "code",
   "execution_count": 1,
   "id": "109b03c6-61f2-4840-9e7d-721e42b22205",
   "metadata": {},
   "outputs": [],
   "source": [
    "import os\n",
    "import re\n",
    "import sys\n",
    "\n",
    "import matplotlib.pyplot as plt\n",
    "import numpy as np\n",
    "\n",
    "from itertools import permutations\n",
    "from math import factorial\n",
    "\n",
    "from xmlparse import loadRef, loadGeometryBases, minXml\n",
    "from score_strokes import alignStrokes"
   ]
  },
  {
   "cell_type": "code",
   "execution_count": 2,
   "id": "c568b64e-b074-4415-b416-bba28060f799",
   "metadata": {},
   "outputs": [
    {
     "name": "stderr",
     "output_type": "stream",
     "text": [
      "2022-06-29T22:29:53.889249Z [INFO ] Stylus initialized - Stylus 1.5.0 [RELEASE - Jun 28 2022 11:17:28] (c) 2006-2009 Biologic Institute\n"
     ]
    },
    {
     "data": {
      "text/plain": [
       "0"
      ]
     },
     "execution_count": 2,
     "metadata": {},
     "output_type": "execute_result"
    }
   ],
   "source": [
    "sys.path.append('/Users/douglasa6/Documents/stylus-master/src')\n",
    "\n",
    "import stylusengine\n",
    "\n",
    "stylusengine.setLogFile(b'errors.log')\n",
    "stylusengine.setScope(\n",
    "    b'file:///Applications/Stylus.app/Contents/Resources/hans',\n",
    "    b'file:///Applications/Stylus.app/Contents/Resources/stylus/schemas'\n",
    ")"
   ]
  },
  {
   "cell_type": "code",
   "execution_count": 3,
   "id": "01094867-aaae-4c90-a917-303922592cfd",
   "metadata": {},
   "outputs": [],
   "source": [
    "def getXmlScore(xml_bstring):\n",
    "    stylusengine.setGenome(xml_bstring, b\"\")\n",
    "    g = stylusengine.getGenome([b\"all\"]).decode()\n",
    "    score = float(\n",
    "            re.search(r\"score='([e\\d.+-]+)'\", g).group(1)\n",
    "        )\n",
    "    return score\n"
   ]
  },
  {
   "cell_type": "code",
   "execution_count": 4,
   "id": "eafefbf3-b66c-44c9-b8e9-555fb1212fc5",
   "metadata": {},
   "outputs": [],
   "source": [
    "f_read = [\"599\"]\n",
    "\n",
    "han_char = \"5EA6\"\n",
    "\n",
    "ref_g, ref_l, output_size = loadRef(han_char, \"Reference\")\n",
    "g_data, _, base_data, stroke_sets, stroke_orders, _ = loadGeometryBases(\"HanBitmap\", han_char, output_size, f_read = f_read)\n",
    "bad_data = []\n",
    "for i in range(len(g_data)):\n",
    "    if len(ref_g) is not len(g_data[i][0]):\n",
    "        bad_data.append(i)\n",
    "for i in bad_data[::-1]:\n",
    "    g_data.pop(i)\n",
    "    base_data.pop(i)\n",
    "    stroke_sets.pop(i)\n",
    "    stroke_orders.pop(i)\n",
    "        \n",
    "g, l = g_data[0]\n",
    "bases = base_data[0]\n",
    "stroke_set = stroke_sets[0]\n",
    "stroke_order = stroke_orders[0]\n"
   ]
  },
  {
   "cell_type": "code",
   "execution_count": 5,
   "id": "dbbbef04-fbee-43f6-89ab-d69863eb1203",
   "metadata": {},
   "outputs": [
    {
     "name": "stdout",
     "output_type": "stream",
     "text": [
      "[7 6 9 4 5 1 2 8 3] [6 7 5 4 1 2 3 8 9]\n"
     ]
    }
   ],
   "source": [
    "# reference-gene alignments are flipped along the index and value - reversing it\n",
    "heuristic_alignments_flipped = alignStrokes(g, ref_g, l, ref_l)\n",
    "heuristic_alignments = np.zeros(len(heuristic_alignments_flipped), dtype=int)\n",
    "heuristic_alignments[heuristic_alignments_flipped] = np.array([range(len(heuristic_alignments_flipped))])+1\n",
    "\n",
    "print(heuristic_alignments, stroke_order)"
   ]
  },
  {
   "cell_type": "code",
   "execution_count": 6,
   "id": "6d768de5-bd92-4655-a542-b009908e03d4",
   "metadata": {},
   "outputs": [],
   "source": [
    "heuristic_xml = minXml(han_char, bases, stroke_set, heuristic_alignments)\n",
    "original_xml = minXml(han_char, bases, stroke_set, stroke_order)\n",
    "heuristic_score = getXmlScore(heuristic_xml)\n",
    "original_score = getXmlScore(original_xml)"
   ]
  },
  {
   "cell_type": "code",
   "execution_count": 7,
   "id": "4ab21c23-ef8e-41c5-b93f-0c097c52c4d3",
   "metadata": {},
   "outputs": [],
   "source": [
    "def saveExhaustive(ref_char, han_char, f_read):\n",
    "    ref_g, ref_l, output_size = loadRef(ref_char, \"Reference\")\n",
    "    g_data, _, base_data, stroke_sets, _, f_names = loadGeometryBases(\"HanBitmap\", han_char, output_size, f_read = f_read)\n",
    "    print(f\"Pruning bad data from {len(f_read)} files...\")\n",
    "    bad_data = []\n",
    "    for i in range(len(g_data)):\n",
    "        if len(ref_g) != len(g_data[i][0]) or len(ref_g) != len(g_data[i][1]):\n",
    "            bad_data.append(i)\n",
    "    for i in bad_data[::-1]:\n",
    "        g_data.pop(i)\n",
    "        base_data.pop(i)\n",
    "        stroke_sets.pop(i)\n",
    "    print(f\"Pruning finished, dropped {len(f_read)-len(g_data)}/{len(f_read)} bad samples\")\n",
    "    for i in range(len(g_data)):\n",
    "        print(f\"Generating exhaustive scores for sample {f_read[i]}\")\n",
    "        g, l = g_data[i]\n",
    "        bases = base_data[i]\n",
    "        stroke_set = stroke_sets[i]\n",
    "        exhaustive_alignments = permutations(range(1, len(l)+1))\n",
    "        exhaustive_scores = np.zeros(factorial(len(l)))\n",
    "        for j, p in enumerate(exhaustive_alignments):\n",
    "            p_xml = minXml(ref_char, bases, stroke_set, p)\n",
    "            exhaustive_scores[j] = getXmlScore(p_xml)\n",
    "            if j%10000 == 0:\n",
    "                print(f\"Scoring permutation {j} of {len(exhaustive_scores)}\")\n",
    "        f_name_cleaned = f_names[i].replace(\"/\", \"_\")\n",
    "        print(f\"Wrote exhaustive scores to exhaust_{ref_char}_{han_char}_{f_name_cleaned}.npy\")\n",
    "        np.save(f\"exhaust_{ref_char}_{han_char}_{f_name_cleaned}.npy\", exhaustive_scores)\n"
   ]
  },
  {
   "cell_type": "code",
   "execution_count": 8,
   "id": "9101c320-3e10-4af0-b607-50b366093f6b",
   "metadata": {},
   "outputs": [],
   "source": [
    "stylusengine.setGenome(heuristic_xml, b\"\")\n",
    "g = stylusengine.getGenome([b\"all\"]).decode()\n",
    "score = float(\n",
    "            re.search(r\"score='([e\\d.+-]+)'\", g).group(1)\n",
    "        )"
   ]
  },
  {
   "cell_type": "code",
   "execution_count": 9,
   "id": "de4fd225-2b8e-4a13-8448-e789c71e6881",
   "metadata": {},
   "outputs": [
    {
     "data": {
      "text/plain": [
       "(1.875909095828902e-11, 0.01076588719706897)"
      ]
     },
     "execution_count": 9,
     "metadata": {},
     "output_type": "execute_result"
    }
   ],
   "source": [
    "score, original_score"
   ]
  },
  {
   "cell_type": "code",
   "execution_count": 10,
   "id": "92ec08b0-59b7-430a-be3b-24b912b66118",
   "metadata": {},
   "outputs": [],
   "source": [
    "f_read = [\"400\"]\n",
    "f_read = [i for i in range(2, 600)]\n",
    "ref_char = \"5EA6\"\n",
    "han_char = \"5EA6\""
   ]
  },
  {
   "cell_type": "code",
   "execution_count": 11,
   "id": "f6b78949-6b00-4e3f-aabb-756f32cd769a",
   "metadata": {},
   "outputs": [
    {
     "name": "stdout",
     "output_type": "stream",
     "text": [
      "Pruning bad data from 600 files...\n",
      "Pruning finished, dropped 237/600 bad samples\n",
      "Generating exhaustive scores for sample 0\n",
      "Scoring permutation 0 of 362880\n",
      "Scoring permutation 10000 of 362880\n",
      "Scoring permutation 20000 of 362880\n",
      "Scoring permutation 30000 of 362880\n",
      "Scoring permutation 40000 of 362880\n",
      "Scoring permutation 50000 of 362880\n",
      "Scoring permutation 60000 of 362880\n",
      "Scoring permutation 70000 of 362880\n",
      "Scoring permutation 80000 of 362880\n",
      "Scoring permutation 90000 of 362880\n",
      "Scoring permutation 100000 of 362880\n",
      "Scoring permutation 110000 of 362880\n",
      "Scoring permutation 120000 of 362880\n",
      "Scoring permutation 130000 of 362880\n",
      "Scoring permutation 140000 of 362880\n",
      "Scoring permutation 150000 of 362880\n",
      "Scoring permutation 160000 of 362880\n",
      "Scoring permutation 170000 of 362880\n",
      "Scoring permutation 180000 of 362880\n",
      "Scoring permutation 190000 of 362880\n",
      "Scoring permutation 200000 of 362880\n",
      "Scoring permutation 210000 of 362880\n",
      "Scoring permutation 220000 of 362880\n",
      "Scoring permutation 230000 of 362880\n",
      "Scoring permutation 240000 of 362880\n",
      "Scoring permutation 250000 of 362880\n",
      "Scoring permutation 260000 of 362880\n",
      "Scoring permutation 270000 of 362880\n",
      "Scoring permutation 280000 of 362880\n",
      "Scoring permutation 290000 of 362880\n",
      "Scoring permutation 300000 of 362880\n",
      "Scoring permutation 310000 of 362880\n",
      "Scoring permutation 320000 of 362880\n",
      "Scoring permutation 330000 of 362880\n",
      "Scoring permutation 340000 of 362880\n",
      "Scoring permutation 350000 of 362880\n",
      "Scoring permutation 360000 of 362880\n",
      "Wrote exhaustive scores to exhaust_5EA6_5EA6_Genes_testing set_maint_0.00001 on 5EA6.01_5EA6.01.54.gene.npy\n",
      "Generating exhaustive scores for sample 1\n",
      "Scoring permutation 0 of 362880\n",
      "Scoring permutation 10000 of 362880\n",
      "Scoring permutation 20000 of 362880\n",
      "Scoring permutation 30000 of 362880\n",
      "Scoring permutation 40000 of 362880\n",
      "Scoring permutation 50000 of 362880\n",
      "Scoring permutation 60000 of 362880\n",
      "Scoring permutation 70000 of 362880\n",
      "Scoring permutation 80000 of 362880\n",
      "Scoring permutation 90000 of 362880\n",
      "Scoring permutation 100000 of 362880\n",
      "Scoring permutation 110000 of 362880\n",
      "Scoring permutation 120000 of 362880\n",
      "Scoring permutation 130000 of 362880\n",
      "Scoring permutation 140000 of 362880\n",
      "Scoring permutation 150000 of 362880\n",
      "Scoring permutation 160000 of 362880\n",
      "Scoring permutation 170000 of 362880\n",
      "Scoring permutation 180000 of 362880\n",
      "Scoring permutation 190000 of 362880\n",
      "Scoring permutation 200000 of 362880\n",
      "Scoring permutation 210000 of 362880\n",
      "Scoring permutation 220000 of 362880\n",
      "Scoring permutation 230000 of 362880\n",
      "Scoring permutation 240000 of 362880\n",
      "Scoring permutation 250000 of 362880\n",
      "Scoring permutation 260000 of 362880\n",
      "Scoring permutation 270000 of 362880\n",
      "Scoring permutation 280000 of 362880\n",
      "Scoring permutation 290000 of 362880\n",
      "Scoring permutation 300000 of 362880\n",
      "Scoring permutation 310000 of 362880\n",
      "Scoring permutation 320000 of 362880\n",
      "Scoring permutation 330000 of 362880\n",
      "Scoring permutation 340000 of 362880\n",
      "Scoring permutation 350000 of 362880\n",
      "Scoring permutation 360000 of 362880\n",
      "Wrote exhaustive scores to exhaust_5EA6_5EA6_Genes_testing set_maint_0.00001 on 5EA6.01_5EA6.01.15.gene.npy\n",
      "Generating exhaustive scores for sample 2\n",
      "Scoring permutation 0 of 362880\n",
      "Scoring permutation 10000 of 362880\n"
     ]
    },
    {
     "ename": "KeyboardInterrupt",
     "evalue": "",
     "output_type": "error",
     "traceback": [
      "\u001b[0;31m---------------------------------------------------------------------------\u001b[0m",
      "\u001b[0;31mKeyboardInterrupt\u001b[0m                         Traceback (most recent call last)",
      "Input \u001b[0;32mIn [11]\u001b[0m, in \u001b[0;36m<cell line: 1>\u001b[0;34m()\u001b[0m\n\u001b[0;32m----> 1\u001b[0m \u001b[43msaveExhaustive\u001b[49m\u001b[43m(\u001b[49m\u001b[43mref_char\u001b[49m\u001b[43m,\u001b[49m\u001b[43m \u001b[49m\u001b[43mhan_char\u001b[49m\u001b[43m,\u001b[49m\u001b[43m \u001b[49m\u001b[43mf_read\u001b[49m\u001b[43m)\u001b[49m\n",
      "Input \u001b[0;32mIn [7]\u001b[0m, in \u001b[0;36msaveExhaustive\u001b[0;34m(ref_char, han_char, f_read)\u001b[0m\n\u001b[1;32m     21\u001b[0m \u001b[38;5;28;01mfor\u001b[39;00m j, p \u001b[38;5;129;01min\u001b[39;00m \u001b[38;5;28menumerate\u001b[39m(exhaustive_alignments):\n\u001b[1;32m     22\u001b[0m     p_xml \u001b[38;5;241m=\u001b[39m minXml(ref_char, bases, stroke_set, p)\n\u001b[0;32m---> 23\u001b[0m     exhaustive_scores[j] \u001b[38;5;241m=\u001b[39m \u001b[43mgetXmlScore\u001b[49m\u001b[43m(\u001b[49m\u001b[43mp_xml\u001b[49m\u001b[43m)\u001b[49m\n\u001b[1;32m     24\u001b[0m     \u001b[38;5;28;01mif\u001b[39;00m j\u001b[38;5;241m%\u001b[39m\u001b[38;5;241m10000\u001b[39m \u001b[38;5;241m==\u001b[39m \u001b[38;5;241m0\u001b[39m:\n\u001b[1;32m     25\u001b[0m         \u001b[38;5;28mprint\u001b[39m(\u001b[38;5;124mf\u001b[39m\u001b[38;5;124m\"\u001b[39m\u001b[38;5;124mScoring permutation \u001b[39m\u001b[38;5;132;01m{\u001b[39;00mj\u001b[38;5;132;01m}\u001b[39;00m\u001b[38;5;124m of \u001b[39m\u001b[38;5;132;01m{\u001b[39;00m\u001b[38;5;28mlen\u001b[39m(exhaustive_scores)\u001b[38;5;132;01m}\u001b[39;00m\u001b[38;5;124m\"\u001b[39m)\n",
      "Input \u001b[0;32mIn [3]\u001b[0m, in \u001b[0;36mgetXmlScore\u001b[0;34m(xml_bstring)\u001b[0m\n\u001b[1;32m      1\u001b[0m \u001b[38;5;28;01mdef\u001b[39;00m \u001b[38;5;21mgetXmlScore\u001b[39m(xml_bstring):\n\u001b[1;32m      2\u001b[0m     stylusengine\u001b[38;5;241m.\u001b[39msetGenome(xml_bstring, \u001b[38;5;124mb\u001b[39m\u001b[38;5;124m\"\u001b[39m\u001b[38;5;124m\"\u001b[39m)\n\u001b[0;32m----> 3\u001b[0m     g \u001b[38;5;241m=\u001b[39m \u001b[43mstylusengine\u001b[49m\u001b[38;5;241;43m.\u001b[39;49m\u001b[43mgetGenome\u001b[49m\u001b[43m(\u001b[49m\u001b[43m[\u001b[49m\u001b[38;5;124;43mb\u001b[39;49m\u001b[38;5;124;43m\"\u001b[39;49m\u001b[38;5;124;43mall\u001b[39;49m\u001b[38;5;124;43m\"\u001b[39;49m\u001b[43m]\u001b[49m\u001b[43m)\u001b[49m\u001b[38;5;241m.\u001b[39mdecode()\n\u001b[1;32m      4\u001b[0m     score \u001b[38;5;241m=\u001b[39m \u001b[38;5;28mfloat\u001b[39m(\n\u001b[1;32m      5\u001b[0m             re\u001b[38;5;241m.\u001b[39msearch(\u001b[38;5;124mr\u001b[39m\u001b[38;5;124m\"\u001b[39m\u001b[38;5;124mscore=\u001b[39m\u001b[38;5;124m'\u001b[39m\u001b[38;5;124m([e\u001b[39m\u001b[38;5;124m\\\u001b[39m\u001b[38;5;124md.+-]+)\u001b[39m\u001b[38;5;124m'\u001b[39m\u001b[38;5;124m\"\u001b[39m, g)\u001b[38;5;241m.\u001b[39mgroup(\u001b[38;5;241m1\u001b[39m)\n\u001b[1;32m      6\u001b[0m         )\n\u001b[1;32m      7\u001b[0m     \u001b[38;5;28;01mreturn\u001b[39;00m score\n",
      "File \u001b[0;32m/usr/local/lib/python3.9/site-packages/stylusengine-0.0.0-py3.9-macosx-11-x86_64.egg/stylusengine.py:292\u001b[0m, in \u001b[0;36mgetGenome\u001b[0;34m(pvecDetail)\u001b[0m\n\u001b[1;32m    291\u001b[0m \u001b[38;5;28;01mdef\u001b[39;00m \u001b[38;5;21mgetGenome\u001b[39m(pvecDetail):\n\u001b[0;32m--> 292\u001b[0m     \u001b[38;5;28;01mreturn\u001b[39;00m \u001b[43m_stylusengine\u001b[49m\u001b[38;5;241;43m.\u001b[39;49m\u001b[43mgetGenome\u001b[49m\u001b[43m(\u001b[49m\u001b[43mpvecDetail\u001b[49m\u001b[43m)\u001b[49m\n",
      "\u001b[0;31mKeyboardInterrupt\u001b[0m: "
     ]
    }
   ],
   "source": [
    "saveExhaustive(ref_char, han_char, f_read)"
   ]
  },
  {
   "cell_type": "code",
   "execution_count": null,
   "id": "9789cb7e-a044-47b7-b34a-30326aeceaf0",
   "metadata": {},
   "outputs": [],
   "source": []
  }
 ],
 "metadata": {
  "kernelspec": {
   "display_name": "Python 3 (ipykernel)",
   "language": "python",
   "name": "python3"
  },
  "language_info": {
   "codemirror_mode": {
    "name": "ipython",
    "version": 3
   },
   "file_extension": ".py",
   "mimetype": "text/x-python",
   "name": "python",
   "nbconvert_exporter": "python",
   "pygments_lexer": "ipython3",
   "version": "3.9.12"
  }
 },
 "nbformat": 4,
 "nbformat_minor": 5
}
