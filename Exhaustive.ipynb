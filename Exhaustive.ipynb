{
 "cells": [
  {
   "cell_type": "markdown",
   "id": "f2a9246b-4385-4088-a00d-1c6145930007",
   "metadata": {},
   "source": [
    "# Run exaustive search for stroke arrangement using stylusengine to check scores and evaluate results"
   ]
  },
  {
   "cell_type": "code",
   "execution_count": 11,
   "id": "109b03c6-61f2-4840-9e7d-721e42b22205",
   "metadata": {},
   "outputs": [],
   "source": [
    "import os\n",
    "import re\n",
    "import sys\n",
    "\n",
    "import matplotlib.pyplot as plt\n",
    "import numpy as np\n",
    "\n",
    "from itertools import permutations\n",
    "from math import factorial\n",
    "\n",
    "from xmlparse import loadRef, loadGeometryBases, minXml\n",
    "from score_strokes import alignStrokes"
   ]
  },
  {
   "cell_type": "code",
   "execution_count": 2,
   "id": "c568b64e-b074-4415-b416-bba28060f799",
   "metadata": {},
   "outputs": [
    {
     "name": "stderr",
     "output_type": "stream",
     "text": [
      "2023-03-13T18:06:23.041591Z [INFO ] Stylus initialized - Stylus 1.5.0 [RELEASE - Feb 20 2023 13:35:24] (c) 2006-2009 Biologic Institute\n"
     ]
    },
    {
     "data": {
      "text/plain": [
       "b\"<?xml version='1.0' encoding='UTF-8' ?>\\n<genome xmlns='http://biologicinstitute.org/schemas/stylus/1.5'>\\n<seed processorID='4AFBBE2E-00CD-40B6-8A81-816F51B31EF6'>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</seed>\\n<bases></bases>\\n<statistics trialFirst='0' trialLast='0' trialAttempts='0' countBases='0' countRollbacks='0'>\\n<scoreRange>\\n<maximum trial='0' value='0.000000000000000' />\\n<minimum trial='0' value='1.000000000000000' />\\n</scoreRange>\\n<unitsRange>\\n<maximum trial='0' value='0.000000000000000' />\\n<minimum trial='0' value='18446744073709551616.000000000000000' />\\n</unitsRange>\\n<costRange>\\n<maximum trial='0' value='0.000000000000000' />\\n<minimum trial='0' value='18446744073709551616.000000000000000' />\\n</costRange>\\n<fitnessRange>\\n<maximum trial='0' value='0.000000000000000' />\\n<minimum trial='0' value='1.000000000000000' />\\n</fitnessRange>\\n<bases changed='0' inserted='0' deleted='0'>\\n<maximum trial='0' countBases='0' />\\n<minimum trial='0' countBases='0' />\\n</bases>\\n<rollbacks countRollbacks='0'>\\n<maximum trial='0' countRollbacks='0' />\\n<minimum trial='0' countRollbacks='0' />\\n</rollbacks>\\n<mutations>\\n<changes attempted='0' accepted='0' compared='0' countBases='0' silent='0' />\\n<copies attempted='0' accepted='0' compared='0' countBases='0' />\\n<deletions attempted='0' accepted='0' compared='0' countBases='0' />\\n<insertions attempted='0' accepted='0' compared='0' countBases='0' />\\n<transpositions attempted='0' accepted='0' compared='0' countBases='0' />\\n</mutations>\\n</statistics>\\n<lineage>\\n</lineage>\\n</genome>\\n\""
      ]
     },
     "execution_count": 2,
     "metadata": {},
     "output_type": "execute_result"
    }
   ],
   "source": [
    "#sys.path.append('/Users/douglasa6/Documents/stylus-master/src')\n",
    "\n",
    "import stylusengine\n",
    "\n",
    "\n",
    "stylusengine.setLogFile(b'errors.log')\n",
    "\"\"\"\n",
    "stylusengine.setScope(\n",
    "    b'file:////home/tulip/Documents/College/Stewart/stylusapp',\n",
    "    b'file:///home/tulip/Documents/College/Stewart/stylus'\n",
    ")\n",
    "\"\"\"\n",
    "stylusengine.setGenome(b\"\", b\"\")\n",
    "g = stylusengine.getGenome([b\"all\"])\n",
    "g"
   ]
  },
  {
   "cell_type": "code",
   "execution_count": 7,
   "id": "01094867-aaae-4c90-a917-303922592cfd",
   "metadata": {},
   "outputs": [],
   "source": [
    "def getXmlScore(xml_bstring):\n",
    "    stylusengine.setGenome(xml_bstring, b\"\")\n",
    "    g = stylusengine.getGenome([b\"all\"]).decode()\n",
    "    print(g)\n",
    "    score = float(\n",
    "            re.search(r\"score='([e\\d.+-]+)'\", g).group(1)\n",
    "        )\n",
    "    return score\n"
   ]
  },
  {
   "cell_type": "code",
   "execution_count": 8,
   "id": "eafefbf3-b66c-44c9-b8e9-555fb1212fc5",
   "metadata": {},
   "outputs": [],
   "source": [
    "f_read = [\"599\"]\n",
    "\n",
    "han_char = \"5EA6\"\n",
    "\n",
    "ref_g, ref_l, output_size = loadRef(han_char, \"Reference\")\n",
    "g_data, _, base_data, stroke_sets, stroke_orders, _ = loadGeometryBases(\"HanBitmap\", han_char, output_size, f_read = f_read)\n",
    "bad_data = []\n",
    "for i in range(len(g_data)):\n",
    "    if len(ref_g) is not len(g_data[i][0]):\n",
    "        bad_data.append(i)\n",
    "for i in bad_data[::-1]:\n",
    "    g_data.pop(i)\n",
    "    base_data.pop(i)\n",
    "    stroke_sets.pop(i)\n",
    "    stroke_orders.pop(i)\n",
    "        \n",
    "g, l = g_data[0]\n",
    "bases = base_data[0]\n",
    "stroke_set = stroke_sets[0]\n",
    "stroke_order = stroke_orders[0]\n"
   ]
  },
  {
   "cell_type": "code",
   "execution_count": 9,
   "id": "dbbbef04-fbee-43f6-89ab-d69863eb1203",
   "metadata": {},
   "outputs": [
    {
     "name": "stdout",
     "output_type": "stream",
     "text": [
      "[2 4 7 6 5 1 3 8 9] [6 7 5 4 1 2 3 8 9]\n"
     ]
    }
   ],
   "source": [
    "# reference-gene alignments are flipped along the index and value - reversing it\n",
    "heuristic_alignments_flipped = alignStrokes(g, ref_g, l, ref_l)\n",
    "heuristic_alignments = np.zeros(len(heuristic_alignments_flipped), dtype=int)\n",
    "heuristic_alignments[heuristic_alignments_flipped] = np.array([range(len(heuristic_alignments_flipped))])+1\n",
    "\n",
    "print(heuristic_alignments, stroke_order)"
   ]
  },
  {
   "cell_type": "code",
   "execution_count": 10,
   "id": "6d768de5-bd92-4655-a542-b009908e03d4",
   "metadata": {},
   "outputs": [
    {
     "name": "stdout",
     "output_type": "stream",
     "text": [
      "<?xml version='1.0' encoding='UTF-8' ?>\n",
      "<genome xmlns='http://biologicinstitute.org/schemas/stylus/1.5'>\n",
      "<seed processorID='4AFBBE2E-00CD-40B6-8A81-816F51B31EF6'>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</seed>\n",
      "<bases></bases>\n",
      "<statistics trialFirst='0' trialLast='0' trialAttempts='0' countBases='0' countRollbacks='0'>\n",
      "<scoreRange>\n",
      "<maximum trial='0' value='0.000000000000000' />\n",
      "<minimum trial='0' value='1.000000000000000' />\n",
      "</scoreRange>\n",
      "<unitsRange>\n",
      "<maximum trial='0' value='0.000000000000000' />\n",
      "<minimum trial='0' value='18446744073709551616.000000000000000' />\n",
      "</unitsRange>\n",
      "<costRange>\n",
      "<maximum trial='0' value='0.000000000000000' />\n",
      "<minimum trial='0' value='18446744073709551616.000000000000000' />\n",
      "</costRange>\n",
      "<fitnessRange>\n",
      "<maximum trial='0' value='0.000000000000000' />\n",
      "<minimum trial='0' value='1.000000000000000' />\n",
      "</fitnessRange>\n",
      "<bases changed='0' inserted='0' deleted='0'>\n",
      "<maximum trial='0' countBases='0' />\n",
      "<minimum trial='0' countBases='0' />\n",
      "</bases>\n",
      "<rollbacks countRollbacks='0'>\n",
      "<maximum trial='0' countRollbacks='0' />\n",
      "<minimum trial='0' countRollbacks='0' />\n",
      "</rollbacks>\n",
      "<mutations>\n",
      "<changes attempted='0' accepted='0' compared='0' countBases='0' silent='0' />\n",
      "<copies attempted='0' accepted='0' compared='0' countBases='0' />\n",
      "<deletions attempted='0' accepted='0' compared='0' countBases='0' />\n",
      "<insertions attempted='0' accepted='0' compared='0' countBases='0' />\n",
      "<transpositions attempted='0' accepted='0' compared='0' countBases='0' />\n",
      "</mutations>\n",
      "</statistics>\n",
      "<lineage>\n",
      "</lineage>\n",
      "</genome>\n",
      "\n"
     ]
    },
    {
     "ename": "AttributeError",
     "evalue": "'NoneType' object has no attribute 'group'",
     "output_type": "error",
     "traceback": [
      "\u001b[0;31m---------------------------------------------------------------------------\u001b[0m",
      "\u001b[0;31mAttributeError\u001b[0m                            Traceback (most recent call last)",
      "Input \u001b[0;32mIn [10]\u001b[0m, in \u001b[0;36m<cell line: 3>\u001b[0;34m()\u001b[0m\n\u001b[1;32m      1\u001b[0m heuristic_xml \u001b[38;5;241m=\u001b[39m minXml(han_char, bases, stroke_set, heuristic_alignments)\n\u001b[1;32m      2\u001b[0m original_xml \u001b[38;5;241m=\u001b[39m minXml(han_char, bases, stroke_set, stroke_order)\n\u001b[0;32m----> 3\u001b[0m heuristic_score \u001b[38;5;241m=\u001b[39m \u001b[43mgetXmlScore\u001b[49m\u001b[43m(\u001b[49m\u001b[43mheuristic_xml\u001b[49m\u001b[43m)\u001b[49m\n\u001b[1;32m      4\u001b[0m original_score \u001b[38;5;241m=\u001b[39m getXmlScore(original_xml)\n",
      "Input \u001b[0;32mIn [7]\u001b[0m, in \u001b[0;36mgetXmlScore\u001b[0;34m(xml_bstring)\u001b[0m\n\u001b[1;32m      3\u001b[0m g \u001b[38;5;241m=\u001b[39m stylusengine\u001b[38;5;241m.\u001b[39mgetGenome([\u001b[38;5;124mb\u001b[39m\u001b[38;5;124m\"\u001b[39m\u001b[38;5;124mall\u001b[39m\u001b[38;5;124m\"\u001b[39m])\u001b[38;5;241m.\u001b[39mdecode()\n\u001b[1;32m      4\u001b[0m \u001b[38;5;28mprint\u001b[39m(g)\n\u001b[1;32m      5\u001b[0m score \u001b[38;5;241m=\u001b[39m \u001b[38;5;28mfloat\u001b[39m(\n\u001b[0;32m----> 6\u001b[0m         \u001b[43mre\u001b[49m\u001b[38;5;241;43m.\u001b[39;49m\u001b[43msearch\u001b[49m\u001b[43m(\u001b[49m\u001b[38;5;124;43mr\u001b[39;49m\u001b[38;5;124;43m\"\u001b[39;49m\u001b[38;5;124;43mscore=\u001b[39;49m\u001b[38;5;124;43m'\u001b[39;49m\u001b[38;5;124;43m([e\u001b[39;49m\u001b[38;5;124;43m\\\u001b[39;49m\u001b[38;5;124;43md.+-]+)\u001b[39;49m\u001b[38;5;124;43m'\u001b[39;49m\u001b[38;5;124;43m\"\u001b[39;49m\u001b[43m,\u001b[49m\u001b[43m \u001b[49m\u001b[43mg\u001b[49m\u001b[43m)\u001b[49m\u001b[38;5;241;43m.\u001b[39;49m\u001b[43mgroup\u001b[49m(\u001b[38;5;241m1\u001b[39m)\n\u001b[1;32m      7\u001b[0m     )\n\u001b[1;32m      8\u001b[0m \u001b[38;5;28;01mreturn\u001b[39;00m score\n",
      "\u001b[0;31mAttributeError\u001b[0m: 'NoneType' object has no attribute 'group'"
     ]
    }
   ],
   "source": [
    "heuristic_xml = minXml(han_char, bases, stroke_set, heuristic_alignments)\n",
    "original_xml = minXml(han_char, bases, stroke_set, stroke_order)\n",
    "heuristic_score = getXmlScore(heuristic_xml)\n",
    "original_score = getXmlScore(original_xml)"
   ]
  },
  {
   "cell_type": "code",
   "execution_count": null,
   "id": "4ab21c23-ef8e-41c5-b93f-0c097c52c4d3",
   "metadata": {},
   "outputs": [],
   "source": [
    "def saveExhaustive(ref_char, han_char, f_read, exhaust_dir = \"Exhaustive\"):\n",
    "    ref_g, ref_l, output_size = loadRef(ref_char, \"Reference\")\n",
    "    g_data, _, base_data, stroke_sets, _, f_names = loadGeometryBases(\"HanBitmap\", han_char, output_size, f_read = f_read)\n",
    "    print(f\"Pruning bad data from {len(f_read)} files...\")\n",
    "    bad_data = []\n",
    "    for i in range(len(g_data)):\n",
    "        if len(ref_g) != len(g_data[i][0]) or len(ref_g) != len(g_data[i][1]):\n",
    "            bad_data.append(i)\n",
    "    for i in bad_data[::-1]:\n",
    "        g_data.pop(i)\n",
    "        base_data.pop(i)\n",
    "        stroke_sets.pop(i)\n",
    "    print(f\"Pruning finished, dropped {len(f_read)-len(g_data)}/{len(f_read)} bad samples\")\n",
    "    for i in range(len(g_data)):\n",
    "        print(f\"Generating exhaustive scores for sample {f_read[i]}\")\n",
    "        g, l = g_data[i]\n",
    "        bases = base_data[i]\n",
    "        stroke_set = stroke_sets[i]\n",
    "        exhaustive_alignments = permutations(range(1, len(l)+1))\n",
    "        exhaustive_scores = np.zeros(factorial(len(l)))\n",
    "        for j, p in enumerate(exhaustive_alignments):\n",
    "            p_xml = minXml(ref_char, bases, stroke_set, p)\n",
    "            exhaustive_scores[j] = getXmlScore(p_xml)\n",
    "            if j%10000 == 0:\n",
    "                print(f\"Scoring permutation {j} of {len(exhaustive_scores)}\")\n",
    "        f_name_cleaned = f_names[i].replace(\"/\", \"_\")\n",
    "        print(f\"Wrote exhaustive scores to {exhaust_dir}/exhaust_{ref_char}_{han_char}_{f_name_cleaned}.npy\")\n",
    "        np.save(f\"{exhaust_dir}/exhaust_{ref_char}_{han_char}_{f_name_cleaned}.npy\", exhaustive_scores)\n"
   ]
  },
  {
   "cell_type": "code",
   "execution_count": null,
   "id": "9101c320-3e10-4af0-b607-50b366093f6b",
   "metadata": {},
   "outputs": [],
   "source": [
    "stylusengine.setGenome(heuristic_xml, b\"\")\n",
    "g = stylusengine.getGenome([b\"all\"]).decode()\n",
    "score = float(\n",
    "            re.search(r\"score='([e\\d.+-]+)'\", g).group(1)\n",
    "        )"
   ]
  },
  {
   "cell_type": "code",
   "execution_count": null,
   "id": "de4fd225-2b8e-4a13-8448-e789c71e6881",
   "metadata": {},
   "outputs": [],
   "source": [
    "score, original_score"
   ]
  },
  {
   "cell_type": "code",
   "execution_count": null,
   "id": "92ec08b0-59b7-430a-be3b-24b912b66118",
   "metadata": {},
   "outputs": [],
   "source": [
    "f_read = [\"400\"]\n",
    "f_read = [i for i in range(2, 600)]\n",
    "ref_char = \"5EA6\"\n",
    "han_char = \"5EA6\""
   ]
  },
  {
   "cell_type": "code",
   "execution_count": null,
   "id": "f6b78949-6b00-4e3f-aabb-756f32cd769a",
   "metadata": {},
   "outputs": [],
   "source": [
    "saveExhaustive(ref_char, han_char, f_read)"
   ]
  },
  {
   "cell_type": "code",
   "execution_count": null,
   "id": "9789cb7e-a044-47b7-b34a-30326aeceaf0",
   "metadata": {},
   "outputs": [],
   "source": []
  }
 ],
 "metadata": {
  "kernelspec": {
   "display_name": "Python 3 (ipykernel)",
   "language": "python",
   "name": "python3"
  },
  "language_info": {
   "codemirror_mode": {
    "name": "ipython",
    "version": 3
   },
   "file_extension": ".py",
   "mimetype": "text/x-python",
   "name": "python",
   "nbconvert_exporter": "python",
   "pygments_lexer": "ipython3",
   "version": "3.10.9"
  }
 },
 "nbformat": 4,
 "nbformat_minor": 5
}
