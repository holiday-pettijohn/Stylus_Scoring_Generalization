{
 "cells": [
  {
   "cell_type": "markdown",
   "id": "1a8aea89-df85-4fe6-83ca-dfd3c49412a3",
   "metadata": {},
   "source": [
    "# Get the Base Information from a Gene File"
   ]
  },
  {
   "cell_type": "code",
   "execution_count": 1,
   "id": "bba69811-5381-4015-af4f-bbff3be5f2b6",
   "metadata": {},
   "outputs": [],
   "source": [
    "import os\n",
    "import re\n",
    "import sys\n",
    "import xmltodict"
   ]
  },
  {
   "cell_type": "code",
   "execution_count": 2,
   "id": "0ada6b99-2dae-4185-a332-7d0c67f69b2a",
   "metadata": {},
   "outputs": [
    {
     "name": "stderr",
     "output_type": "stream",
     "text": [
      "2022-06-28T22:27:26.854024Z [INFO ] Stylus initialized - Stylus 1.5.0 [RELEASE - Jun 28 2022 11:17:28] (c) 2006-2009 Biologic Institute\n"
     ]
    },
    {
     "data": {
      "text/plain": [
       "0"
      ]
     },
     "execution_count": 2,
     "metadata": {},
     "output_type": "execute_result"
    }
   ],
   "source": [
    "sys.path.append('/Users/douglasa6/Documents/stylus-master/src')\n",
    "\n",
    "import stylusengine\n",
    "\n",
    "stylusengine.setLogFile(b'errors.log')\n",
    "stylusengine.setScope(\n",
    "    b'file:///Applications/Stylus.app/Contents/Resources/hans',\n",
    "    b'file:///Applications/Stylus.app/Contents/Resources/stylus/schemas'\n",
    ")"
   ]
  },
  {
   "cell_type": "code",
   "execution_count": 3,
   "id": "4788cd10-b7cf-44a3-b623-14dd0468805a",
   "metadata": {},
   "outputs": [],
   "source": [
    "def extractBases(xfile):\n",
    "    \"\"\"\n",
    "    Extract essential information including han charactere, bases, stroke base start/stop points, and stroke order from an XML gene file\n",
    "    \"\"\"\n",
    "    xml_data = open(xfile, \"r\").read()\n",
    "    root = xmltodict.parse(xml_data)\n",
    "    bases = root[\"genome\"][\"bases\"]\n",
    "    strokes = root[\"genome\"][\"genes\"][\"gene\"][\"hanReferences\"][\"hanReference\"][\"strokes\"][\"stroke\"]\n",
    "    stroke_series = [(int(s[\"@baseFirst\"]), int(s[\"@baseLast\"])) for s in strokes]\n",
    "    stroke_order = [int(s[\"@correspondsTo\"]) for s in strokes]\n",
    "    han_char = root[\"genome\"][\"genes\"][\"gene\"][\"hanReferences\"][\"hanReference\"][\"@unicode\"]\n",
    "    return (han_char, bases, stroke_series, stroke_order)\n",
    "\n",
    "def minXml(han_char, bases, stroke_bases, stroke_order):\n",
    "    \"\"\"\n",
    "    Convert a set of minimal information for an xml Stylus input into an XML bytestring\n",
    "    \"\"\"\n",
    "    xml = b\"<?xml version='1.0' encoding='UTF-8' ?>\\n<genome xmlns='http://biologicinstitute.org/schemas/stylus/1.5'>\\n\"\n",
    "    xml += bytes(f\"<bases>{bases}</bases>\\n\", \"UTF-8\")\n",
    "    xml += bytes(f\"<genes>\\n<gene baseFirst='1' baseLast='{len(bases)}'>\\n<hanReferences>\\n<hanReference unicode='{han_char}'>\\n<strokes>\\n\", \"UTF-8\")\n",
    "    for i, base in enumerate(stroke_bases):\n",
    "        first, last = base\n",
    "        xml += bytes(f\"<stroke baseFirst='{first}' baseLast='{last}' correspondsTo='{stroke_order[i]}' />\\n\", \"UTF-8\")\n",
    "    xml += b\"</strokes>\\n</hanReference>\\n</hanReferences>\\n</gene>\\n</genes>\\n</genome>\"\n",
    "    return xml\n",
    "    "
   ]
  },
  {
   "cell_type": "code",
   "execution_count": 4,
   "id": "a92e46a2-888f-4893-9522-c7885141cf22",
   "metadata": {},
   "outputs": [],
   "source": [
    "char, bases, strokes, order = extractBases(\"./Genes/testing set/maint_0.2 on 5EA6.01/5EA6.01.1.gene\")"
   ]
  },
  {
   "cell_type": "code",
   "execution_count": 5,
   "id": "09b9dc4b-7044-430d-87f7-3fad937fa48b",
   "metadata": {},
   "outputs": [
    {
     "name": "stdout",
     "output_type": "stream",
     "text": [
      "<?xml version='1.0' encoding='UTF-8' ?>\n",
      "<genome xmlns='http://biologicinstitute.org/schemas/stylus/1.5'>\n",
      "<bases>ATGCACTATCCTTGTTCAAGTGGTGGTGTCGAAGTATTTTTACAGTGTAGAGCGCCCACTACGACTACCCGGTCCCGATGTGCTCGGTTGGAAAGGTCAATTAGTGTATTCAGCAAACCACCGTTACCCGACACTATAGAAGGTCCACACATAGGTGGCAGCGGTAGGAGCAGGACGAAGACGTGTCACTATCACTACTACCAGAAGGACTCAGGTAAAGATACCGTAGAATCCGCAATTGCACTAGCTTTAACGTTGATCGCGGTGGCCAGGGAATGGAGACGCAAGTGGCACTGTACGGTAAGAATCCTGTCCTGGAAGCTCTATTTTGATCGGACCTATCGACAGCCCTCACCATCCTCTCATTCAGTTTCGGTTGTTTGA</bases>\n",
      "<genes>\n",
      "<gene baseFirst='1' baseLast='384'>\n",
      "<hanReferences>\n",
      "<hanReference unicode='5EA6'>\n",
      "<strokes>\n",
      "<stroke baseFirst='4' baseLast='12' correspondsTo='6' />\n",
      "<stroke baseFirst='19' baseLast='27' correspondsTo='7' />\n",
      "<stroke baseFirst='34' baseLast='42' correspondsTo='5' />\n",
      "<stroke baseFirst='52' baseLast='69' correspondsTo='4' />\n",
      "<stroke baseFirst='115' baseLast='123' correspondsTo='1' />\n",
      "<stroke baseFirst='154' baseLast='174' correspondsTo='2' />\n",
      "<stroke baseFirst='187' baseLast='222' correspondsTo='3' />\n",
      "<stroke baseFirst='232' baseLast='291' correspondsTo='8' />\n",
      "<stroke baseFirst='346' baseLast='381' correspondsTo='9' />\n",
      "</strokes>\n",
      "</hanReference>\n",
      "</hanReferences>\n",
      "</gene>\n",
      "</genes>\n",
      "</genome>\n"
     ]
    }
   ],
   "source": [
    "x = minXml(char, bases, strokes, order)\n",
    "print(x.decode())"
   ]
  },
  {
   "cell_type": "code",
   "execution_count": 6,
   "id": "93ce5b12-ee49-4357-8c5c-cb28501eedbf",
   "metadata": {},
   "outputs": [
    {
     "data": {
      "text/plain": [
       "0.2020960507841868"
      ]
     },
     "execution_count": 6,
     "metadata": {},
     "output_type": "execute_result"
    }
   ],
   "source": [
    "stylusengine.setGenome(x, b\"\")\n",
    "g = stylusengine.getGenome([b\"all\"]).decode()\n",
    "s = re.search(r\"score='([e\\d.+-]+)'\", g)\n",
    "score = float(\n",
    "            re.search(r\"score='([e\\d.+-]+)'\", g).group(1)\n",
    "        )\n",
    "score"
   ]
  },
  {
   "cell_type": "code",
   "execution_count": null,
   "id": "8cb7b452-a3c1-4fb9-a86e-84e1c540f986",
   "metadata": {},
   "outputs": [],
   "source": []
  }
 ],
 "metadata": {
  "kernelspec": {
   "display_name": "Python 3 (ipykernel)",
   "language": "python",
   "name": "python3"
  },
  "language_info": {
   "codemirror_mode": {
    "name": "ipython",
    "version": 3
   },
   "file_extension": ".py",
   "mimetype": "text/x-python",
   "name": "python",
   "nbconvert_exporter": "python",
   "pygments_lexer": "ipython3",
   "version": "3.9.12"
  }
 },
 "nbformat": 4,
 "nbformat_minor": 5
}
