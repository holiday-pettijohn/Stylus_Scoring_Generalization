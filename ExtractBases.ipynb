{
 "cells": [
  {
   "cell_type": "markdown",
   "id": "1a8aea89-df85-4fe6-83ca-dfd3c49412a3",
   "metadata": {},
   "source": [
    "# Get the Base Information from a Gene File"
   ]
  },
  {
   "cell_type": "code",
   "execution_count": 1,
   "id": "bba69811-5381-4015-af4f-bbff3be5f2b6",
   "metadata": {},
   "outputs": [],
   "source": [
    "import os\n",
    "import xmltodict"
   ]
  },
  {
   "cell_type": "code",
   "execution_count": 2,
   "id": "4788cd10-b7cf-44a3-b623-14dd0468805a",
   "metadata": {},
   "outputs": [],
   "source": [
    "def extractBases(xfile):\n",
    "    \"\"\"\n",
    "    Extract essential information including han charactere, bases, stroke base start/stop points, and stroke order from an XML gene file\n",
    "    \"\"\"\n",
    "    xml_data = open(xfile, \"r\").read()\n",
    "    root = xmltodict.parse(xml_data)\n",
    "    bases = root[\"genome\"][\"bases\"]\n",
    "    strokes = root[\"genome\"][\"genes\"][\"gene\"][\"hanReferences\"][\"hanReference\"][\"strokes\"][\"stroke\"]\n",
    "    ordered_strokes = {int(s[\"@correspondsTo\"]): (int(s[\"@baseFirst\"]), int(s[\"@baseLast\"])) for s in strokes}\n",
    "    ordered_stroke_list = [ordered_strokes[i+1] for i in range(len(ordered_strokes))]\n",
    "    han_char = root[\"genome\"][\"genes\"][\"gene\"][\"hanReferences\"][\"hanReference\"][\"@unicode\"]\n",
    "    return (han_char, bases, ordered_stroke_list)\n",
    "\n",
    "def minXml(han_char, bases, stroke_bases, stroke_order):\n",
    "    \"\"\"\n",
    "    Convert a set of minimal information for an xml Stylus input into an XML bytestring\n",
    "    \"\"\"\n",
    "    xml = b\"<?xml version='1.0' encoding='UTF-8' ?>\\n<genome xmlns='http://biologicinstitute.org/schemas/stylus/1.5'>\\n\"\n",
    "    xml += bytes(f\"<bases>{bases}</bases>\\n\", \"UTF-8\")\n",
    "    xml += bytes(f\"<genes>\\n<gene baseFirst='1' baseLast='{len(bases)}'>\\n<hanReferences>\\n<hanReference unicode='{han_char}'>\\n<strokes>\\n\", \"UTF-8\")\n",
    "    for i in stroke_order:\n",
    "        first, last = stroke_bases[i]\n",
    "        xml += bytes(f\"<stroke baseFirst='{first}' baseLast='{last}' correspondsTo='{i+1}' />\\n\", \"UTF-8\")\n",
    "    xml += b\"</strokes>\\n</hanReference>\\n</hanReferences>\\n</gene>\\n</genes>\\n</genome>\"\n",
    "    return xml\n",
    "    "
   ]
  },
  {
   "cell_type": "code",
   "execution_count": 3,
   "id": "a92e46a2-888f-4893-9522-c7885141cf22",
   "metadata": {},
   "outputs": [],
   "source": [
    "char, bases, strokes = extractBases(\"./Genes/9E7C.02L.gene\")"
   ]
  },
  {
   "cell_type": "code",
   "execution_count": 4,
   "id": "09b9dc4b-7044-430d-87f7-3fad937fa48b",
   "metadata": {},
   "outputs": [
    {
     "name": "stdout",
     "output_type": "stream",
     "text": [
      "<?xml version='1.0' encoding='UTF-8' ?>\n",
      "<genome xmlns='http://biologicinstitute.org/schemas/stylus/1.5'>\n",
      "<bases>ATGCAGCACCATCAACAAGTCGGGACTGCTACCGGCCCGTTGTTCTTTGGTAGCAGTGTTGGACTGGTAGGCGTTATCATCATAATAATAATCGTGGTGCTCCTCGAACTTCAATCACAGTCTCCACCACCGTCACCGTCACCTCCGGCTAGCAGCGTAGGACGGGCGGGCGGGGGAGGTGGAAGAGGCGGTGTAAGCCGCGTCAGCAGTGTAGGCGGGGTCCAGGTACGTGGAGTAGGTAGAGGGGGGAGTGGGGTACTAGATCTACTCTATTACCAACAACAGCGCGAAGCTGTTCACGCCGGTCCTCCCCCACCGCTGGTTCCGGATCATGAACAGAATAACAACGAGCAGAATGACGTTCAAACTCTACCTGCGTCACAAATCCCATGTCTTCTATGTCGGCGGCGGCGCCGTCGGTGGCGGCGACATCACATCCCACAGCCACAAGTAACCGAGACTCTTCCTCCTCCACCACGAGCTAAATATGTCCCATATCTACCCCCTAGTGGGGGTAGAGGGGGGGGCAGTAGAGGAGCGGAGTACCTGCTGTTCCTTCTGTTATTGTTCTTCCTCCTTTTGTTATTACAGCTCGCGCCCACAGCCGCGACTGCAGCCACAACTCAATACCAGTACTATTACCCTTATTATCAACAGGTGCAGGTGCAGGTTGTTGTGGTGGTCTTAGTTTTGCCGCTACCCGATGCTCCCGCACCTCCGCCACTCCCCGCGGAGCAAGTCATTATCCTTCTAATGCTGCCGTTAGCTGGTGGTGGCAGCGTGCCCTTTTTTTTACCCGGTACAGCTACAACATACCAATATCGGTATTATCGGGATGCGTCCTCTCCATCATAG</bases>\n",
      "<genes>\n",
      "<gene baseFirst='1' baseLast='855'>\n",
      "<hanReferences>\n",
      "<hanReference unicode='9E7C'>\n",
      "<strokes>\n",
      "<stroke baseFirst='271' baseLast='285' correspondsTo='1' />\n",
      "<stroke baseFirst='238' baseLast='255' correspondsTo='2' />\n",
      "<stroke baseFirst='547' baseLast='588' correspondsTo='3' />\n",
      "<stroke baseFirst='595' baseLast='657' correspondsTo='4' />\n",
      "<stroke baseFirst='325' baseLast='360' correspondsTo='5' />\n",
      "<stroke baseFirst='391' baseLast='429' correspondsTo='6' />\n",
      "<stroke baseFirst='307' baseLast='318' correspondsTo='7' />\n",
      "<stroke baseFirst='439' baseLast='450' correspondsTo='8' />\n",
      "<stroke baseFirst='466' baseLast='477' correspondsTo='9' />\n",
      "<stroke baseFirst='373' baseLast='384' correspondsTo='10' />\n",
      "<stroke baseFirst='508' baseLast='537' correspondsTo='11' />\n",
      "<stroke baseFirst='73' baseLast='105' correspondsTo='12' />\n",
      "<stroke baseFirst='112' baseLast='150' correspondsTo='13' />\n",
      "<stroke baseFirst='169' baseLast='192' correspondsTo='14' />\n",
      "<stroke baseFirst='4' baseLast='18' correspondsTo='15' />\n",
      "<stroke baseFirst='40' baseLast='57' correspondsTo='16' />\n",
      "<stroke baseFirst='25' baseLast='33' correspondsTo='17' />\n",
      "<stroke baseFirst='787' baseLast='795' correspondsTo='18' />\n",
      "<stroke baseFirst='802' baseLast='822' correspondsTo='19' />\n",
      "<stroke baseFirst='769' baseLast='780' correspondsTo='20' />\n",
      "<stroke baseFirst='670' baseLast='693' correspondsTo='21' />\n",
      "<stroke baseFirst='706' baseLast='723' correspondsTo='22' />\n",
      "<stroke baseFirst='739' baseLast='759' correspondsTo='23' />\n",
      "<stroke baseFirst='838' baseLast='852' correspondsTo='24' />\n",
      "</strokes>\n",
      "</hanReference>\n",
      "</hanReferences>\n",
      "</gene>\n",
      "</genes>\n",
      "</genome>\n"
     ]
    }
   ],
   "source": [
    "print(minXml(char, bases, strokes, range(len(strokes))).decode())"
   ]
  },
  {
   "cell_type": "code",
   "execution_count": null,
   "id": "93ce5b12-ee49-4357-8c5c-cb28501eedbf",
   "metadata": {},
   "outputs": [],
   "source": []
  }
 ],
 "metadata": {
  "kernelspec": {
   "display_name": "Python 3 (ipykernel)",
   "language": "python",
   "name": "python3"
  },
  "language_info": {
   "codemirror_mode": {
    "name": "ipython",
    "version": 3
   },
   "file_extension": ".py",
   "mimetype": "text/x-python",
   "name": "python",
   "nbconvert_exporter": "python",
   "pygments_lexer": "ipython3",
   "version": "3.9.12"
  }
 },
 "nbformat": 4,
 "nbformat_minor": 5
}
