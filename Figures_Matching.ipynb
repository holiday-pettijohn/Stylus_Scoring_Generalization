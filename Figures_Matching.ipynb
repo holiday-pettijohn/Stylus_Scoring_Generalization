{
 "cells": [
  {
   "cell_type": "markdown",
   "id": "34e69c38-36b8-4b2d-bb91-87a4d25d099f",
   "metadata": {},
   "source": [
    "# Generate figures based on the data from Stylus scores"
   ]
  },
  {
   "cell_type": "code",
   "execution_count": 1,
   "id": "4b41effa-f78b-47a0-a0aa-bc8abe0f15cb",
   "metadata": {},
   "outputs": [],
   "source": [
    "import os\n",
    "import re\n",
    "import sys\n",
    "import xmltodict\n",
    "\n",
    "import matplotlib.pyplot as plt\n",
    "import numpy as np\n",
    "\n",
    "from itertools import permutations\n",
    "from PIL import Image, ImageDraw\n",
    "from random import randint, seed\n",
    "\n",
    "from xmlparse import xmlToGeometry, loadRef, loadGeometry, loadGeometryFNames\n",
    "from score_strokes import alignStrokes, alignStrokesResolve\n",
    "\n",
    "import numpy as np"
   ]
  },
  {
   "cell_type": "code",
   "execution_count": 2,
   "id": "14d8a4d8-3f2b-4a6d-adde-bc5a1b3bc3ff",
   "metadata": {},
   "outputs": [
    {
     "name": "stdout",
     "output_type": "stream",
     "text": [
      "9 9\n"
     ]
    }
   ],
   "source": [
    "han_char = \"5EA6\"\n",
    "ref_g, ref_l, output_size = loadRef(han_char, \"Reference\")\n",
    "g, l = loadGeometry(\"HanBitmap\", han_char, output_size, f_read = [\"54\"])[0]\n",
    "print(len(ref_g), len(g))"
   ]
  },
  {
   "cell_type": "code",
   "execution_count": 3,
   "id": "a0da83d8-5e96-45e5-b8fc-a7904acd35df",
   "metadata": {},
   "outputs": [],
   "source": [
    "alignments = np.array(alignStrokes(g, ref_g, l, ref_l), dtype=int)"
   ]
  },
  {
   "cell_type": "code",
   "execution_count": 4,
   "id": "f9ef688d-69a9-4423-ab97-68c086c4f3fb",
   "metadata": {},
   "outputs": [
    {
     "data": {
      "image/png": "[encoded data removed]",
      "text/plain": [
       "<PIL.Image.Image image mode=RGBA size=450x460 at 0x7FA061C67940>"
      ]
     },
     "metadata": {},
     "output_type": "display_data"
    }
   ],
   "source": [
    "img = Image.new(mode=\"RGBA\", size=output_size)\n",
    "seed(ref_l[0][0])\n",
    "colors = [(randint(0, 100), randint(0, 100), randint(0, 100)) for _ in range(len(ref_l)+1)]\n",
    "colors_t = [(c[0], c[1], c[2], 70) for c in colors]\n",
    "\n",
    "for i, r in enumerate(alignments):\n",
    "    draw = ImageDraw.Draw(img)\n",
    "    for a in range(len(g[i])-1):\n",
    "        x1, y1 = g[i][a]\n",
    "        x2, y2 = g[i][a+1]\n",
    "        y1 = -(y1-output_size[1]/2)+output_size[1]/2\n",
    "        y2 = -(y2-output_size[1]/2)+output_size[1]/2\n",
    "        draw.line(((x1, y1), (x2, y2)), width=6, fill=colors[r])\n",
    "\n",
    "for i, c in enumerate(colors_t[:-1]):\n",
    "    draw = ImageDraw.Draw(img)\n",
    "    for a in range(len(ref_g[i])-1):\n",
    "        x1, y1 = ref_g[i][a]\n",
    "        x2, y2 = ref_g[i][a+1]\n",
    "        y1 = -(y1-output_size[1]/2)+output_size[1]/2\n",
    "        y2 = -(y2-output_size[1]/2)+output_size[1]/2\n",
    "        draw.line(((x1, y1), (x2, y2)), width=3, fill=c)\n",
    "display(img)\n",
    "img.save(f\"{han_char}_matching.png\")"
   ]
  },
  {
   "cell_type": "code",
   "execution_count": 5,
   "id": "f49417e8-65dd-4086-85af-b588596f1aa7",
   "metadata": {},
   "outputs": [
    {
     "data": {
      "text/plain": [
       "True"
      ]
     },
     "execution_count": 5,
     "metadata": {},
     "output_type": "execute_result"
    }
   ],
   "source": [
    "perms = np.array([i for i in permutations(range(1, 10))]) # generate permutation map so we can reference which stroke alignment corrisponds to the max exhaustive scores\n",
    "\n",
    "# 400_exhaust.npy in model mapping\n",
    "exhaustive_scores = np.load(\"Exhaustive/exhaust_5EA6_5EA6_Genes_testing set_maint_0.2 on 5EA6.01_5EA6.01.38.gene.npy\")\n",
    "max_exhaustive = np.max(exhaustive_scores)\n",
    "max_exhaustive_perm = perms[np.argmax(exhaustive_scores)]\n",
    "\n",
    "alignment_ind = np.argmax(np.array([(perms[i] == alignments+1).all() for i in range(len(perms))]))\n",
    "\n",
    "alignment_ind == np.argmax(exhaustive_scores) # check if the score for alignment is the same as the one for exhastive max"
   ]
  },
  {
   "cell_type": "code",
   "execution_count": 6,
   "id": "90542b6e-fc65-49c8-a2cb-8a70e774fc45",
   "metadata": {},
   "outputs": [],
   "source": [
    "def sortExhaustiveScores(ref_char, han_char, f_read, exhaust_dir = \"Exhaustive\", conflict_resolution = False):\n",
    "    exhaust_alignment_scores = []\n",
    "    identical_alignments = []\n",
    "    ref_g, ref_l, output_size = loadRef(ref_char, \"Reference\")\n",
    "    geometries, files = loadGeometryFNames(\"HanBitmap\", han_char, output_size, f_read = f_read)\n",
    "    for i in range(len(geometries)):\n",
    "        (g, l), f = geometries[i], files[i].replace(\"/\", \"_\")\n",
    "        if len(g) == len(ref_g) or conflict_resolution:\n",
    "            if conflict_resolution:\n",
    "                alignments = np.array(alignStrokesResolve(g, ref_g, l, ref_l), dtype=int)+1\n",
    "            else:\n",
    "                alignments = np.array(alignStrokes(g, ref_g, l, ref_l), dtype=int)+1\n",
    "            npy_file = f\"{exhaust_dir}/exhaust_{ref_char}_{han_char}_{f}.npy\"\n",
    "            if os.path.isfile(npy_file):\n",
    "                exhaustive_scores = np.load(f\"{exhaust_dir}/exhaust_{ref_char}_{han_char}_{f}.npy\")\n",
    "                max_exhaustive = np.max(exhaustive_scores)\n",
    "                alignment_ind = np.argmax(np.array([(perms[i] == alignments).all() for i in range(len(perms))]))\n",
    "                exhaust_alignment_scores.append((max_exhaustive, exhaustive_scores[alignment_ind]))\n",
    "                identical_alignments.append(np.argmax(exhaustive_scores) == alignment_ind)\n",
    "                if np.argmax(exhaustive_scores) != alignment_ind:\n",
    "                    print(f\"{f_read[i]},\")\n",
    "    exhaust_alignment_scores = np.array(exhaust_alignment_scores)\n",
    "    identical_alignments = np.array(identical_alignments)\n",
    "    return exhaust_alignment_scores, identical_alignments"
   ]
  },
  {
   "cell_type": "code",
   "execution_count": 7,
   "id": "e0322561-a4c5-4432-abda-6355bb539ea5",
   "metadata": {},
   "outputs": [],
   "source": [
    "ref_char = \"5EA6\"\n",
    "han_char = \"5EA6\"\n",
    "f_read = [\"54\"]\n",
    "exhaust_vs_heuristic, identical_counts = sortExhaustiveScores(ref_char, han_char, f_read)\n",
    "# exhaust_5EA6_5EA6_Genes_testing set_maint_0.2 on 5EA6.01_5EA6.01.38.gene.npy"
   ]
  },
  {
   "cell_type": "code",
   "execution_count": 8,
   "id": "4c20f8f8-1ad5-4d54-a28d-c7a22b8a4c67",
   "metadata": {},
   "outputs": [
    {
     "data": {
      "text/plain": [
       "<matplotlib.collections.PathCollection at 0x7fa061a53310>"
      ]
     },
     "execution_count": 8,
     "metadata": {},
     "output_type": "execute_result"
    },
    {
     "data": {
      "image/png": "[encoded data removed]",
      "text/plain": [
       "<Figure size 432x288 with 1 Axes>"
      ]
     },
     "metadata": {
      "needs_background": "light"
     },
     "output_type": "display_data"
    }
   ],
   "source": [
    "x, y = exhaust_vs_heuristic[:, 0], exhaust_vs_heuristic[:, 1]\n",
    "plt.scatter(x, y)"
   ]
  },
  {
   "cell_type": "code",
   "execution_count": 9,
   "id": "da17a83a-8372-4198-9554-75bd53ba4544",
   "metadata": {},
   "outputs": [
    {
     "name": "stdout",
     "output_type": "stream",
     "text": [
      "107,\n",
      "136,\n",
      "152,\n",
      "187,\n",
      "245,\n",
      "268,\n",
      "331,\n",
      "345,\n",
      "365,\n",
      "368,\n",
      "401,\n",
      "431,\n",
      "445,\n",
      "465,\n",
      "Achived perfect alignment on 2/16 samples\n",
      "4,\n",
      "19,\n",
      "33,\n",
      "39,\n",
      "46,\n",
      "50,\n",
      "62,\n",
      "92,\n",
      "96,\n",
      "97,\n",
      "187,\n",
      "206,\n",
      "210,\n",
      "221,\n",
      "223,\n",
      "233,\n",
      "239,\n",
      "292,\n",
      "304,\n",
      "319,\n",
      "333,\n",
      "339,\n",
      "346,\n",
      "350,\n",
      "362,\n",
      "392,\n",
      "396,\n",
      "397,\n",
      "433,\n",
      "446,\n",
      "492,\n",
      "Achived perfect alignment on 0/31 samples\n"
     ]
    },
    {
     "data": {
      "image/png": "[encoded data removed]",
      "text/plain": [
       "<Figure size 378x189 with 2 Axes>"
      ]
     },
     "metadata": {
      "needs_background": "light"
     },
     "output_type": "display_data"
    }
   ],
   "source": [
    "ref_chars = [\"5EA6\", \"6307\"]#[\"5EA6\", \"6620\", \"6307\", \"5247\"]\n",
    "fig, axs = plt.subplots(1, len(ref_chars), figsize=(5.25, 2.625))\n",
    "\n",
    "f_read = [str(i) for i in range(600)]\n",
    "\n",
    "plt.rcParams.update({'font.size': 8})\n",
    "\n",
    "fig.tight_layout(pad=3.0)\n",
    "for i, ref_char, ax in zip(range(len(ref_chars)), ref_chars, axs.flatten()):\n",
    "    #ax.set_title(f\"{han_char} Transposed to {ref_char}\", fontsize=36)\n",
    "    #ax.set_xlabel(f\"Exhaustive Max Score\", fontsize=36)\n",
    "    #ax.set_ylabel(f\"Greedy Alignment Score\", fontsize=36)\n",
    "    ax.tick_params(axis='both', which='major', labelsize=8)\n",
    "    if i == 1:\n",
    "        ax.set_xlim([0, 0.0003])\n",
    "        ax.set_ylim([0, 0.0003])\n",
    "    #ax.set_yscale('log')\n",
    "    \n",
    "    exhaust_vs_heuristic, identical_counts = sortExhaustiveScores(ref_char, han_char, f_read)\n",
    "    if len(exhaust_vs_heuristic) != 0:\n",
    "        x, y = exhaust_vs_heuristic[:, 0], exhaust_vs_heuristic[:, 1]\n",
    "        ax.scatter(x, y, s=32)\n",
    "    print(f\"Achived perfect alignment on {identical_counts.sum()}/{identical_counts.shape[0]} samples\")\n",
    "plt.savefig(\"Figure_Matching.png\", bbox_inches='tight', dpi=300)"
   ]
  },
  {
   "cell_type": "markdown",
   "id": "e1a37a98-a924-4859-b7fc-853da42311c1",
   "metadata": {
    "tags": []
   },
   "source": [
    "# Error Estimation Algorithm\n",
    "Let Ref be the set of edge points in the Archetype stroke and Gene be the sets of edge points in the gene stroke.\n",
    "$$error_{Ref-Gene} = \\sum_{n=1}^{E} \\sqrt{|Ref_{n}^2 - Gene_{n}^2|}$$\n",
    "\n",
    "$n$ represents each edge point on the Reference Stroke\n",
    "\n",
    "$n\\%progress$ is the percent progress at which point n is located on the Reference stroke\n",
    "\n",
    "$Ref_{n\\%progress}$ and $Gene_{n\\%progress}$ are the (x, y) vectors at the given percent progress.\n",
    "\n",
    "In the formula above, the Euclidian distance formula is being applied to both the x and y components.\n",
    "\n",
    "$P$ is the total number of edge points on the Reference Stroke.\n",
    "\n",
    "We also calculate the error of the Reference Stroke against the gene stroke as follows:\n",
    "$$error_{Gene-Ref} = \\sum_{n=1}^{E} \\sqrt{|Gene_{n}^2 - Ref_{n}^2|}$$\n",
    "Where n%progress indicates the percent progress for the points on the gene stroke as opposed to the reference\n",
    "\n",
    "To account for the possibility that the points in the strokes are arranged backwards, we also calculate the error of the strokes with one of the progress percents flipped:\n",
    "$$error_{Ref-Gene-T} = \\sum_{n=1}^{E} \\sqrt{|Ref_{n}^2 - Gene_{1-n}^2|}$$\n",
    "$$error_{Gene-Ref-T} = \\sum_{n=1}^{E} \\sqrt{|Gene_{n}^2 - Ref_{1-n}^2|}$$\n",
    "\n",
    "We then evaluate\n",
    "$$\\min{(\\max{(error_{Ref-Gene}, error_{Gene-Ref})}, \\max{(error_{Ref-Gene-T}, error_{Gene-Ref-T})})}$$\n",
    "to calculate the final error between the strokes"
   ]
  },
  {
   "cell_type": "code",
   "execution_count": null,
   "id": "272c2176-069f-4456-ba77-65dbc0717e69",
   "metadata": {},
   "outputs": [],
   "source": []
  }
 ],
 "metadata": {
  "kernelspec": {
   "display_name": "Python 3 (ipykernel)",
   "language": "python",
   "name": "python3"
  },
  "language_info": {
   "codemirror_mode": {
    "name": "ipython",
    "version": 3
   },
   "file_extension": ".py",
   "mimetype": "text/x-python",
   "name": "python",
   "nbconvert_exporter": "python",
   "pygments_lexer": "ipython3",
   "version": "3.9.12"
  }
 },
 "nbformat": 4,
 "nbformat_minor": 5
}
