{
 "cells": [
  {
   "cell_type": "markdown",
   "id": "34e69c38-36b8-4b2d-bb91-87a4d25d099f",
   "metadata": {},
   "source": [
    "# Generate figures based on the data from Stylus scores"
   ]
  },
  {
   "cell_type": "code",
   "execution_count": 1,
   "id": "4b41effa-f78b-47a0-a0aa-bc8abe0f15cb",
   "metadata": {},
   "outputs": [],
   "source": [
    "import os\n",
    "import re\n",
    "import sys\n",
    "import xmltodict\n",
    "\n",
    "import matplotlib.pyplot as plt\n",
    "import numpy as np\n",
    "\n",
    "from itertools import permutations\n",
    "from PIL import Image, ImageDraw\n",
    "from random import randint, seed\n",
    "\n",
    "from xmlparse import xmlToGeometry, loadRef, loadGeometry, loadGeometryFNames\n",
    "from score_strokes import alignStrokes\n",
    "\n",
    "import numpy as np"
   ]
  },
  {
   "cell_type": "code",
   "execution_count": 2,
   "id": "14d8a4d8-3f2b-4a6d-adde-bc5a1b3bc3ff",
   "metadata": {},
   "outputs": [
    {
     "name": "stdout",
     "output_type": "stream",
     "text": [
      "9 9\n"
     ]
    }
   ],
   "source": [
    "han_char = \"5EA6\"\n",
    "ref_g, ref_l, output_size = loadRef(han_char, \"Reference\")\n",
    "g, l = loadGeometry(\"HanBitmap\", han_char, output_size, f_read = [\"54\"])[0]\n",
    "print(len(ref_g), len(g))"
   ]
  },
  {
   "cell_type": "code",
   "execution_count": 3,
   "id": "a0da83d8-5e96-45e5-b8fc-a7904acd35df",
   "metadata": {},
   "outputs": [],
   "source": [
    "alignments = np.array(alignStrokes(g, ref_g, l, ref_l), dtype=int)"
   ]
  },
  {
   "cell_type": "code",
   "execution_count": 4,
   "id": "f9ef688d-69a9-4423-ab97-68c086c4f3fb",
   "metadata": {},
   "outputs": [
    {
     "data": {
      "image/png": "[encoded data removed]",
      "text/plain": [
       "<PIL.Image.Image image mode=RGBA size=450x460 at 0x7FB87472EDF0>"
      ]
     },
     "metadata": {},
     "output_type": "display_data"
    }
   ],
   "source": [
    "img = Image.new(mode=\"RGBA\", size=output_size)\n",
    "seed(ref_l[0][0])\n",
    "colors = [(randint(0, 256), randint(0, 256), randint(0, 256)) for _ in range(len(ref_l)+1)]\n",
    "colors_t = [(c[0], c[1], c[2], 70) for c in colors]\n",
    "\n",
    "for i, r in enumerate(alignments):\n",
    "    draw = ImageDraw.Draw(img)\n",
    "    for a in range(len(g[i])-1):\n",
    "        x1, y1 = g[i][a]\n",
    "        x2, y2 = g[i][a+1]\n",
    "        y1 = -(y1-output_size[1]/2)+output_size[1]/2\n",
    "        y2 = -(y2-output_size[1]/2)+output_size[1]/2\n",
    "        draw.line(((x1, y1), (x2, y2)), width=6, fill=colors[r])\n",
    "\n",
    "for i, c in enumerate(colors_t[:-1]):\n",
    "    draw = ImageDraw.Draw(img)\n",
    "    for a in range(len(ref_g[i])-1):\n",
    "        x1, y1 = ref_g[i][a]\n",
    "        x2, y2 = ref_g[i][a+1]\n",
    "        y1 = -(y1-output_size[1]/2)+output_size[1]/2\n",
    "        y2 = -(y2-output_size[1]/2)+output_size[1]/2\n",
    "        draw.line(((x1, y1), (x2, y2)), width=3, fill=c)\n",
    "display(img)"
   ]
  },
  {
   "cell_type": "code",
   "execution_count": 5,
   "id": "f49417e8-65dd-4086-85af-b588596f1aa7",
   "metadata": {},
   "outputs": [
    {
     "data": {
      "text/plain": [
       "True"
      ]
     },
     "execution_count": 5,
     "metadata": {},
     "output_type": "execute_result"
    }
   ],
   "source": [
    "perms = np.array([i for i in permutations(range(1, 10))]) # generate permutation map so we can reference which stroke alignment corrisponds to the max exhaustive scores\n",
    "\n",
    "# 400_exhaust.npy in model mapping\n",
    "exhaustive_scores = np.load(\"Exhaustive/exhaust_5EA6_5EA6_Genes_testing set_maint_0.2 on 5EA6.01_5EA6.01.38.gene.npy\")\n",
    "max_exhaustive = np.max(exhaustive_scores)\n",
    "max_exhaustive_perm = perms[np.argmax(exhaustive_scores)]\n",
    "\n",
    "alignment_ind = np.argmax(np.array([(perms[i] == alignments+1).all() for i in range(len(perms))]))\n",
    "\n",
    "alignment_ind == np.argmax(exhaustive_scores) # check if the score for alignment is the same as the one for exhastive max"
   ]
  },
  {
   "cell_type": "code",
   "execution_count": 6,
   "id": "90542b6e-fc65-49c8-a2cb-8a70e774fc45",
   "metadata": {},
   "outputs": [],
   "source": [
    "def sortExhaustiveScores(ref_char, han_char, f_read, exhaust_dir = \"Exhaustive\"):\n",
    "    exhaust_alignment_scores = np.zeros((len(f_read), 2))\n",
    "    identical_alignments = np.zeros(len(f_read), dtype = bool)\n",
    "    ref_g, ref_l, output_size = loadRef(ref_char, \"Reference\")\n",
    "    geometries, files = loadGeometryFNames(\"HanBitmap\", han_char, output_size, f_read = f_read)\n",
    "    for i in range(len(geometries)):\n",
    "        (g, l), f = geometries[i], files[i].replace(\"/\", \"_\")\n",
    "        alignments = np.array(alignStrokes(g, ref_g, l, ref_l), dtype=int)+1\n",
    "        print(alignments)\n",
    "        exhaustive_scores = np.load(f\"{exhaust_dir}/exhaust_{ref_char}_{han_char}_{f}.npy\")\n",
    "        max_exhaustive = np.max(exhaustive_scores)\n",
    "        alignment_ind = np.argmax(np.array([(perms[i] == alignments).all() for i in range(len(perms))]))\n",
    "        exhaust_alignment_scores[i] = (max_exhaustive, exhaustive_scores[alignment_ind])\n",
    "        identical_alignments[i] = np.argmax(exhaustive_scores) == alignment_ind\n",
    "    return exhaust_alignment_scores, identical_alignments"
   ]
  },
  {
   "cell_type": "code",
   "execution_count": 7,
   "id": "e0322561-a4c5-4432-abda-6355bb539ea5",
   "metadata": {},
   "outputs": [
    {
     "name": "stdout",
     "output_type": "stream",
     "text": [
      "[6 7 5 4 1 2 3 8 9]\n"
     ]
    }
   ],
   "source": [
    "ref_char = \"5EA6\"\n",
    "han_char = \"5EA6\"\n",
    "f_read = [\"54\"]\n",
    "exhaust_vs_heuristic, identical_counts = sortExhaustiveScores(ref_char, han_char, f_read)\n",
    "# exhaust_5EA6_5EA6_Genes_testing set_maint_0.2 on 5EA6.01_5EA6.01.38.gene.npy"
   ]
  },
  {
   "cell_type": "code",
   "execution_count": 8,
   "id": "4c20f8f8-1ad5-4d54-a28d-c7a22b8a4c67",
   "metadata": {},
   "outputs": [
    {
     "data": {
      "text/plain": [
       "<matplotlib.collections.PathCollection at 0x7fb866e99400>"
      ]
     },
     "execution_count": 8,
     "metadata": {},
     "output_type": "execute_result"
    },
    {
     "data": {
      "image/png": "[encoded data removed]",
      "text/plain": [
       "<Figure size 432x288 with 1 Axes>"
      ]
     },
     "metadata": {
      "needs_background": "light"
     },
     "output_type": "display_data"
    }
   ],
   "source": [
    "x, y = exhaust_vs_heuristic[:, 0], exhaust_vs_heuristic[:, 1]\n",
    "plt.scatter(x, y)"
   ]
  },
  {
   "cell_type": "code",
   "execution_count": null,
   "id": "1bfd9bbb-5503-49cc-894d-be9ae76dc866",
   "metadata": {},
   "outputs": [],
   "source": []
  }
 ],
 "metadata": {
  "kernelspec": {
   "display_name": "Python 3 (ipykernel)",
   "language": "python",
   "name": "python3"
  },
  "language_info": {
   "codemirror_mode": {
    "name": "ipython",
    "version": 3
   },
   "file_extension": ".py",
   "mimetype": "text/x-python",
   "name": "python",
   "nbconvert_exporter": "python",
   "pygments_lexer": "ipython3",
   "version": "3.9.12"
  }
 },
 "nbformat": 4,
 "nbformat_minor": 5
}
