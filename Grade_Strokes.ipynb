{
 "cells": [
  {
   "cell_type": "markdown",
   "id": "1e088af7-77fb-4e28-8d1c-028c57369d77",
   "metadata": {},
   "source": [
    "# Catagorize and grade indivdual strokes against the references"
   ]
  },
  {
   "cell_type": "code",
   "execution_count": 1,
   "id": "1a168143-aa25-45ac-81df-dbd59654a7e0",
   "metadata": {},
   "outputs": [],
   "source": [
    "import numpy as np\n",
    "\n",
    "import load_strokes as load"
   ]
  },
  {
   "cell_type": "code",
   "execution_count": 2,
   "id": "cef90861-7a06-4a66-8511-db687b5c7361",
   "metadata": {},
   "outputs": [],
   "source": [
    "X, y = load.loadXy(\"HanBitmap\", \"5E7E\")\n",
    "\n",
    "strokes = X[0]"
   ]
  },
  {
   "cell_type": "code",
   "execution_count": 8,
   "id": "3388d1f3-938b-4b88-9fe8-bfdd2eda7206",
   "metadata": {},
   "outputs": [
    {
     "data": {
      "text/plain": [
       "(array([[4, 3],\n",
       "        [5, 2],\n",
       "        [6, 3],\n",
       "        [7, 4],\n",
       "        [8, 5]]),\n",
       " array([[ 9,  4],\n",
       "        [10,  5],\n",
       "        [11,  6],\n",
       "        [12,  5],\n",
       "        [12,  6],\n",
       "        [12, 10],\n",
       "        [13,  3],\n",
       "        [13,  4],\n",
       "        [13,  5],\n",
       "        [13,  7],\n",
       "        [13,  9],\n",
       "        [14,  3],\n",
       "        [14,  4],\n",
       "        [14,  8],\n",
       "        [15,  3],\n",
       "        [16,  2]]),\n",
       " array([5.09901951, 4.47213595, 3.16227766, 2.        , 1.41421356]),\n",
       " 3.521363372331802)"
      ]
     },
     "execution_count": 8,
     "metadata": {},
     "output_type": "execute_result"
    }
   ],
   "source": [
    "stroke = strokes[0]\n",
    "ref_stroke = strokes[1] # using a fake reference stroke for testing\n",
    "\n",
    "y_true, x_true = np.where(stroke == 1)\n",
    "coords = np.dstack((y_true, x_true))[0]\n",
    "y_ref, x_ref = np.where(ref_stroke == 1)\n",
    "ref_coords = np.dstack((y_ref, x_ref))[0]\n",
    "min_dists = np.array([min([np.linalg.norm(c-r) for r in ref_coords]) for c in coords])\n",
    "mse = np.sqrt(np.mean(np.square(min_dists)))\n",
    "\n",
    "coords, ref_coords, min_dists, mse"
   ]
  },
  {
   "cell_type": "code",
   "execution_count": 13,
   "id": "cefb3365-5654-4b12-a76d-5a174d1457a0",
   "metadata": {},
   "outputs": [],
   "source": [
    "def strokeMeanSquaredError(stroke, ref):\n",
    "    y_true, x_true = np.where(stroke == 1)\n",
    "    coords = np.dstack((y_true, x_true))[0]\n",
    "    y_ref, x_ref = np.where(ref_stroke == 1)\n",
    "    ref_coords = np.dstack((y_ref, x_ref))[0]\n",
    "    min_dists = np.array([min([np.linalg.norm(c-r) for r in ref_coords]) for c in coords])\n",
    "    mse = np.sqrt(np.mean(np.square(min_dists)))\n",
    "    return mse\n",
    "\n",
    "def strokeMaxDevError(stroke, ref):\n",
    "    y_true, x_true = np.where(stroke == 1)\n",
    "    coords = np.dstack((y_true, x_true))[0]\n",
    "    y_ref, x_ref = np.where(ref_stroke == 1)\n",
    "    ref_coords = np.dstack((y_ref, x_ref))[0]\n",
    "    max_dist = np.array([min([np.linalg.norm(c-r) for r in ref_coords]) for c in coords]).max()\n",
    "    return max_dist\n",
    "    \n",
    "def strokeMeanAbsError(stroke, ref):\n",
    "    y_true, x_true = np.where(stroke == 1)\n",
    "    coords = np.dstack((y_true, x_true))[0]\n",
    "    y_ref, x_ref = np.where(ref_stroke == 1)\n",
    "    ref_coords = np.dstack((y_ref, x_ref))[0]\n",
    "    min_dists = np.array([min([np.linalg.norm(c-r) for r in ref_coords]) for c in coords])\n",
    "    abs_error = np.mean(np.abs(min_dists))\n",
    "    return abs_error\n"
   ]
  },
  {
   "cell_type": "code",
   "execution_count": 14,
   "id": "c861e7af-62c4-48de-bae0-6af7bab16432",
   "metadata": {},
   "outputs": [
    {
     "data": {
      "text/plain": [
       "3.229529338226768"
      ]
     },
     "execution_count": 14,
     "metadata": {},
     "output_type": "execute_result"
    }
   ],
   "source": [
    "strokeMeanAbsError(stroke, ref_stroke)"
   ]
  },
  {
   "cell_type": "code",
   "execution_count": null,
   "id": "c0afd81f-43d5-4ddf-b06e-f8e887118a6b",
   "metadata": {},
   "outputs": [],
   "source": []
  }
 ],
 "metadata": {
  "kernelspec": {
   "display_name": "Python 3 (ipykernel)",
   "language": "python",
   "name": "python3"
  },
  "language_info": {
   "codemirror_mode": {
    "name": "ipython",
    "version": 3
   },
   "file_extension": ".py",
   "mimetype": "text/x-python",
   "name": "python",
   "nbconvert_exporter": "python",
   "pygments_lexer": "ipython3",
   "version": "3.9.12"
  }
 },
 "nbformat": 4,
 "nbformat_minor": 5
}
