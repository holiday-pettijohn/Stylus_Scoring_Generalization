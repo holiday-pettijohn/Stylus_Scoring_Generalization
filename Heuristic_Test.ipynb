{
 "cells": [
  {
   "cell_type": "markdown",
   "id": "f2a9246b-4385-4088-a00d-1c6145930007",
   "metadata": {},
   "source": [
    "# Quantifiably measure the preformance of the greedy heuristic algorithm"
   ]
  },
  {
   "cell_type": "code",
   "execution_count": 1,
   "id": "109b03c6-61f2-4840-9e7d-721e42b22205",
   "metadata": {},
   "outputs": [
    {
     "name": "stderr",
     "output_type": "stream",
     "text": [
      "2023-09-26T17:27:25.156822Z [INFO ] Stylus initialized - Stylus 1.5.0 [RELEASE - Aug 29 2023 15:40:46] (c) 2006-2009 Biologic Institute\n"
     ]
    }
   ],
   "source": [
    "import os\n",
    "import re\n",
    "import sys\n",
    "\n",
    "import matplotlib.pyplot as plt\n",
    "import numpy as np\n",
    "\n",
    "from itertools import permutations\n",
    "from math import factorial, log\n",
    "from time import time\n",
    "\n",
    "from xmlparse import loadRef, loadGeometryBases, getXmlScore, minXml, loadScores\n",
    "from score_strokes import alignStrokes, greedyAlign2\n",
    "from exhaustive import computeExhaustive, exhaustScore"
   ]
  },
  {
   "cell_type": "code",
   "execution_count": 2,
   "id": "eafefbf3-b66c-44c9-b8e9-555fb1212fc5",
   "metadata": {},
   "outputs": [
    {
     "name": "stdout",
     "output_type": "stream",
     "text": [
      "Testing character 14\n"
     ]
    }
   ],
   "source": [
    "dlen = 20\n",
    "f_read = [f\"4EFB.2.{i}.gene\" for i in range(1, dlen)]\n",
    "\n",
    "han_char = \"4EFB\"\n",
    "\n",
    "ref_g, ref_l, output_size = loadRef(han_char, \"Reference\")\n",
    "g_data, _, base_data, stroke_sets, stroke_orders, _ = loadGeometryBases(\"Genes/maint_0.2 on 4EFB.2\", han_char, output_size, f_read = f_read)\n",
    "\n",
    "good_characters = range(len(g_data))\n",
    "        \n",
    "character_num = 14#good_characters[2]\n",
    "print(f\"Testing character {character_num}\")\n",
    "\n",
    "g, l = g_data[character_num]\n",
    "bases = base_data[character_num]\n",
    "stroke_set = stroke_sets[character_num]\n",
    "stroke_order = stroke_orders[character_num]\n"
   ]
  },
  {
   "cell_type": "code",
   "execution_count": 3,
   "id": "dbbbef04-fbee-43f6-89ab-d69863eb1203",
   "metadata": {},
   "outputs": [
    {
     "name": "stdout",
     "output_type": "stream",
     "text": [
      "[1 2 6 5 3 4] [1 2 6 5 3 4]\n"
     ]
    }
   ],
   "source": [
    "# reference-gene alignments are flipped along the index and value - reversing it\n",
    "\n",
    "heuristic_alignments = greedyAlign2(g, ref_g, l, ref_l)+1\n",
    "\n",
    "print(heuristic_alignments, stroke_order)\n"
   ]
  },
  {
   "cell_type": "code",
   "execution_count": 4,
   "id": "6d768de5-bd92-4655-a542-b009908e03d4",
   "metadata": {},
   "outputs": [],
   "source": [
    "heuristic_xml = minXml(han_char, bases, stroke_set, heuristic_alignments)\n",
    "original_xml = minXml(han_char, bases, stroke_set, stroke_order)\n",
    "heuristic_score = getXmlScore(heuristic_xml)\n",
    "original_score = getXmlScore(original_xml)"
   ]
  },
  {
   "cell_type": "code",
   "execution_count": 5,
   "id": "18fd7c80",
   "metadata": {},
   "outputs": [
    {
     "name": "stdout",
     "output_type": "stream",
     "text": [
      "0: 0.2009721093859917, 0.2009721093859917\n",
      "1: 0.2013953338277964, 0.2013953338277964\n",
      "2: 0.2078045801000123, 0.2078045801000123\n",
      "3: 0.2016256382450882, 0.2016256382450882\n",
      "4: 0.2145956745779752, 0.2145956745779752\n",
      "5: 0.2089713007412017, 0.2089713007412017\n",
      "6: 0.2034092049312096, 0.2034092049312096\n",
      "7: 0.2230345742767507, 0.2230345742767507\n",
      "8: 0.2049115164682263, 0.2049115164682263\n",
      "9: 0.2086181203229363, 0.2086181203229363\n",
      "10: 0.2125022264934223, 0.2125022264934223\n",
      "11: 0.207720919891055, 0.207720919891055\n",
      "12: 0.2107049646295421, 0.2107049646295421\n",
      "13: 0.2124287296045458, 0.2124287296045458\n",
      "14: 0.206119197003043, 0.206119197003043\n",
      "15: 0.2272769228518867, 0.2272769228518867\n",
      "16: 0.2091404784088746, 0.2091404784088746\n",
      "17: 0.207123481074788, 0.207123481074788\n",
      "18: 0.2196481313045786, 0.2196481313045786\n"
     ]
    }
   ],
   "source": [
    "for c in good_characters:\n",
    "    g, l = g_data[c]\n",
    "    bases = base_data[c]\n",
    "    stroke_set = stroke_sets[c]\n",
    "    stroke_order = stroke_orders[c]\n",
    "    heuristic_alignments = np.array(alignStrokes(g, ref_g, l, ref_l))+1\n",
    "    heuristic_xml = minXml(han_char, bases, stroke_set, heuristic_alignments)\n",
    "    original_xml = minXml(han_char, bases, stroke_set, stroke_order)\n",
    "    heuristic_score = getXmlScore(heuristic_xml)\n",
    "    original_score = getXmlScore(original_xml)\n",
    "    print(f\"{c}: {heuristic_score}, {original_score}\")"
   ]
  },
  {
   "cell_type": "code",
   "execution_count": 6,
   "id": "6a7c5948-4e18-407d-a845-78c2696e5f2d",
   "metadata": {},
   "outputs": [],
   "source": [
    "def matchError(heuristic, ref_char, char_data, data_dir=\"HanBitmap\", exhaustive=True, timed=False):\n",
    "    \"\"\"\n",
    "    Inputs:\n",
    "    heuristic: function to test\n",
    "    han_char: arctype to test against\n",
    "    char_data: mutated character data to test\n",
    "\n",
    "    Error is calculated as log(original_score/heuristic_score, 2) (log base 2)\n",
    "    This demonstrates the difference in magnitude between the scores,\n",
    "    which in this context is more relevant that absolute differene\n",
    "    The log is neccesary to keep numbers from growing obscenely large\n",
    "    \"\"\"\n",
    "    # load in reference geometry\n",
    "    ref_g, ref_l, output_size = loadRef(ref_char, \"Reference\")\n",
    "    # parse character data\n",
    "    g_data, han_chars, base_data, stroke_sets, stroke_orders, f_names = char_data\n",
    "    errors = []\n",
    "    times_heuristic = []\n",
    "    times_exhaustive = []\n",
    "    time_store = 0.0\n",
    "    error_sum = 0.0\n",
    "    error_max = 0.0\n",
    "    error_min = np.inf\n",
    "    exhaustive_scores = []\n",
    "    for (gl, han_char, bases, stroke_set, stroke_order, f_name) in zip(g_data, han_chars, base_data, stroke_sets, stroke_orders, f_names):\n",
    "        g, l = gl\n",
    "        heuristic_alignments = np.array(alignStrokes(g, ref_g, l, ref_l))+1\n",
    "        heuristic_xml = minXml(han_char, bases, stroke_set, heuristic_alignments)\n",
    "        # time for heuristic - stored in times_heuristic\n",
    "        time_store = time()\n",
    "        heuristic_score = getXmlScore(heuristic_xml)\n",
    "        times_heuristic.append(time()-time_store)\n",
    "        if exhaustive:\n",
    "            # time for exhaustive, stored in times_exhaustive\n",
    "            if timed:\n",
    "                time_store = time()\n",
    "                original_score = exhaustScore(ref_char, han_char, f_name, data_dir, force_refresh = True, save = False)\n",
    "                times_exhaustive.append(time()-time_store)\n",
    "            else:\n",
    "                original_score = exhaustScore(ref_char, han_char, f_name, data_dir)\n",
    "            exhaustive_scores.append(original_score)\n",
    "        else:\n",
    "            original_xml = minXml(han_char, bases, stroke_set, stroke_order)\n",
    "            original_score = getXmlScore(original_xml)\n",
    "        error = (heuristic_score)#log(original_score/heuristic_score, 2)\n",
    "        errors.append(error)\n",
    "        error_sum += error\n",
    "        if error > error_max:\n",
    "            error_max = error\n",
    "        if error < error_min:\n",
    "            error_min = error\n",
    "    error_avg = error_sum/len(g_data)\n",
    "    print(f\"Max Error for pair: {error_max}\\nMin Error for set: {error_min}\\nAvg Error for set: {error_avg}\")\n",
    "    if timed:\n",
    "        return errors, times_heuristic, times_exhaustive, exhaustive_scores\n",
    "    else:\n",
    "        return error_avg\n"
   ]
  },
  {
   "cell_type": "code",
   "execution_count": 7,
   "id": "05d46be9-383a-49f1-a90b-bad2fb5ba275",
   "metadata": {},
   "outputs": [
    {
     "name": "stdout",
     "output_type": "stream",
     "text": [
      "Max Error for pair: 0.2272769228518867\n",
      "Min Error for set: 0.2009721093859917\n",
      "Avg Error for set: 0.20957448259465875\n"
     ]
    },
    {
     "data": {
      "text/plain": [
       "0.20957448259465875"
      ]
     },
     "execution_count": 7,
     "metadata": {},
     "output_type": "execute_result"
    }
   ],
   "source": [
    "\n",
    "dlen = 20\n",
    "f_read = [f\"4EFB.2.{i}.gene\" for i in range(1, dlen)]\n",
    "\n",
    "heuristic = alignStrokes\n",
    "han_char = \"4EFB\"\n",
    "data_dir = \"Genes/maint_0.2 on 4EFB.2\"\n",
    "char_data = loadGeometryBases(data_dir, han_char, output_size)#, f_read = f_read)\n",
    "\n",
    "matchError(heuristic, han_char, char_data, data_dir)\n"
   ]
  },
  {
   "cell_type": "code",
   "execution_count": null,
   "id": "612e01c8-3b0d-4717-bdf5-8135c85a0b17",
   "metadata": {},
   "outputs": [],
   "source": []
  }
 ],
 "metadata": {
  "kernelspec": {
   "display_name": "Python 3 (ipykernel)",
   "language": "python",
   "name": "python3"
  },
  "language_info": {
   "codemirror_mode": {
    "name": "ipython",
    "version": 3
   },
   "file_extension": ".py",
   "mimetype": "text/x-python",
   "name": "python",
   "nbconvert_exporter": "python",
   "pygments_lexer": "ipython3",
   "version": "3.11.5"
  }
 },
 "nbformat": 4,
 "nbformat_minor": 5
}
