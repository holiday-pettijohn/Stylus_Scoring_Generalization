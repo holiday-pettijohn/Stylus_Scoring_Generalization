{
 "cells": [
  {
   "cell_type": "markdown",
   "id": "421a14b9",
   "metadata": {},
   "source": [
    "# Load the Geometry of a Drawn Gene Character for Anylitcal Processing"
   ]
  },
  {
   "cell_type": "code",
   "execution_count": 1,
   "id": "d2efc2e5",
   "metadata": {},
   "outputs": [],
   "source": [
    "import os\n",
    "import xmltodict\n",
    "\n",
    "import matplotlib.pyplot as plt\n",
    "import numpy as np\n",
    "\n",
    "from PIL import Image, ImageDraw\n",
    "from random import randint, seed\n",
    "from xmlparse import xmlToGeometry\n",
    "\n",
    "import numpy as np"
   ]
  },
  {
   "cell_type": "code",
   "execution_count": 2,
   "id": "e4753de4",
   "metadata": {},
   "outputs": [],
   "source": [
    "def loadRef(han_char, ref_dir = \"Reference\"):\n",
    "    stroke_list = []\n",
    "    frac_dists = []\n",
    "    ref_path = f\"{ref_dir}/{han_char[0]}000/{han_char}.han\"\n",
    "    ref_xml = open(ref_path, \"r\").read()\n",
    "    root = xmltodict.parse(ref_xml)\n",
    "    bounds = root[\"hanDefinition\"][\"bounds\"]\n",
    "    x_min, y_min, x_max, y_max = (float(bounds[\"@left\"]), float(bounds[\"@bottom\"]), float(bounds[\"@right\"]), float(bounds[\"@top\"]))\n",
    "    scale = (int(x_max-x_min), int(y_max-y_min))\n",
    "    strokes = root[\"hanDefinition\"][\"strokes\"][\"stroke\"]\n",
    "    for stroke in strokes:\n",
    "        points = stroke[\"points\"][\"forward\"]\n",
    "        point_arr = []\n",
    "        frac_arr = []\n",
    "        for point in points[\"pointDistance\"]:\n",
    "            point_arr.append((float(point[\"@x\"])-x_min,\n",
    "                              float(point[\"@y\"])-y_min))\n",
    "            frac_arr.append(float(point[\"@fractionalDistance\"]))\n",
    "        stroke_list.append(np.array(point_arr))\n",
    "        frac_dists.append(np.array(frac_arr))\n",
    "    return stroke_list, frac_dists, scale\n",
    "    "
   ]
  },
  {
   "cell_type": "code",
   "execution_count": 3,
   "id": "20a2c641",
   "metadata": {},
   "outputs": [],
   "source": [
    "ref_g, ref_l, output_size = loadRef(\"5E7E\", \"Reference\")"
   ]
  },
  {
   "cell_type": "code",
   "execution_count": 4,
   "id": "37bbe0a9",
   "metadata": {},
   "outputs": [],
   "source": [
    "def loadGeometry(data_dir, han_char, output_size = (32, 32), f_read = None):\n",
    "    \"\"\"\n",
    "    Loads geometric data about a gene characetr directly from the XML source\n",
    "    \"\"\"\n",
    "    if f_read is None:\n",
    "        dir_list = os.listdir(f\"{data_dir}/{han_char}\")\n",
    "        dir_list.sort()\n",
    "    else:\n",
    "        dir_list = f_read\n",
    "    g_data = []\n",
    "    f_names = []\n",
    "    for f in dir_list:\n",
    "        flines = open(f\"{data_dir}/{han_char}/{f}\", \"rb\").readlines()\n",
    "        f_names.append(flines[0].decode()[:-1])\n",
    "    for f in f_names:\n",
    "        g = xmlToGeometry(f, output_size)\n",
    "        g_data.append(g)\n",
    "    return g_data\n",
    "\n",
    "def filterFalseEdges(g, l):\n",
    "    \"\"\"\n",
    "    Filters out edges that are actually a series of points along the same line\n",
    "    \"\"\"\n",
    "    pass\n"
   ]
  },
  {
   "cell_type": "code",
   "execution_count": 5,
   "id": "a6a79fb1",
   "metadata": {},
   "outputs": [
    {
     "data": {
      "text/plain": [
       "12"
      ]
     },
     "execution_count": 5,
     "metadata": {},
     "output_type": "execute_result"
    }
   ],
   "source": [
    "g, l = loadGeometry(\"HanBitmap\", \"5E7E\", output_size, f_read = [\"11000\"])[0]\n",
    "len(g)"
   ]
  },
  {
   "cell_type": "code",
   "execution_count": 6,
   "id": "3c3b1556",
   "metadata": {},
   "outputs": [],
   "source": [
    "def alignStrokes(strokes, ref, p_strokes, p_ref):\n",
    "    stroke_map = np.full(len(strokes), -1)\n",
    "    error_map = np.zeros((len(ref), len(strokes)), dtype=float)\n",
    "    matches_tried = np.zeros(len(strokes), dtype=int)\n",
    "    for i, ref_stroke, r_progresses in zip(range(len(ref)), ref, p_ref):\n",
    "        for j, candidate_stroke, c_progresses in zip(range(len(strokes)), strokes, p_strokes):\n",
    "            error_map[i, j] = strokeError(ref_stroke, candidate_stroke, r_progresses, c_progresses)\n",
    "    for i, err in enumerate(error_map):\n",
    "        candidate = np.argmin(err)\n",
    "        stroke_map[candidate] = i\n",
    "    # resolve conflicts until only one stroke is mapped to each reference stroke\n",
    "    # the condition is based on the 'bad' candidates being set to -1, indicating no match\n",
    "    while np.unique(stroke_map).shape[0] != len(strokes) - (len(strokes)-len(ref)-1 if len(strokes)-len(ref) > 1 else 0):\n",
    "        # conflict resolution is still rudimentery\n",
    "        for i in range(len(stroke_map)):\n",
    "            if stroke_map[i] == -1:\n",
    "                prios = np.argsort(error_map[:, i])\n",
    "                stroke_map[i] = prios[matches_tried[i]]\n",
    "        for i, conflicted in enumerate(stroke_map):\n",
    "            if conflicted != -1:\n",
    "                candidates = np.argwhere(stroke_map == i).flatten()\n",
    "                if candidates.shape[0] > 1:\n",
    "                    best_candidate = error_map[conflicted, candidates].argmin()\n",
    "                    stroke_map[candidates] = -1\n",
    "                    matches_tried[candidates] += 1\n",
    "                    stroke_map[candidates[best_candidate]] = conflicted\n",
    "                    matches_tried[best_candidate] -= 1\n",
    "        matches_tried = matches_tried%len(ref)\n",
    "    return stroke_map\n",
    "\n",
    "def strokeError(stroke, ref_stroke, p_stroke, p_ref, mode=\"max\"):\n",
    "    forward_stroke_error, back_stroke_error = np.zeros(len(ref_stroke)), np.zeros(len(ref_stroke))\n",
    "    forward_ref_error, back_ref_error = np.zeros(len(stroke)), np.zeros(len(stroke))\n",
    "    for i, rpoint, rprogress in zip(range(len(ref_stroke)), ref_stroke, p_ref):\n",
    "        forward_stroke_error[i] = np.linalg.norm((rpoint-strokeTrace(stroke, p_stroke, rprogress)))\n",
    "    for i, rpoint, rprogress in zip(range(len(ref_stroke)), ref_stroke[::-1], p_ref[::-1]):\n",
    "        back_stroke_error[i] = np.linalg.norm((rpoint-strokeTrace(stroke, p_stroke, 1-rprogress)))\n",
    "    for i, point, progress in zip(range(len(stroke)), stroke, p_stroke):\n",
    "        forward_ref_error[i] = np.linalg.norm((point-strokeTrace(ref_stroke, p_ref, progress)))\n",
    "    for i, point, progress in zip(range(len(stroke)), stroke[::-1], p_stroke[::-1]):\n",
    "        back_ref_error[i] = np.linalg.norm((point-strokeTrace(ref_stroke, p_ref, 1-progress)))\n",
    "    final_error = min(forward_stroke_error.max()+forward_ref_error.max(), back_stroke_error.max()+back_ref_error.max())\n",
    "    return final_error\n",
    "\n",
    "def strokeTrace(stroke, stroke_progresses, progress):\n",
    "    if progress == 1:\n",
    "        return stroke[-1]\n",
    "    progress_line = len(stroke_progresses)-1\n",
    "    for i in range(1, len(stroke_progresses)):\n",
    "        if stroke_progresses[i] > progress:\n",
    "            progress_line = i-1\n",
    "            break\n",
    "    startp, endp = stroke_progresses[progress_line], stroke_progresses[progress_line+1]\n",
    "    norm_progress = (progress-startp)/endp\n",
    "    if stroke[progress_line+1][0] == stroke[progress_line][0]:\n",
    "        x = stroke[progress_line][0]\n",
    "        y = norm_progress*(stroke[progress_line+1][1]-stroke[progress_line][1])+stroke[progress_line][0]\n",
    "    else:\n",
    "        slope = (stroke[progress_line+1][1]-stroke[progress_line][1])/(stroke[progress_line+1][0]-stroke[progress_line][0])\n",
    "        intercept = stroke[progress_line][1]-slope*stroke[progress_line][0]\n",
    "        x = norm_progress*(stroke[progress_line+1][0]-stroke[progress_line][0])+stroke[progress_line][0]\n",
    "        y = slope*x + intercept\n",
    "    return np.array((x, y))\n"
   ]
  },
  {
   "cell_type": "code",
   "execution_count": 7,
   "id": "c1cb5dbb",
   "metadata": {},
   "outputs": [
    {
     "name": "stdout",
     "output_type": "stream",
     "text": [
      "[ 0  2  1  9  6  7  8 10 11 -1  4  3]\n"
     ]
    }
   ],
   "source": [
    "alignments = alignStrokes(g, ref_g, l, ref_l)\n",
    "print(alignments)"
   ]
  },
  {
   "cell_type": "code",
   "execution_count": 8,
   "id": "d11a8961",
   "metadata": {},
   "outputs": [
    {
     "data": {
      "image/png": "[encoded data removed]",
      "text/plain": [
       "<PIL.Image.Image image mode=RGBA size=440x460 at 0x7F0CF414AA30>"
      ]
     },
     "metadata": {},
     "output_type": "display_data"
    }
   ],
   "source": [
    "img = Image.new(mode=\"RGBA\", size=output_size)\n",
    "seed(ref_l[0][0])\n",
    "colors = [(randint(0, 256), randint(0, 256), randint(0, 256)) for _ in range(len(ref_l)+1)]\n",
    "colors_t = [(c[0], c[1], c[2], 70) for c in colors]\n",
    "\n",
    "for i, r in enumerate(alignments):\n",
    "    draw = ImageDraw.Draw(img)\n",
    "    for a in range(len(g[i])-1):\n",
    "        x1, y1 = g[i][a]\n",
    "        x2, y2 = g[i][a+1]\n",
    "        y1 = -(y1-output_size[1]/2)+output_size[1]/2\n",
    "        y2 = -(y2-output_size[1]/2)+output_size[1]/2\n",
    "        draw.line(((x1, y1), (x2, y2)), width=6, fill=colors[r])\n",
    "\n",
    "for i, c in enumerate(colors_t[:-1]):\n",
    "    draw = ImageDraw.Draw(img)\n",
    "    for a in range(len(ref_g[i])-1):\n",
    "        x1, y1 = ref_g[i][a]\n",
    "        x2, y2 = ref_g[i][a+1]\n",
    "        y1 = -(y1-output_size[1]/2)+output_size[1]/2\n",
    "        y2 = -(y2-output_size[1]/2)+output_size[1]/2\n",
    "        draw.line(((x1, y1), (x2, y2)), width=3, fill=c)\n",
    "display(img)\n",
    "#img.save(\"han_stroke_match_11000.png\")"
   ]
  },
  {
   "cell_type": "code",
   "execution_count": null,
   "id": "99cfea69",
   "metadata": {},
   "outputs": [],
   "source": []
  }
 ],
 "metadata": {
  "kernelspec": {
   "display_name": "Python 3 (ipykernel)",
   "language": "python",
   "name": "python3"
  },
  "language_info": {
   "codemirror_mode": {
    "name": "ipython",
    "version": 3
   },
   "file_extension": ".py",
   "mimetype": "text/x-python",
   "name": "python",
   "nbconvert_exporter": "python",
   "pygments_lexer": "ipython3",
   "version": "3.9.12"
  }
 },
 "nbformat": 4,
 "nbformat_minor": 5
}
