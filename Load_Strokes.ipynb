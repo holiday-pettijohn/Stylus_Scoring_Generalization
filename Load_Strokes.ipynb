{
 "cells": [
  {
   "cell_type": "markdown",
   "id": "80cb6b7b-27a3-4882-8022-f693a147c4ca",
   "metadata": {},
   "source": [
    "# Load a character in segments from the HanBitmap directory"
   ]
  },
  {
   "cell_type": "code",
   "execution_count": 1,
   "id": "1e62a1ef-e8ad-4972-bf70-95486f0e67a8",
   "metadata": {},
   "outputs": [],
   "source": [
    "import os\n",
    "\n",
    "import numpy as np\n",
    "import tensorflow as tf\n",
    "\n",
    "from PIL import Image\n",
    "from sklearn.model_selection import train_test_split"
   ]
  },
  {
   "cell_type": "code",
   "execution_count": 2,
   "id": "3acbd078-92f1-41bd-a8ca-37079b8c6c3a",
   "metadata": {},
   "outputs": [],
   "source": [
    "def loadXy(data_dir, han_char):\n",
    "    dir_list = os.listdir(f\"{data_dir}/{han_char}\")\n",
    "    X_data = []\n",
    "    y_data = []\n",
    "    max_strokes = 0\n",
    "    for f in dir_list:\n",
    "        yX = open(f\"{data_dir}/{han_char}/{f}\", \"rb\").readlines()\n",
    "        y_data.append(float(yX[0]))\n",
    "        X_data.append(np.array([np.frombuffer(X, dtype=bool)[:-1].reshape(32, 32).astype(int) for X in yX[1:]]))\n",
    "        if X_data[-1].shape[0] > max_strokes:\n",
    "            max_strokes = X_data[-1].shape[0]\n",
    "    for i in range(len(X_data)):\n",
    "        while X_data[i].shape[0] < max_strokes:\n",
    "            X_data[i] = np.append(X_data[i], np.zeros((1, 32, 32)), 0)\n",
    "    X_data = np.array(X_data)\n",
    "    y_data = np.array(y_data)\n",
    "    return X_data, y_data\n",
    "\n",
    "def loadXyCharSplits(data_dir, han_char, test_size = 0.2, random_state = 42):\n",
    "    X_data, y_data = loadXy(data_dir, han_char)\n",
    "    X_train, X_test, y_train, y_test = train_test_split(\n",
    "        X_data, y_data, test_size=test_size, random_state=random_state\n",
    "    )\n",
    "    X_train, X_test, y_train, y_test = (tf.convert_to_tensor(X_train, tf.float16),\n",
    "                                        tf.convert_to_tensor(X_test, tf.float16),\n",
    "                                        tf.convert_to_tensor(y_train, tf.float16),\n",
    "                                        tf.convert_to_tensor(y_test, tf.float16),\n",
    "                                       )\n",
    "    return X_train, X_test, y_train, y_test\n",
    "\n",
    "def displayBinary(arr):\n",
    "    img = Image.fromarray(arr)\n",
    "    return img\n",
    "\n",
    "def displayBinaryStrokes(strokes):\n",
    "    arr = strokes[0]\n",
    "    for a in strokes[1:]:\n",
    "        arr = np.logical_or(arr, a)\n",
    "    img = Image.fromarray(arr)\n",
    "    return img\n"
   ]
  },
  {
   "cell_type": "code",
   "execution_count": 3,
   "id": "329f93f3-db3e-418c-86f1-40570f375716",
   "metadata": {},
   "outputs": [],
   "source": [
    "X, y = loadXy(\"HanBitmap\", \"5E7E\")\n"
   ]
  },
  {
   "cell_type": "code",
   "execution_count": 4,
   "id": "7c2c2f13-ec74-43e8-8281-a664797e2642",
   "metadata": {},
   "outputs": [
    {
     "data": {
      "image/png": "[encoded data removed]",
      "text/plain": [
       "<PIL.Image.Image image mode=1 size=32x32 at 0x7EFC15545670>"
      ]
     },
     "metadata": {},
     "output_type": "display_data"
    },
    {
     "data": {
      "image/png": "[encoded data removed]",
      "text/plain": [
       "<PIL.Image.Image image mode=1 size=32x32 at 0x7EFC15545670>"
      ]
     },
     "metadata": {},
     "output_type": "display_data"
    },
    {
     "data": {
      "image/png": "[encoded data removed]",
      "text/plain": [
       "<PIL.Image.Image image mode=1 size=32x32 at 0x7EFC15545670>"
      ]
     },
     "metadata": {},
     "output_type": "display_data"
    },
    {
     "data": {
      "image/png": "[encoded data removed]",
      "text/plain": [
       "<PIL.Image.Image image mode=1 size=32x32 at 0x7EFC15545670>"
      ]
     },
     "metadata": {},
     "output_type": "display_data"
    },
    {
     "data": {
      "image/png": "[encoded data removed]",
      "text/plain": [
       "<PIL.Image.Image image mode=1 size=32x32 at 0x7EFC15545670>"
      ]
     },
     "metadata": {},
     "output_type": "display_data"
    },
    {
     "data": {
      "image/png": "[encoded data removed]",
      "text/plain": [
       "<PIL.Image.Image image mode=1 size=32x32 at 0x7EFC15545670>"
      ]
     },
     "metadata": {},
     "output_type": "display_data"
    },
    {
     "data": {
      "image/png": "[encoded data removed]",
      "text/plain": [
       "<PIL.Image.Image image mode=1 size=32x32 at 0x7EFC15545670>"
      ]
     },
     "metadata": {},
     "output_type": "display_data"
    },
    {
     "data": {
      "image/png": "[encoded data removed]",
      "text/plain": [
       "<PIL.Image.Image image mode=1 size=32x32 at 0x7EFC15545670>"
      ]
     },
     "metadata": {},
     "output_type": "display_data"
    },
    {
     "data": {
      "image/png": "[encoded data removed]",
      "text/plain": [
       "<PIL.Image.Image image mode=1 size=32x32 at 0x7EFC15545670>"
      ]
     },
     "metadata": {},
     "output_type": "display_data"
    },
    {
     "data": {
      "image/png": "[encoded data removed]",
      "text/plain": [
       "<PIL.Image.Image image mode=1 size=32x32 at 0x7EFC15545670>"
      ]
     },
     "metadata": {},
     "output_type": "display_data"
    },
    {
     "data": {
      "image/png": "[encoded data removed]",
      "text/plain": [
       "<PIL.Image.Image image mode=1 size=32x32 at 0x7EFC15545670>"
      ]
     },
     "metadata": {},
     "output_type": "display_data"
    },
    {
     "data": {
      "image/png": "[encoded data removed]",
      "text/plain": [
       "<PIL.Image.Image image mode=1 size=32x32 at 0x7EFC15545670>"
      ]
     },
     "metadata": {},
     "output_type": "display_data"
    },
    {
     "data": {
      "image/png": "[encoded data removed]",
      "text/plain": [
       "<PIL.Image.Image image mode=1 size=32x32 at 0x7EFC15545670>"
      ]
     },
     "metadata": {},
     "output_type": "display_data"
    },
    {
     "data": {
      "image/png": "[encoded data removed]",
      "text/plain": [
       "<PIL.Image.Image image mode=1 size=32x32 at 0x7EFC15545670>"
      ]
     },
     "metadata": {},
     "output_type": "display_data"
    },
    {
     "data": {
      "image/png": "[encoded data removed]",
      "text/plain": [
       "<PIL.Image.Image image mode=1 size=32x32 at 0x7EFC155458B0>"
      ]
     },
     "metadata": {},
     "output_type": "display_data"
    },
    {
     "data": {
      "image/png": "[encoded data removed]",
      "text/plain": [
       "<PIL.Image.Image image mode=1 size=32x32 at 0x7EFC15435DC0>"
      ]
     },
     "metadata": {},
     "output_type": "display_data"
    }
   ],
   "source": [
    "for s in X[100]:\n",
    "    display(displayBinary(s.astype(bool)))"
   ]
  },
  {
   "cell_type": "code",
   "execution_count": 5,
   "id": "5a8034e5-3217-493e-a715-69a7eb1734bf",
   "metadata": {},
   "outputs": [
    {
     "data": {
      "image/png": "[encoded data removed]",
      "text/plain": [
       "<PIL.Image.Image image mode=1 size=32x32 at 0x7EFC15545490>"
      ]
     },
     "execution_count": 5,
     "metadata": {},
     "output_type": "execute_result"
    }
   ],
   "source": [
    "displayBinaryStrokes(X[100].astype(bool))"
   ]
  },
  {
   "cell_type": "code",
   "execution_count": null,
   "id": "3ad6ea7f-ba9a-4ea2-93b4-f7837e336f6d",
   "metadata": {},
   "outputs": [],
   "source": []
  }
 ],
 "metadata": {
  "kernelspec": {
   "display_name": "Python 3 (ipykernel)",
   "language": "python",
   "name": "python3"
  },
  "language_info": {
   "codemirror_mode": {
    "name": "ipython",
    "version": 3
   },
   "file_extension": ".py",
   "mimetype": "text/x-python",
   "name": "python",
   "nbconvert_exporter": "python",
   "pygments_lexer": "ipython3",
   "version": "3.9.12"
  }
 },
 "nbformat": 4,
 "nbformat_minor": 5
}
