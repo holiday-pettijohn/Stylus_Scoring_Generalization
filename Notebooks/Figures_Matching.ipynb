{
 "cells": [
  {
   "cell_type": "markdown",
   "id": "34e69c38-36b8-4b2d-bb91-87a4d25d099f",
   "metadata": {},
   "source": [
    "# Generate figures based on the data from Stylus scores"
   ]
  },
  {
   "cell_type": "code",
   "execution_count": 1,
   "id": "4b41effa-f78b-47a0-a0aa-bc8abe0f15cb",
   "metadata": {},
   "outputs": [
    {
     "name": "stderr",
     "output_type": "stream",
     "text": [
      "2023-09-12T16:42:50.006091Z [INFO ] Stylus initialized - Stylus 1.5.0 [RELEASE - Aug 29 2023 15:40:46] (c) 2006-2009 Biologic Institute\n"
     ]
    }
   ],
   "source": [
    "import os\n",
    "import re\n",
    "import sys\n",
    "import xmltodict\n",
    "\n",
    "import matplotlib.pyplot as plt\n",
    "import numpy as np\n",
    "\n",
    "from itertools import permutations\n",
    "from PIL import Image, ImageDraw\n",
    "from random import randint, seed\n",
    "\n",
    "from xmlparse import xmlToGeometry, loadRef, loadGeometry, loadGeometryFNames\n",
    "from score_strokes import alignStrokes, alignStrokesResolve\n",
    "\n",
    "import numpy as np"
   ]
  },
  {
   "cell_type": "code",
   "execution_count": 2,
   "id": "14d8a4d8-3f2b-4a6d-adde-bc5a1b3bc3ff",
   "metadata": {},
   "outputs": [
    {
     "ename": "FileNotFoundError",
     "evalue": "[Errno 2] No such file or directory: 'HanBitmap/54'",
     "output_type": "error",
     "traceback": [
      "\u001b[0;31m---------------------------------------------------------------------------\u001b[0m",
      "\u001b[0;31mFileNotFoundError\u001b[0m                         Traceback (most recent call last)",
      "Cell \u001b[0;32mIn[2], line 3\u001b[0m\n\u001b[1;32m      1\u001b[0m han_char \u001b[38;5;241m=\u001b[39m \u001b[38;5;124m\"\u001b[39m\u001b[38;5;124m5EA6\u001b[39m\u001b[38;5;124m\"\u001b[39m\n\u001b[1;32m      2\u001b[0m ref_g, ref_l, output_size \u001b[38;5;241m=\u001b[39m loadRef(han_char, \u001b[38;5;124m\"\u001b[39m\u001b[38;5;124mReference\u001b[39m\u001b[38;5;124m\"\u001b[39m)\n\u001b[0;32m----> 3\u001b[0m g, l \u001b[38;5;241m=\u001b[39m \u001b[43mloadGeometry\u001b[49m\u001b[43m(\u001b[49m\u001b[38;5;124;43m\"\u001b[39;49m\u001b[38;5;124;43mHanBitmap\u001b[39;49m\u001b[38;5;124;43m\"\u001b[39;49m\u001b[43m,\u001b[49m\u001b[43m \u001b[49m\u001b[43mhan_char\u001b[49m\u001b[43m,\u001b[49m\u001b[43m \u001b[49m\u001b[43moutput_size\u001b[49m\u001b[43m,\u001b[49m\u001b[43m \u001b[49m\u001b[43mf_read\u001b[49m\u001b[43m \u001b[49m\u001b[38;5;241;43m=\u001b[39;49m\u001b[43m \u001b[49m\u001b[43m[\u001b[49m\u001b[38;5;124;43m\"\u001b[39;49m\u001b[38;5;124;43m54\u001b[39;49m\u001b[38;5;124;43m\"\u001b[39;49m\u001b[43m]\u001b[49m\u001b[43m)\u001b[49m[\u001b[38;5;241m0\u001b[39m]\n\u001b[1;32m      4\u001b[0m \u001b[38;5;28mprint\u001b[39m(\u001b[38;5;28mlen\u001b[39m(ref_g), \u001b[38;5;28mlen\u001b[39m(g))\n",
      "File \u001b[0;32m~/Documents/College/Stewart/Stylus_Scoring_Generalization/xmlparse.py:298\u001b[0m, in \u001b[0;36mloadGeometry\u001b[0;34m(data_dir, han_char, output_size, f_read)\u001b[0m\n\u001b[1;32m    296\u001b[0m g_data \u001b[38;5;241m=\u001b[39m []\n\u001b[1;32m    297\u001b[0m \u001b[38;5;28;01mfor\u001b[39;00m f \u001b[38;5;129;01min\u001b[39;00m f_read:\n\u001b[0;32m--> 298\u001b[0m     g \u001b[38;5;241m=\u001b[39m \u001b[43mxmlToGeometry\u001b[49m\u001b[43m(\u001b[49m\u001b[38;5;124;43mf\u001b[39;49m\u001b[38;5;124;43m\"\u001b[39;49m\u001b[38;5;132;43;01m{\u001b[39;49;00m\u001b[43mdata_dir\u001b[49m\u001b[38;5;132;43;01m}\u001b[39;49;00m\u001b[38;5;124;43m/\u001b[39;49m\u001b[38;5;132;43;01m{\u001b[39;49;00m\u001b[43mf\u001b[49m\u001b[38;5;132;43;01m}\u001b[39;49;00m\u001b[38;5;124;43m\"\u001b[39;49m\u001b[43m,\u001b[49m\u001b[43m \u001b[49m\u001b[43moutput_size\u001b[49m\u001b[43m)\u001b[49m\n\u001b[1;32m    299\u001b[0m     g_data\u001b[38;5;241m.\u001b[39mappend(g)\n\u001b[1;32m    300\u001b[0m \u001b[38;5;28;01mreturn\u001b[39;00m g_data\n",
      "File \u001b[0;32m~/Documents/College/Stewart/Stylus_Scoring_Generalization/xmlparse.py:212\u001b[0m, in \u001b[0;36mxmlToGeometry\u001b[0;34m(xfile, output_size, border)\u001b[0m\n\u001b[1;32m    211\u001b[0m \u001b[38;5;28;01mdef\u001b[39;00m \u001b[38;5;21mxmlToGeometry\u001b[39m(xfile, output_size\u001b[38;5;241m=\u001b[39m(\u001b[38;5;241m32\u001b[39m, \u001b[38;5;241m32\u001b[39m), border\u001b[38;5;241m=\u001b[39m\u001b[38;5;241m0\u001b[39m):\n\u001b[0;32m--> 212\u001b[0m     xml_data \u001b[38;5;241m=\u001b[39m \u001b[38;5;28;43mopen\u001b[39;49m\u001b[43m(\u001b[49m\u001b[43mxfile\u001b[49m\u001b[43m,\u001b[49m\u001b[43m \u001b[49m\u001b[38;5;124;43m\"\u001b[39;49m\u001b[38;5;124;43mr\u001b[39;49m\u001b[38;5;124;43m\"\u001b[39;49m\u001b[43m)\u001b[49m\u001b[38;5;241m.\u001b[39mread()\n\u001b[1;32m    213\u001b[0m     root \u001b[38;5;241m=\u001b[39m xmltodict\u001b[38;5;241m.\u001b[39mparse(xml_data)\n\u001b[1;32m    214\u001b[0m     segments \u001b[38;5;241m=\u001b[39m root[\u001b[38;5;124m\"\u001b[39m\u001b[38;5;124mgenome\u001b[39m\u001b[38;5;124m\"\u001b[39m][\u001b[38;5;124m\"\u001b[39m\u001b[38;5;124mgenes\u001b[39m\u001b[38;5;124m\"\u001b[39m][\u001b[38;5;124m\"\u001b[39m\u001b[38;5;124mgene\u001b[39m\u001b[38;5;124m\"\u001b[39m][\u001b[38;5;124m\"\u001b[39m\u001b[38;5;124msegments\u001b[39m\u001b[38;5;124m\"\u001b[39m][\u001b[38;5;124m\"\u001b[39m\u001b[38;5;124msegment\u001b[39m\u001b[38;5;124m\"\u001b[39m]\n",
      "\u001b[0;31mFileNotFoundError\u001b[0m: [Errno 2] No such file or directory: 'HanBitmap/54'"
     ]
    }
   ],
   "source": [
    "han_char = \"5EA6\"\n",
    "ref_g, ref_l, output_size = loadRef(han_char, \"Reference\")\n",
    "g, l = loadGeometry(\"HanBitmap\", han_char, output_size, f_read = [\"54\"])[0]\n",
    "print(len(ref_g), len(g))"
   ]
  },
  {
   "cell_type": "code",
   "execution_count": null,
   "id": "a0da83d8-5e96-45e5-b8fc-a7904acd35df",
   "metadata": {},
   "outputs": [],
   "source": [
    "alignments = np.array(alignStrokes(g, ref_g, l, ref_l), dtype=int)"
   ]
  },
  {
   "cell_type": "code",
   "execution_count": null,
   "id": "f9ef688d-69a9-4423-ab97-68c086c4f3fb",
   "metadata": {},
   "outputs": [],
   "source": [
    "img = Image.new(mode=\"RGBA\", size=output_size)\n",
    "seed(ref_l[0][0])\n",
    "colors = [(randint(0, 100), randint(0, 100), randint(0, 100)) for _ in range(len(ref_l)+1)]\n",
    "colors_t = [(c[0], c[1], c[2], 70) for c in colors]\n",
    "\n",
    "for i, r in enumerate(alignments):\n",
    "    draw = ImageDraw.Draw(img)\n",
    "    for a in range(len(g[i])-1):\n",
    "        x1, y1 = g[i][a]\n",
    "        x2, y2 = g[i][a+1]\n",
    "        y1 = -(y1-output_size[1]/2)+output_size[1]/2\n",
    "        y2 = -(y2-output_size[1]/2)+output_size[1]/2\n",
    "        draw.line(((x1, y1), (x2, y2)), width=6, fill=colors[r])\n",
    "\n",
    "for i, c in enumerate(colors_t[:-1]):\n",
    "    draw = ImageDraw.Draw(img)\n",
    "    for a in range(len(ref_g[i])-1):\n",
    "        x1, y1 = ref_g[i][a]\n",
    "        x2, y2 = ref_g[i][a+1]\n",
    "        y1 = -(y1-output_size[1]/2)+output_size[1]/2\n",
    "        y2 = -(y2-output_size[1]/2)+output_size[1]/2\n",
    "        draw.line(((x1, y1), (x2, y2)), width=3, fill=c)\n",
    "display(img)\n",
    "img.save(f\"{han_char}_matching.png\")"
   ]
  },
  {
   "cell_type": "code",
   "execution_count": null,
   "id": "f49417e8-65dd-4086-85af-b588596f1aa7",
   "metadata": {},
   "outputs": [],
   "source": [
    "perms = np.array([i for i in permutations(range(1, 10))]) # generate permutation map so we can reference which stroke alignment corrisponds to the max exhaustive scores\n",
    "\n",
    "# 400_exhaust.npy in model mapping\n",
    "exhaustive_scores = np.load(\"Exhaustive/exhaust_5EA6_5EA6_Genes_testing set_maint_0.2 on 5EA6.01_5EA6.01.38.gene.npy\")\n",
    "max_exhaustive = np.max(exhaustive_scores)\n",
    "max_exhaustive_perm = perms[np.argmax(exhaustive_scores)]\n",
    "\n",
    "alignment_ind = np.argmax(np.array([(perms[i] == alignments+1).all() for i in range(len(perms))]))\n",
    "\n",
    "alignment_ind == np.argmax(exhaustive_scores) # check if the score for alignment is the same as the one for exhastive max"
   ]
  },
  {
   "cell_type": "code",
   "execution_count": null,
   "id": "90542b6e-fc65-49c8-a2cb-8a70e774fc45",
   "metadata": {},
   "outputs": [],
   "source": [
    "def sortExhaustiveScores(ref_char, han_char, f_read, exhaust_dir = \"Exhaustive\", conflict_resolution = False):\n",
    "    exhaust_alignment_scores = []\n",
    "    identical_alignments = []\n",
    "    ref_g, ref_l, output_size = loadRef(ref_char, \"Reference\")\n",
    "    geometries, files = loadGeometryFNames(\"HanBitmap\", han_char, output_size, f_read = f_read)\n",
    "    for i in range(len(geometries)):\n",
    "        (g, l), f = geometries[i], files[i].replace(\"/\", \"_\")\n",
    "        if len(g) == len(ref_g) or conflict_resolution:\n",
    "            if conflict_resolution:\n",
    "                alignments = np.array(alignStrokesResolve(g, ref_g, l, ref_l), dtype=int)+1\n",
    "            else:\n",
    "                alignments = np.array(alignStrokes(g, ref_g, l, ref_l), dtype=int)+1\n",
    "            npy_file = f\"{exhaust_dir}/exhaust_{ref_char}_{han_char}_{f}.npy\"\n",
    "            if os.path.isfile(npy_file):\n",
    "                exhaustive_scores = np.load(f\"{exhaust_dir}/exhaust_{ref_char}_{han_char}_{f}.npy\")\n",
    "                max_exhaustive = np.max(exhaustive_scores)\n",
    "                alignment_ind = np.argmax(np.array([(perms[i] == alignments).all() for i in range(len(perms))]))\n",
    "                exhaust_alignment_scores.append((max_exhaustive, exhaustive_scores[alignment_ind]))\n",
    "                identical_alignments.append(np.argmax(exhaustive_scores) == alignment_ind)\n",
    "                if np.argmax(exhaustive_scores) != alignment_ind:\n",
    "                    print(f\"{f_read[i]},\")\n",
    "    exhaust_alignment_scores = np.array(exhaust_alignment_scores)\n",
    "    identical_alignments = np.array(identical_alignments)\n",
    "    return exhaust_alignment_scores, identical_alignments"
   ]
  },
  {
   "cell_type": "code",
   "execution_count": null,
   "id": "e0322561-a4c5-4432-abda-6355bb539ea5",
   "metadata": {},
   "outputs": [],
   "source": [
    "ref_char = \"5EA6\"\n",
    "han_char = \"5EA6\"\n",
    "f_read = [\"54\"]\n",
    "exhaust_vs_heuristic, identical_counts = sortExhaustiveScores(ref_char, han_char, f_read)\n",
    "# exhaust_5EA6_5EA6_Genes_testing set_maint_0.2 on 5EA6.01_5EA6.01.38.gene.npy"
   ]
  },
  {
   "cell_type": "code",
   "execution_count": null,
   "id": "4c20f8f8-1ad5-4d54-a28d-c7a22b8a4c67",
   "metadata": {},
   "outputs": [],
   "source": [
    "x, y = exhaust_vs_heuristic[:, 0], exhaust_vs_heuristic[:, 1]\n",
    "plt.scatter(x, y)"
   ]
  },
  {
   "cell_type": "code",
   "execution_count": null,
   "id": "da17a83a-8372-4198-9554-75bd53ba4544",
   "metadata": {},
   "outputs": [],
   "source": [
    "ref_chars = [\"5EA6\", \"6307\"]#[\"5EA6\", \"6620\", \"6307\", \"5247\"]\n",
    "fig, axs = plt.subplots(1, len(ref_chars), figsize=(5.25, 2.625))\n",
    "\n",
    "f_read = [str(i) for i in range(600)]\n",
    "\n",
    "plt.rcParams.update({'font.size': 8})\n",
    "\n",
    "fig.tight_layout(pad=3.0)\n",
    "for i, ref_char, ax in zip(range(len(ref_chars)), ref_chars, axs.flatten()):\n",
    "    #ax.set_title(f\"{han_char} Transposed to {ref_char}\", fontsize=36)\n",
    "    #ax.set_xlabel(f\"Exhaustive Max Score\", fontsize=36)\n",
    "    #ax.set_ylabel(f\"Greedy Alignment Score\", fontsize=36)\n",
    "    ax.tick_params(axis='both', which='major', labelsize=8)\n",
    "    if i == 1:\n",
    "        ax.set_xlim([0, 0.0003])\n",
    "        ax.set_ylim([0, 0.0003])\n",
    "    #ax.set_yscale('log')\n",
    "    \n",
    "    exhaust_vs_heuristic, identical_counts = sortExhaustiveScores(ref_char, han_char, f_read)\n",
    "    if len(exhaust_vs_heuristic) != 0:\n",
    "        x, y = exhaust_vs_heuristic[:, 0], exhaust_vs_heuristic[:, 1]\n",
    "        ax.scatter(x, y, s=32)\n",
    "    print(f\"Achived perfect alignment on {identical_counts.sum()}/{identical_counts.shape[0]} samples\")\n",
    "plt.savefig(\"Figure_Matching.png\", bbox_inches='tight', dpi=300)"
   ]
  },
  {
   "cell_type": "markdown",
   "id": "e1a37a98-a924-4859-b7fc-853da42311c1",
   "metadata": {
    "tags": []
   },
   "source": [
    "# Error Estimation Algorithm\n",
    "Let Ref be the set of edge points in the Archetype stroke and Gene be the sets of edge points in the gene stroke.\n",
    "$$error_{Ref-Gene} = \\sum_{n=1}^{E} \\sqrt{|Ref_{n}^2 - Gene_{n}^2|}$$\n",
    "\n",
    "$n$ represents each edge point on the Reference Stroke\n",
    "\n",
    "$n\\%progress$ is the percent progress at which point n is located on the Reference stroke\n",
    "\n",
    "$Ref_{n\\%progress}$ and $Gene_{n\\%progress}$ are the (x, y) vectors at the given percent progress.\n",
    "\n",
    "In the formula above, the Euclidian distance formula is being applied to both the x and y components.\n",
    "\n",
    "$P$ is the total number of edge points on the Reference Stroke.\n",
    "\n",
    "We also calculate the error of the Reference Stroke against the gene stroke as follows:\n",
    "$$error_{Gene-Ref} = \\sum_{n=1}^{E} \\sqrt{|Gene_{n}^2 - Ref_{n}^2|}$$\n",
    "Where n%progress indicates the percent progress for the points on the gene stroke as opposed to the reference\n",
    "\n",
    "To account for the possibility that the points in the strokes are arranged backwards, we also calculate the error of the strokes with one of the progress percents flipped:\n",
    "$$error_{Ref-Gene-T} = \\sum_{n=1}^{E} \\sqrt{|Ref_{n}^2 - Gene_{1-n}^2|}$$\n",
    "$$error_{Gene-Ref-T} = \\sum_{n=1}^{E} \\sqrt{|Gene_{n}^2 - Ref_{1-n}^2|}$$\n",
    "\n",
    "We then evaluate\n",
    "$$\\min{(\\max{(error_{Ref-Gene}, error_{Gene-Ref})}, \\max{(error_{Ref-Gene-T}, error_{Gene-Ref-T})})}$$\n",
    "to calculate the final error between the strokes"
   ]
  },
  {
   "cell_type": "code",
   "execution_count": null,
   "id": "272c2176-069f-4456-ba77-65dbc0717e69",
   "metadata": {},
   "outputs": [],
   "source": []
  }
 ],
 "metadata": {
  "kernelspec": {
   "display_name": "Python 3 (ipykernel)",
   "language": "python",
   "name": "python3"
  },
  "language_info": {
   "codemirror_mode": {
    "name": "ipython",
    "version": 3
   },
   "file_extension": ".py",
   "mimetype": "text/x-python",
   "name": "python",
   "nbconvert_exporter": "python",
   "pygments_lexer": "ipython3",
   "version": "3.11.3"
  }
 },
 "nbformat": 4,
 "nbformat_minor": 5
}
