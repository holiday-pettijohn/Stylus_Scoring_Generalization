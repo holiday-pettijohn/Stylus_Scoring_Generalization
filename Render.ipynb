{
 "cells": [
  {
   "cell_type": "markdown",
   "id": "d46dd00c-c443-4279-b7bf-d690e9a32a33",
   "metadata": {},
   "source": [
    "# Render a character to a 64x64 visual array from an XML file representing the drawn strokes"
   ]
  },
  {
   "cell_type": "code",
   "execution_count": 1,
   "id": "b9183cef-8d75-48d5-bf0f-abd3db7bb1bc",
   "metadata": {},
   "outputs": [],
   "source": [
    "import os\n",
    "import xmltodict\n",
    "\n",
    "import matplotlib.pyplot as plt\n",
    "import numpy as np\n",
    "\n",
    "from matplotlib.lines import Line2D\n",
    "from matplotlib import collections as mc\n",
    "from PIL import Image, ImageDraw"
   ]
  },
  {
   "cell_type": "code",
   "execution_count": 2,
   "id": "dda6f9d8-b628-4c0b-81f9-1ac7c637a466",
   "metadata": {},
   "outputs": [],
   "source": [
    "def xmlToBitmap(xfile, output_size=(32, 32)):\n",
    "    \"\"\"\n",
    "    Convert an XML character genome file to a bitmap array representing the character\n",
    "    Saves the fitness score of said genome along with the bitmap\n",
    "    \"\"\"\n",
    "    xml_data = open(xfile, \"r\").read()\n",
    "    root = xmltodict.parse(xml_data)\n",
    "    score = root[\"genome\"][\"statistics\"][\"@score\"]\n",
    "    han_char = root[\"genome\"][\"genes\"][\"gene\"][\"hanReferences\"][\"hanReference\"][\"@unicode\"]\n",
    "    segments = root[\"genome\"][\"genes\"][\"gene\"][\"segments\"][\"segment\"]\n",
    "    drawn_char = drawXml(segments, output_size)\n",
    "    return (han_char, score, drawn_char)\n",
    "\n",
    "def drawXml(segments, output_size=(32, 32), border=4):\n",
    "    \"\"\"\n",
    "    Process and render the coherent strokes in the xml data\n",
    "    \"\"\"\n",
    "    img = Image.new(mode=\"1\", size=output_size)\n",
    "    draw = ImageDraw.Draw(img)\n",
    "    minx, miny, maxx, maxy = None, None, None, None\n",
    "    for segment in segments:\n",
    "        if segment[\"@coherent\"] == \"true\":\n",
    "            for point in segment[\"point\"]:\n",
    "                if minx is None:\n",
    "                    minx = float(point[\"@x\"])\n",
    "                if miny is None:\n",
    "                    miny = float(point[\"@y\"])\n",
    "                if maxx is None:\n",
    "                    maxx = float(point[\"@x\"])\n",
    "                if maxy is None:\n",
    "                    maxy = float(point[\"@y\"])\n",
    "                if float(point[\"@x\"]) > maxx:\n",
    "                    maxx = float(point[\"@x\"])\n",
    "                if float(point[\"@x\"]) < minx:\n",
    "                    minx = float(point[\"@x\"])\n",
    "                if float(point[\"@y\"]) > maxy:\n",
    "                    maxy = float(point[\"@y\"])\n",
    "                if float(point[\"@y\"]) < miny:\n",
    "                    miny = float(point[\"@y\"])\n",
    "    for segment in segments:\n",
    "        if segment[\"@coherent\"] == \"true\":\n",
    "            for i in range(len(segment[\"point\"][:-1])):\n",
    "                x1, y1, x2, y2 = ((float(segment[\"point\"][i][\"@x\"])-minx)*((output_size[0]-border)/(maxx-minx))+border/2,\n",
    "                                  (float(segment[\"point\"][i][\"@y\"])-miny)*((output_size[1]-border)/(maxy-miny))+border/2,\n",
    "                                  (float(segment[\"point\"][i+1][\"@x\"])-minx)*((output_size[0]-border)/(maxx-minx))+border/2,\n",
    "                                  (float(segment[\"point\"][i+1][\"@y\"])-miny)*((output_size[1]-border)/(maxy-miny))+border/2)\n",
    "                y1 = -(y1-output_size[1]/2)+output_size[1]/2\n",
    "                y2 = -(y2-output_size[1]/2)+output_size[1]/2\n",
    "                draw.line(((x1, y1), (x2, y2)), width=1, fill=1)\n",
    "    img.save(\"test.png\")\n",
    "    display(img)\n",
    "    return np.array(img).tobytes()\n"
   ]
  },
  {
   "cell_type": "code",
   "execution_count": 3,
   "id": "1b08172f-e484-4b8a-a4c6-3164ac426d1c",
   "metadata": {},
   "outputs": [
    {
     "data": {
      "image/png": "[encoded data removed]",
      "text/plain": [
       "<PIL.Image.Image image mode=1 size=32x32 at 0x7FA34AFDD490>"
      ]
     },
     "metadata": {},
     "output_type": "display_data"
    },
    {
     "data": {
      "image/png": "[encoded data removed]",
      "text/plain": [
       "<PIL.Image.Image image mode=1 size=32x32 at 0x7FA34AC5D880>"
      ]
     },
     "execution_count": 3,
     "metadata": {},
     "output_type": "execute_result"
    }
   ],
   "source": [
    "_, _, b = xmlToBitmap(\"./Genes/9E7C.02L.gene\")\n",
    "i = np.frombuffer(b, dtype=bool)\n",
    "i = i.reshape(32, 32)\n",
    "Image.fromarray(i)"
   ]
  },
  {
   "cell_type": "code",
   "execution_count": 4,
   "id": "055117c1-53de-4e0e-9d16-989ff65e029d",
   "metadata": {},
   "outputs": [],
   "source": [
    "def dupeCheckNew(han_char, new_X, new_y, out_dir=\"./HanBitmap\"):\n",
    "    \"\"\"\n",
    "    Checks new data for duplicates and removes them while appending the new data to an existing file\n",
    "    \"\"\"\n",
    "    files = os.listdir(out_dir)\n",
    "    if f\"{out_dir}/{han_char}_X\" not in files:\n",
    "        fX = open(f\"{out_dir}/{han_char}_X\", \"wb\")\n",
    "        fX.write(new_X)\n",
    "        fy = open(f\"{out_dir}/{han_char}_y\", \"w\")\n",
    "        fy.write(new_y)\n",
    "        fX.close()\n",
    "        fy.close()\n",
    "        return\n",
    "    han_char = f.split(\"_\")[0]\n",
    "    # check for duplicates\n",
    "    fX = open(f\"{out_dir}/{han_char}_X\", \"rb\")\n",
    "    fX_old = fX.readlines()\n",
    "    fX_new = np.concatenate((np.array(fX_old), np.array(new_X.split())))\n",
    "    uniques, u_filter = np.unique(fX_data, return_index=True, axis=0)\n",
    "    if len(fX_data) == len(uniques):\n",
    "        fX = open(f\"{out_dir}/{han_char}_X\", \"ab\")\n",
    "        fX.write(new_X)\n",
    "        fY = open(f\"{out_dir}/{han_char}_y\", \"a\")\n",
    "        fy.write(new_y)\n",
    "    elif len(fX_old) == len(uniques):\n",
    "        pass\n",
    "    else:\n",
    "        fX_new = fX_new[u_filter]\n",
    "        fX_str = b\"\"\n",
    "        for s in fX_new:\n",
    "            fX_str += s\n",
    "        fX.close()\n",
    "        print(fX_str)\n",
    "        fX = open(f\"{out_dir}/{han_char}_X\", \"wb\")\n",
    "        fX.write(fX_str)\n",
    "        fX.close()\n",
    "        # only open fy if we made changes to fX\n",
    "        fy = open(f\"{out_dir}/{han_char}_y\", \"r\")\n",
    "        fy_new = np.concatenate((np.array(fy.readlines()), np.array(new_y.split())))[u_filter]\n",
    "        fy_str = \"\"\n",
    "        for s in fy_new:\n",
    "            fy_str += s\n",
    "        print(fy_str)\n",
    "        fy = open(f\"{out_dir}/{han_char}_y\", \"w\")\n",
    "        fy.write(fy_str)\n",
    "    fX.close()\n",
    "    fy.close()\n",
    "\n",
    "def scanDir(xdir, out_dir=\"./HanBitmap\"):\n",
    "    \"\"\"\n",
    "    Iterates over a directory and scans all of the gene files within, outputting them in the form of bitmap (X) and score (y)\n",
    "    \"\"\"\n",
    "    dir_list = os.listdir(xdir)\n",
    "    files_X = {}\n",
    "    files_y = {}\n",
    "    for f in dir_list:\n",
    "        if f.endswith(\".gene\"):\n",
    "            han_char, score, bitmap = xmlToBitmap(f\"{xdir}/{f}\")\n",
    "            if han_char not in files_X or han_char not in files_y:\n",
    "                files_X[han_char] = b\"\"\n",
    "                files_y[han_char] = \"\"\n",
    "            files_X[han_char] += bitmap + b\"\\n\"\n",
    "            files_y[han_char] += str(score) + \"\\n\"\n",
    "    if not os.path.isdir(out_dir):\n",
    "        os.mkdir(out_dir)\n",
    "    for han_char in files_X:\n",
    "        fX = f\"{out_dir}/{han_char}_X\"\n",
    "        fy = f\"{out_dir}/{han_char}_y\"\n",
    "        dupeCheckNew(han_char, files_X[han_char], files_y[han_char], out_dir)"
   ]
  },
  {
   "cell_type": "code",
   "execution_count": 5,
   "id": "b17cf4c6-50d6-4e8c-b603-57db3af535d7",
   "metadata": {},
   "outputs": [
    {
     "data": {
      "image/png": "[encoded data removed]",
      "text/plain": [
       "<PIL.Image.Image image mode=1 size=32x32 at 0x7FA3407EC8B0>"
      ]
     },
     "metadata": {},
     "output_type": "display_data"
    },
    {
     "data": {
      "image/png": "[encoded data removed]",
      "text/plain": [
       "<PIL.Image.Image image mode=1 size=32x32 at 0x7FA3407ECD90>"
      ]
     },
     "metadata": {},
     "output_type": "display_data"
    },
    {
     "data": {
      "image/png": "[encoded data removed]",
      "text/plain": [
       "<PIL.Image.Image image mode=1 size=32x32 at 0x7FA3407EC370>"
      ]
     },
     "metadata": {},
     "output_type": "display_data"
    },
    {
     "data": {
      "image/png": "[encoded data removed]",
      "text/plain": [
       "<PIL.Image.Image image mode=1 size=32x32 at 0x7FA3407EC940>"
      ]
     },
     "metadata": {},
     "output_type": "display_data"
    },
    {
     "data": {
      "image/png": "[encoded data removed]",
      "text/plain": [
       "<PIL.Image.Image image mode=1 size=32x32 at 0x7FA3407EC100>"
      ]
     },
     "metadata": {},
     "output_type": "display_data"
    },
    {
     "data": {
      "image/png": "[encoded data removed]",
      "text/plain": [
       "<PIL.Image.Image image mode=1 size=32x32 at 0x7FA3407EC9A0>"
      ]
     },
     "metadata": {},
     "output_type": "display_data"
    },
    {
     "data": {
      "image/png": "[encoded data removed]",
      "text/plain": [
       "<PIL.Image.Image image mode=1 size=32x32 at 0x7FA3407ECAC0>"
      ]
     },
     "metadata": {},
     "output_type": "display_data"
    },
    {
     "data": {
      "image/png": "[encoded data removed]",
      "text/plain": [
       "<PIL.Image.Image image mode=1 size=32x32 at 0x7FA3407ECE80>"
      ]
     },
     "metadata": {},
     "output_type": "display_data"
    }
   ],
   "source": [
    "scanDir(\"Genes\")"
   ]
  },
  {
   "cell_type": "code",
   "execution_count": null,
   "id": "864c9ba8-0e4d-4937-aa2e-e5a223b1ef68",
   "metadata": {},
   "outputs": [],
   "source": []
  }
 ],
 "metadata": {
  "kernelspec": {
   "display_name": "Python 3 (ipykernel)",
   "language": "python",
   "name": "python3"
  },
  "language_info": {
   "codemirror_mode": {
    "name": "ipython",
    "version": 3
   },
   "file_extension": ".py",
   "mimetype": "text/x-python",
   "name": "python",
   "nbconvert_exporter": "python",
   "pygments_lexer": "ipython3",
   "version": "3.9.12"
  }
 },
 "nbformat": 4,
 "nbformat_minor": 5
}
