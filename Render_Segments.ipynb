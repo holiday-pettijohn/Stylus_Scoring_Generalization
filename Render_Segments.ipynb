{
 "cells": [
  {
   "cell_type": "markdown",
   "id": "ecd542e3-5b8f-4486-8658-3d542cdf21bf",
   "metadata": {},
   "source": [
    "# Render Chinese characters in segments as opposed to as a whole"
   ]
  },
  {
   "cell_type": "code",
   "execution_count": 1,
   "id": "32a5396f-7bb9-4bd4-8d7d-6c4157555962",
   "metadata": {},
   "outputs": [],
   "source": [
    "import os\n",
    "import xmltodict\n",
    "\n",
    "import matplotlib.pyplot as plt\n",
    "import numpy as np\n",
    "\n",
    "from matplotlib.lines import Line2D\n",
    "from matplotlib import collections as mc\n",
    "from PIL import Image, ImageDraw"
   ]
  },
  {
   "cell_type": "code",
   "execution_count": 2,
   "id": "649d6ff4-0278-47e5-bd20-65eebc28deb5",
   "metadata": {},
   "outputs": [],
   "source": [
    "def xmlToSegments(xfile):\n",
    "    \"\"\"\n",
    "    Convert an XML character genome file to a bitmap array representing the character\n",
    "    Saves the fitness score of said genome along with the bitmap\n",
    "    \"\"\"\n",
    "    xml_data = open(xfile, \"r\").read()\n",
    "    root = xmltodict.parse(xml_data)\n",
    "    score = root[\"genome\"][\"statistics\"][\"@score\"]\n",
    "    han_char = root[\"genome\"][\"genes\"][\"gene\"][\"hanReferences\"][\"hanReference\"][\"@unicode\"]\n",
    "    segments = root[\"genome\"][\"genes\"][\"gene\"][\"segments\"][\"segment\"]\n",
    "    drawn_char = drawSegments(segments)\n",
    "    return (han_char, score, drawn_char)\n",
    "\n",
    "def drawSegments(segments, output_size=(32, 32), border=4):\n",
    "    \"\"\"\n",
    "    Process and render the coherent strokes in the xml data\n",
    "    Saves the segments as line seperated byte arrays\n",
    "    \"\"\"\n",
    "    imgs = b\"\"\n",
    "    minx, miny, maxx, maxy = None, None, None, None\n",
    "    for segment in segments:\n",
    "        if segment[\"@coherent\"] == \"true\":\n",
    "            for point in segment[\"point\"]:\n",
    "                if minx is None:\n",
    "                    minx = float(point[\"@x\"])\n",
    "                if miny is None:\n",
    "                    miny = float(point[\"@y\"])\n",
    "                if maxx is None:\n",
    "                    maxx = float(point[\"@x\"])\n",
    "                if maxy is None:\n",
    "                    maxy = float(point[\"@y\"])\n",
    "                if float(point[\"@x\"]) > maxx:\n",
    "                    maxx = float(point[\"@x\"])\n",
    "                if float(point[\"@x\"]) < minx:\n",
    "                    minx = float(point[\"@x\"])\n",
    "                if float(point[\"@y\"]) > maxy:\n",
    "                    maxy = float(point[\"@y\"])\n",
    "                if float(point[\"@y\"]) < miny:\n",
    "                    miny = float(point[\"@y\"])\n",
    "    for segment in segments:\n",
    "        if segment[\"@coherent\"] == \"true\":\n",
    "            img = Image.new(mode=\"1\", size=output_size)\n",
    "            draw = ImageDraw.Draw(img)\n",
    "            for i in range(len(segment[\"point\"][:-1])):\n",
    "                x1, y1, x2, y2 = ((float(segment[\"point\"][i][\"@x\"])-minx)*((output_size[0]-border)/(maxx-minx))+border/2,\n",
    "                                  (float(segment[\"point\"][i][\"@y\"])-miny)*((output_size[1]-border)/(maxy-miny))+border/2,\n",
    "                                  (float(segment[\"point\"][i+1][\"@x\"])-minx)*((output_size[0]-border)/(maxx-minx))+border/2,\n",
    "                                  (float(segment[\"point\"][i+1][\"@y\"])-miny)*((output_size[1]-border)/(maxy-miny))+border/2)\n",
    "                y1 = -(y1-output_size[1]/2)+output_size[1]/2\n",
    "                y2 = -(y2-output_size[1]/2)+output_size[1]/2\n",
    "                draw.line(((x1, y1), (x2, y2)), width=1, fill=1)\n",
    "            imgs += np.array(img).flatten().tobytes() + b\"\\n\"\n",
    "    return imgs\n",
    "\n",
    "def scanSegments(xdir, out_dir=\"./HanBitmap\"):\n",
    "    \"\"\"\n",
    "    Iterates over a directory and scans all of the gene files within, outputting them in the form of bitmap (X) and score (y)\n",
    "    \"\"\"\n",
    "    dir_list = os.listdir(xdir)\n",
    "    han_i = {}\n",
    "    for f in dir_list:\n",
    "        if f.endswith(\".gene\"):\n",
    "            han_char, score, bitmap = xmlToSegments(f\"{xdir}/{f}\")\n",
    "            if not os.path.isdir(f\"{out_dir}/{han_char}\"):\n",
    "                os.mkdir(f\"{out_dir}/{han_char}\")\n",
    "            if not han_char in han_i:\n",
    "                han_i[han_char] = 0\n",
    "            dfile = open(f\"{out_dir}/{han_char}/{han_i[han_char]}\", \"wb\")\n",
    "            dfile.write(bytes(score, \"UTF-8\")+b\"\\n\"+bitmap)\n",
    "            han_i[han_char] = han_i[han_char] + 1\n"
   ]
  },
  {
   "cell_type": "code",
   "execution_count": 3,
   "id": "4585c07b-1fdd-40c0-aa93-29ef965b4a7b",
   "metadata": {},
   "outputs": [],
   "source": [
    "scanSegments(\"Genes\")"
   ]
  },
  {
   "cell_type": "code",
   "execution_count": null,
   "id": "076a9bfa-a9c7-420e-b49f-d7713651ffc0",
   "metadata": {},
   "outputs": [],
   "source": []
  }
 ],
 "metadata": {
  "kernelspec": {
   "display_name": "Python 3 (ipykernel)",
   "language": "python",
   "name": "python3"
  },
  "language_info": {
   "codemirror_mode": {
    "name": "ipython",
    "version": 3
   },
   "file_extension": ".py",
   "mimetype": "text/x-python",
   "name": "python",
   "nbconvert_exporter": "python",
   "pygments_lexer": "ipython3",
   "version": "3.9.12"
  }
 },
 "nbformat": 4,
 "nbformat_minor": 5
}
