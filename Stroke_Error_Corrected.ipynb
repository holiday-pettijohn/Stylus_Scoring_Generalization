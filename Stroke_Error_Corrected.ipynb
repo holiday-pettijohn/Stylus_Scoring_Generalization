{
 "cells": [
  {
   "cell_type": "markdown",
   "id": "908b26e3",
   "metadata": {},
   "source": [
    "# Debug the Calculation of Stroke Error"
   ]
  },
  {
   "cell_type": "code",
   "execution_count": 1,
   "id": "75cd8874",
   "metadata": {},
   "outputs": [
    {
     "name": "stderr",
     "output_type": "stream",
     "text": [
      "2023-12-07T19:02:49.451003Z [INFO ] Stylus initialized - Stylus 1.5.0 [RELEASE - Aug 29 2023 15:40:46] (c) 2006-2009 Biologic Institute\n"
     ]
    }
   ],
   "source": [
    "import os\n",
    "import xmltodict\n",
    "\n",
    "import matplotlib.pyplot as plt\n",
    "import numpy as np\n",
    "\n",
    "from PIL import Image, ImageDraw\n",
    "from random import randint, seed\n",
    "from xmlparse import xmlToGeometry, loadGeometry\n",
    "\n",
    "from score_strokes import alignStrokes, greedyAlign2\n",
    "from exhaustive import exhaustScoreAlignment\n",
    "\n",
    "import numpy as np"
   ]
  },
  {
   "cell_type": "code",
   "execution_count": 2,
   "id": "9ef8ec66",
   "metadata": {},
   "outputs": [],
   "source": [
    "def loadRef(han_char, ref_dir = \"Reference\"):\n",
    "    stroke_list = []\n",
    "    frac_dists = []\n",
    "    ref_path = f\"{ref_dir}/{han_char[0]}000/{han_char}.han\"\n",
    "    ref_xml = open(ref_path, \"r\").read()\n",
    "    root = xmltodict.parse(ref_xml)\n",
    "    bounds = root[\"hanDefinition\"][\"bounds\"]\n",
    "    x_min, y_min, x_max, y_max = (float(bounds[\"@left\"]), float(bounds[\"@bottom\"]), float(bounds[\"@right\"]), float(bounds[\"@top\"]))\n",
    "    scale = (int(x_max-x_min), int(y_max-y_min))\n",
    "    strokes = root[\"hanDefinition\"][\"strokes\"][\"stroke\"]\n",
    "    for stroke in strokes:\n",
    "        points = stroke[\"points\"][\"forward\"]\n",
    "        point_arr = []\n",
    "        frac_arr = []\n",
    "        for point in points[\"pointDistance\"]:\n",
    "            point_arr.append((float(point[\"@x\"])-x_min,\n",
    "                              float(point[\"@y\"])-y_min))\n",
    "            frac_arr.append(float(point[\"@fractionalDistance\"]))\n",
    "        stroke_list.append(np.array(point_arr))\n",
    "        frac_dists.append(np.array(frac_arr))\n",
    "    return stroke_list, frac_dists, scale\n"
   ]
  },
  {
   "cell_type": "code",
   "execution_count": 3,
   "id": "3c92028f",
   "metadata": {},
   "outputs": [],
   "source": [
    "\"\"\"\n",
    "ref_g, ref_l, output_size = loadRef(\"4EFB\", \"Reference\")\n",
    "# in order to test multiple samples, add the file numbers to the f_read list and delete the [0] at the line end\n",
    "# be aware this will turn g and l into iterables, so handle your loops accordingly\n",
    "g, l = loadGeometry(\"Genes/maint_0.2 on 4EFB.2/\", \"4EFB\", output_size, f_read = [\"4EFB.2.13.gene\"])[0]\n",
    "\"\"\"\n",
    "#'Genes/6-stroke genes/min score 0.1/maint_0.1 on 4EFB.2/4EFB.2.90.gene'\n",
    "#5408\n",
    "\"\"\"\n",
    "ref_char = \"5408\"\n",
    "han_char = \"4EFB\"\n",
    "data_dir = \"Genes/sixgenes/maint_0.2 on 4EFB.2\"\n",
    "f_read = [\"4EFB.2.19.gene\"]\n",
    "\"\"\"\n",
    "ref_char = \"4EFB\"\n",
    "han_char = \"4EFB\"\n",
    "data_dir = \"Genes/6-stroke genes/min score 0.1/maint_0.1 on 4EFB.2\"\n",
    "f_read = [\"4EFB.2.90.gene\"]\n",
    "ref_g, ref_l, output_size = loadRef(ref_char, \"Reference\")\n",
    "g, l = loadGeometry(data_dir, han_char, output_size, f_read=f_read)[0]"
   ]
  },
  {
   "cell_type": "code",
   "execution_count": 4,
   "id": "58cc3bd4",
   "metadata": {},
   "outputs": [],
   "source": [
    "\"\"\"\n",
    "def alignStrokes(strokes, ref, p_strokes, p_ref):\n",
    "\n",
    "    error_maps = strokeErrorMatrix(strokes, ref, p_strokes, p_ref)\n",
    "\n",
    "    # function to get stroke length given a stroke value (in this case, a stroke value is a 2d list\n",
    "    # that contains an x coord in stroke[][0] and a y coord in stroke[][1])\n",
    "    def getStrokeLen(stroke):\n",
    "        length = 0 # adding all the lengths we get between two points to this variable\n",
    "        # while it looks a little complicated, this is just the pythagorean theorem applied between two coordinates, just \n",
    "        # how one would calculate it on a graph: sqrt(a^2 + b^2)\n",
    "        for i in range(len(stroke)-1):\n",
    "            length += ((stroke[i][0] - stroke[i+1][0])**2 + (stroke[i][1] - stroke[i+1][1])**2)**0.5\n",
    "        return length\n",
    "\n",
    "    #get the lengths of each stroke for the order in the greedy algorithm\n",
    "    ref_lengths = []\n",
    "    for i in range(len(ref)):\n",
    "        ref_lengths.append(getStrokeLen(ref[i]))\n",
    "\n",
    "    # -1 just means unmatched here since 0 (the other 'default' filler) is a meaningful number in this context\n",
    "    stroke_map = np.full(len(strokes), -1)\n",
    "\n",
    "    for each in ref_lengths:\n",
    "        largestref = np.argmax(ref_lengths) # this is the index for the reference stroke that is largest\n",
    "        smallerror = np.argmin(error_maps[largestref]) # access the error map from the largest stroke's index and see which error is smallest\n",
    "\n",
    "        while(stroke_map[smallerror]!=-1):\n",
    "            # change small error so that we do not repeat over indexes that are already taken\n",
    "            # just keeps repeating until we land on an index that doesn't already have a value in its place\n",
    "            error_maps[largestref][smallerror] = 10000\n",
    "            smallerror = np.argmin(error_maps[largestref])\n",
    "\n",
    "        stroke_map[smallerror] = largestref # set the index in the stroke_map to the reference stroke we designated\n",
    "        print(\"Resulting error map:\")\n",
    "        print(error_maps.astype(int))\n",
    "        print(stroke_map)\n",
    "\n",
    "        ref_lengths[largestref] = 0 # set the length of the reference stroke to 0 so we never use it again\n",
    "\n",
    "    # get rid of invalid (-1) values\n",
    "    stroke_map = np.array([n for n in stroke_map if n != -1])\n",
    "\n",
    "    return stroke_map\n",
    "\"\"\"\n",
    "\n",
    "def greedyAlign2(strokes, ref, p_strokes, p_ref):\n",
    "    error_maps = strokeErrorMatrix(strokes, ref, p_strokes, p_ref)\n",
    "\n",
    "    # -1 just means unmatched here since 0 (the other 'default' filler) is a meaningful number in this context\n",
    "    stroke_map = np.full(len(strokes), -1)\n",
    "\n",
    "    for _ in stroke_map:\n",
    "        ref_i, smallerror = np.unravel_index(np.argmin(error_maps), error_maps.shape)\n",
    "        # access the error map from the largest stroke's index and see which error is smallest, and to which ref stroke it belongs\n",
    "        # make all of the selected reference index's errors large to prevent reuse\n",
    "        error_maps[ref_i] = 10000\n",
    "\n",
    "        stroke_map[smallerror] = ref_i # set the index in the stroke_map to the reference stroke we chose\n",
    "\n",
    "    print(stroke_map)\n",
    "    # get rid of invalid (-1) values\n",
    "    #stroke_map = np.array([n for n in stroke_map if n != -1])\n",
    "\n",
    "    return stroke_map\n",
    "\"\"\"\n",
    "def alignStrokes(strokes, ref, p_strokes, p_ref):\n",
    "    # function to get stroke length given a stroke value (in this case, a stroke value is a 2d list\n",
    "    # that contains an x coord in stroke[][0] and a y coord in stroke[][1])\n",
    "    def getStrokeLen(stroke):\n",
    "        length = 0 # adding all the lengths we get between two points to this variable\n",
    "        # while it looks a little complicated, this is just the pythagorean theorem applied between two coordinates, just \n",
    "        # how one would calculate it on a graph: sqrt(a^2 + b^2)\n",
    "        for i in range(len(stroke)-1):\n",
    "            length += ((stroke[i][0] - stroke[i+1][0])**2 + (stroke[i][1] - stroke[i+1][1])**2)**0.5\n",
    "        return length\n",
    "\n",
    "    #get the lengths of each stroke for the order in the greedy algorithm\n",
    "    ref_lengths = []\n",
    "    for i in range(len(strokes)):\n",
    "        ref_lengths.append(getStrokeLen(ref[i]))\n",
    "    priority = np.argsort(ref_lengths)[::-1]\n",
    "    \n",
    "    strokes = strokes\n",
    "    p_strokes = p_strokes\n",
    "    ref = ref\n",
    "    p_ref = p_ref\n",
    "    \n",
    "    error_maps = strokeErrorMatrix(strokes, ref, p_strokes, p_ref)\n",
    "    \n",
    "    print(error_maps.astype(int))\n",
    "\n",
    "    # -1 just means unmatched here since 0 (the other 'default' filler) is a meaningful number in this context\n",
    "    stroke_map = np.full(len(strokes), -1)\n",
    "\n",
    "    \n",
    "    for i in priority:\n",
    "        largestref = i # this is the index for the reference stroke that is largest\n",
    "        smallerror = np.argmin(error_maps[largestref, :]) # access the error map from the largest stroke's index and see which error is smallest\n",
    "        print(f\"{error_maps.astype(int)[i]} - minimizing for priority stroke {i}\")\n",
    "        error_maps[:, smallerror] = 10000\n",
    "        print(\"Resulting error map:\")\n",
    "        print(error_maps.astype(int))\n",
    "        stroke_map[smallerror] = largestref # set the index in the stroke_map to the reference stroke we designated\n",
    "        print(stroke_map)\n",
    "    \n",
    "    return stroke_map\n",
    "\"\"\"\n",
    "xcolors = [\"#7e1e9c\", \"#15b01a\", \"#0343df\", \"#653700\", \"#e50000\", \"#f97306\", \"#033500\", \"#ffff14\", \"#001146\"]\n",
    "color_selection = [(int(c[1:3], 16), int(c[3:5], 16), int(c[5:7], 16)) for c in xcolors]\n",
    "colors = color_selection[:len(ref_l)+1]\n",
    "\n",
    "def strokeErrorMatrix(strokes, ref, p_strokes, p_ref):\n",
    "    error_map = np.zeros((len(ref), len(strokes)), dtype=float)\n",
    "    for i, ref_stroke, r_progresses in zip(range(len(ref)), ref, p_ref):\n",
    "        for j, candidate_stroke, c_progresses in zip(range(len(strokes)), strokes, p_strokes):\n",
    "            error_map[i, j] = strokeError(ref_stroke, candidate_stroke, r_progresses, c_progresses)\n",
    "            print(f\"Ref stroke {i} vs Candidate Stroke {j} - error: {error_map[i, j]}\")\n",
    "            img = Image.new(mode=\"RGBA\", size=output_size)\n",
    "            draw = ImageDraw.Draw(img)\n",
    "            for a in range(len(ref_stroke)-1):\n",
    "                x1, y1 = ref_stroke[a]\n",
    "                x2, y2 = ref_stroke[a+1]\n",
    "                y1 = -(y1-output_size[1]/2)+output_size[1]/2\n",
    "                y2 = -(y2-output_size[1]/2)+output_size[1]/2\n",
    "                draw.line(((x1, y1), (x2, y2)), width=6, fill=colors[0])\n",
    "            for b in range(len(candidate_stroke)-1):\n",
    "                x1, y1 = candidate_stroke[b]\n",
    "                x2, y2 = candidate_stroke[b+1]\n",
    "                y1 = -(y1-output_size[1]/2)+output_size[1]/2\n",
    "                y2 = -(y2-output_size[1]/2)+output_size[1]/2\n",
    "                draw.line(((x1, y1), (x2, y2)), width=6, fill=colors[1])\n",
    "            #display(img)\n",
    "    return error_map\n",
    "\n",
    "def strokeError(stroke, ref_stroke, p_stroke, p_ref, mode=\"max\"):\n",
    "    forward_stroke_error, back_stroke_error = np.zeros(len(ref_stroke)), np.zeros(len(ref_stroke))\n",
    "    forward_ref_error, back_ref_error = np.zeros(len(stroke)), np.zeros(len(stroke))\n",
    "    for i, rpoint, rprogress in zip(range(len(ref_stroke)), ref_stroke, p_ref):\n",
    "        forward_stroke_error[i] = (np.linalg.norm(abs(rpoint-strokeTrace(stroke, p_stroke, rprogress))))\n",
    "        #print(i, rpoint, strokeTrace(stroke, p_stroke, rprogress), forward_stroke_error[i])\n",
    "    #print(f\"Final forward stroke error: {forward_stroke_error.max()}\")\n",
    "    for i, rpoint, rprogress in zip(range(len(ref_stroke)), ref_stroke[::-1], p_ref[::-1]):\n",
    "        back_stroke_error[i] = (np.linalg.norm(abs(rpoint-strokeTrace(stroke, p_stroke, 1-rprogress))))\n",
    "        #print(i, rpoint, strokeTrace(stroke, p_stroke, 1-rprogress), back_stroke_error[i])\n",
    "    #print(f\"Final back stroke error: {back_stroke_error.max()}\")\n",
    "    for i, point, progress in zip(range(len(stroke)), stroke, p_stroke):\n",
    "        forward_ref_error[i] = (np.linalg.norm((point-strokeTrace(ref_stroke, p_ref, progress))))\n",
    "        #print(i, point, strokeTrace(stroke, p_stroke, progress), forward_ref_error[i])\n",
    "    #print(f\"Final forward ref error: {forward_ref_error.max()}\")\n",
    "    for i, point, progress in zip(range(len(stroke)), stroke[::-1], p_stroke[::-1]):\n",
    "        back_ref_error[i] = (np.linalg.norm((point-strokeTrace(ref_stroke, p_ref, 1-progress))))\n",
    "        #print(i, point, strokeTrace(stroke, p_stroke, 1-progress), back_ref_error[i])\n",
    "    #print(f\"Final back ref error: {back_ref_error.max()}\")\n",
    "    fse_maxdev = forward_stroke_error.argmax()\n",
    "    bse_maxdev = back_stroke_error.argmax()\n",
    "    fre_maxdev = forward_ref_error.argmax()\n",
    "    bre_maxdev = back_ref_error.argmax()\n",
    "    final_error = max(min(forward_stroke_error.max(), back_stroke_error.max()), min(forward_ref_error.max(), back_ref_error.max()))\n",
    "    #print(f\"Final error: {final_error}\")\n",
    "    return final_error\n",
    "\n",
    "def strokeTrace(stroke, stroke_progresses, progress):\n",
    "    if progress == 1:\n",
    "        return stroke[-1]\n",
    "    progress_line = len(stroke_progresses)-1\n",
    "    for i in range(1, len(stroke_progresses)):\n",
    "        if stroke_progresses[i] > progress:\n",
    "            progress_line = i-1\n",
    "            break\n",
    "    startp, endp = stroke_progresses[progress_line], stroke_progresses[progress_line+1]\n",
    "    norm_progress = (progress-startp)/endp\n",
    "    if stroke[progress_line+1][0] == stroke[progress_line][0]:\n",
    "        x = stroke[progress_line][0]\n",
    "        y = norm_progress*(stroke[progress_line+1][1]-stroke[progress_line][1])+stroke[progress_line][1]\n",
    "    else:\n",
    "        slope = (stroke[progress_line+1][1]-stroke[progress_line][1])/(stroke[progress_line+1][0]-stroke[progress_line][0])\n",
    "        intercept = stroke[progress_line][1]-slope*stroke[progress_line][0]\n",
    "        x = norm_progress*(stroke[progress_line+1][0]-stroke[progress_line][0])+stroke[progress_line][0]\n",
    "        y = slope*x + intercept\n",
    "    return np.array((x, y))\n"
   ]
  },
  {
   "cell_type": "code",
   "execution_count": 17,
   "id": "1a74bf6f",
   "metadata": {},
   "outputs": [
    {
     "name": "stdout",
     "output_type": "stream",
     "text": [
      "[0 1 4 5 3 2]\n",
      "[0, 1, 5, 6, 4, 3]\n"
     ]
    }
   ],
   "source": [
    "alignments = np.array([0, 1, 4, 5, 3, 2])#alignStrokes(g, ref_g, l, ref_l, mode=\"hybrid\", w1=0.5, w2=0.5)#np.array([0, 3, 5, 4, 1, 2])\n",
    "print(alignments)\n",
    "error_matrix = [[134.92131277, 371.06192427, 620.44340759, 522.28661069, 463.51503629, 464.95799342, 597.79905654],\n",
    " [307.42203077, 165.92870097, 379.32845423, 463.04883343, 197.91826759, 520.87339108, 505.48624408],\n",
    " [362.40239173, 600.87098944, 388.63408519, 276.44032048, 613.70934768, 209.13045883, 257.95270806],\n",
    " [391.72537273, 447.4680691, 235.95664759, 157.51309372, 449.18468716, 183.34558076, 129.95618683],\n",
    " [375.05034579, 243.70179484, 418.1411749, 456.25814614, 117.37199523, 526.24120756, 477.89195059],\n",
    " [405.51325865, 412.19384605, 142.64048223,  88.8895902, 505.79561404, 254.58148207, 250.7996545 ]]\n",
    "\n",
    "print([np.argmin(n) for n in error_matrix])\n",
    "#alignments = np.array([1, 2, 0, 4, 3])"
   ]
  },
  {
   "cell_type": "code",
   "execution_count": 18,
   "id": "bb97b14e",
   "metadata": {},
   "outputs": [
    {
     "name": "stdout",
     "output_type": "stream",
     "text": [
      "[0 1 4 5 3 2]\n"
     ]
    },
    {
     "data": {
      "image/png": "[encoded data removed]",
      "text/plain": [
       "<PIL.Image.Image image mode=RGBA size=470x460>"
      ]
     },
     "metadata": {},
     "output_type": "display_data"
    },
    {
     "data": {
      "image/png": "[encoded data removed]",
      "text/plain": [
       "<PIL.Image.Image image mode=RGBA size=470x460>"
      ]
     },
     "metadata": {},
     "output_type": "display_data"
    },
    {
     "data": {
      "image/png": "[encoded data removed]",
      "text/plain": [
       "<PIL.Image.Image image mode=RGBA size=470x460>"
      ]
     },
     "metadata": {},
     "output_type": "display_data"
    },
    {
     "data": {
      "image/png": "[encoded data removed]",
      "text/plain": [
       "<PIL.Image.Image image mode=RGBA size=470x460>"
      ]
     },
     "metadata": {},
     "output_type": "display_data"
    },
    {
     "data": {
      "image/png": "[encoded data removed]",
      "text/plain": [
       "<PIL.Image.Image image mode=RGBA size=470x460>"
      ]
     },
     "metadata": {},
     "output_type": "display_data"
    },
    {
     "data": {
      "image/png": "[encoded data removed]",
      "text/plain": [
       "<PIL.Image.Image image mode=RGBA size=470x460>"
      ]
     },
     "metadata": {},
     "output_type": "display_data"
    },
    {
     "data": {
      "image/png": "[encoded data removed]",
      "text/plain": [
       "<PIL.Image.Image image mode=RGBA size=470x460>"
      ]
     },
     "metadata": {},
     "output_type": "display_data"
    },
    {
     "data": {
      "image/png": "[encoded data removed]",
      "text/plain": [
       "<Figure size 640x480 with 1 Axes>"
      ]
     },
     "metadata": {},
     "output_type": "display_data"
    }
   ],
   "source": [
    "imgs = [Image.new(mode=\"RGBA\", size=output_size) for _ in range(len(ref_g))]\n",
    "img_full = Image.new(mode=\"RGBA\", size=output_size)\n",
    "seed(ref_l[0][0])\n",
    "xcolors = [\"#7e1e9c\", \"#15b01a\", \"#0343df\", \"#653700\", \"#e50000\", \"#f97306\", \"#033500\", \"#ffff14\", \"#001146\"]\n",
    "color_selection = [(int(c[1:3], 16), int(c[3:5], 16), int(c[5:7], 16)) for c in xcolors]\n",
    "colors = color_selection[:len(ref_l)+1]\n",
    "#colors = [(randint(0, 256), randint(0, 256), randint(0, 256)) for _ in range(len(ref_l)+1)]\n",
    "colors_t = [(c[0], c[1], c[2], 70) for c in colors]\n",
    "\n",
    "\n",
    "print(alignments)\n",
    "for x in range(len(alignments)):\n",
    "    i = np.where(alignments == x)[0][0]\n",
    "    draw = ImageDraw.Draw(imgs[x])\n",
    "    draw_full = ImageDraw.Draw(img_full)\n",
    "    for a in range(len(g[i])-1):\n",
    "        x1, y1 = g[i][a]\n",
    "        x2, y2 = g[i][a+1]\n",
    "        y1 = -(y1-output_size[1]/2)+output_size[1]/2\n",
    "        y2 = -(y2-output_size[1]/2)+output_size[1]/2\n",
    "        draw.line(((x1, y1), (x2, y2)), width=6, fill=colors[x])\n",
    "        draw_full.line(((x1, y1), (x2, y2)), width=6, fill=colors[x])\n",
    "        plt.plot((x1, x2), (-y1, -y2), color=xcolors[x])\n",
    "\n",
    "\n",
    "for i in range(len(alignments)):\n",
    "    draw = ImageDraw.Draw(imgs[i])\n",
    "    draw_full = ImageDraw.Draw(img_full)\n",
    "    for a in range(len(ref_g[i])-1):\n",
    "        x1, y1 = ref_g[i][a]\n",
    "        x2, y2 = ref_g[i][a+1]\n",
    "        y1 = -(y1-output_size[1]/2)+output_size[1]/2\n",
    "        y2 = -(y2-output_size[1]/2)+output_size[1]/2\n",
    "        draw.line(((x1, y1), (x2, y2)), width=3, fill=colors[i])\n",
    "        draw_full.line(((x1, y1), (x2, y2)), width=3, fill=colors[i])\n",
    "\n",
    "    \n",
    "display(img_full)\n",
    "for p in range(len(alignments)):\n",
    "    display(imgs[p])\n"
   ]
  },
  {
   "cell_type": "code",
   "execution_count": 7,
   "id": "0be51788",
   "metadata": {},
   "outputs": [],
   "source": [
    "imgs = [Image.new(mode=\"RGBA\", size=output_size) for _ in range(len(ref_g))]\n",
    "seed(ref_l[0][0])\n",
    "xcolors = [\"#7e1e9c\", \"#15b01a\", \"#0343df\", \"#653700\", \"#e50000\", \"#f97306\", \"#033500\", \"#ffff14\", \"#001146\"]\n",
    "color_selection = [(int(c[1:3], 16), int(c[3:5], 16), int(c[5:7], 16)) for c in xcolors]\n",
    "colors = color_selection[:len(ref_l)+1]\n",
    "#colors = [(randint(0, 256), randint(0, 256), randint(0, 256)) for _ in range(len(ref_l)+1)]\n",
    "colors_t = [(c[0], c[1], c[2], 70) for c in colors]\n",
    "\n",
    "def drawStrokeMatches(strokes, ref, alignments, exhaust_alignment, colors, output_size, figname=\"han_comparison.png\"):\n",
    "    fig, ax = plt.subplots(ncols=5)\n",
    "    for a in ax:\n",
    "        a.axis([-10, output_size[0], -output_size[1], 10])\n",
    "        a.axis(\"off\")\n",
    "        a.set_aspect('equal', adjustable='box')\n",
    "    for x in range(len(alignments)):\n",
    "        i = np.where(alignments == x)[0][0]\n",
    "        for a in range(len(strokes[i])-1):\n",
    "            x1, y1 = strokes[i][a]\n",
    "            x2, y2 = strokes[i][a+1]\n",
    "            y1 = -(y1-output_size[1]/2)+output_size[1]/2\n",
    "            y2 = -(y2-output_size[1]/2)+output_size[1]/2\n",
    "            ax[0].plot((x1, x2), (-y1, -y2), color=xcolors[x], linewidth=3)\n",
    "            ax[3].plot((x1, x2), (-y1, -y2), color=xcolors[x], linewidth=3)\n",
    "            \n",
    "    for x in range(len(exhaust_alignment)):\n",
    "        i = np.where(exhaust_alignment == x)[0][0]\n",
    "        for a in range(len(strokes[i])-1):\n",
    "            x1, y1 = strokes[i][a]\n",
    "            x2, y2 = strokes[i][a+1]\n",
    "            y1 = -(y1-output_size[1]/2)+output_size[1]/2\n",
    "            y2 = -(y2-output_size[1]/2)+output_size[1]/2\n",
    "            ax[1].plot((x1, x2), (-y1, -y2), color=xcolors[x], linewidth=3)\n",
    "            ax[4].plot((x1, x2), (-y1, -y2), color=xcolors[x], linewidth=3)\n",
    "    \n",
    "    for i in range(len(alignments)):\n",
    "        for a in range(len(ref[i])-1):\n",
    "            x1, y1 = ref[i][a]\n",
    "            x2, y2 = ref[i][a+1]\n",
    "            y1 = -(y1-output_size[1]/2)+output_size[1]/2\n",
    "            y2 = -(y2-output_size[1]/2)+output_size[1]/2\n",
    "            ax[2].plot((x1, x2), (-y1, -y2), color=xcolors[i], linewidth=3)\n",
    "            ax[3].plot((x1, x2), (-y1, -y2), color=xcolors[i], linewidth=3, linestyle=\":\")\n",
    "            ax[4].plot((x1, x2), (-y1, -y2), color=xcolors[i], linewidth=3, linestyle=\":\")\n",
    "    fig.savefig(figname)\n"
   ]
  },
  {
   "cell_type": "code",
   "execution_count": 8,
   "id": "92a8de9d-837f-43d7-9de8-7709b2fb124f",
   "metadata": {},
   "outputs": [
    {
     "ename": "FileNotFoundError",
     "evalue": "[Errno 2] No such file or directory: '4EFB.2.90.gene/4EFB'",
     "output_type": "error",
     "traceback": [
      "\u001b[0;31m---------------------------------------------------------------------------\u001b[0m",
      "\u001b[0;31mFileNotFoundError\u001b[0m                         Traceback (most recent call last)",
      "Cell \u001b[0;32mIn[8], line 1\u001b[0m\n\u001b[0;32m----> 1\u001b[0m exhaust_alignment \u001b[38;5;241m=\u001b[39m np\u001b[38;5;241m.\u001b[39marray(\u001b[43mexhaustScoreAlignment\u001b[49m\u001b[43m(\u001b[49m\u001b[43mref_char\u001b[49m\u001b[43m,\u001b[49m\u001b[43m \u001b[49m\u001b[43mhan_char\u001b[49m\u001b[43m,\u001b[49m\u001b[43m \u001b[49m\u001b[43mf_read\u001b[49m\u001b[43m[\u001b[49m\u001b[38;5;241;43m0\u001b[39;49m\u001b[43m]\u001b[49m\u001b[43m,\u001b[49m\u001b[43m \u001b[49m\u001b[43mdata_dir\u001b[49m\u001b[43m)\u001b[49m)\u001b[38;5;241m-\u001b[39m\u001b[38;5;241m1\u001b[39m\n\u001b[1;32m      2\u001b[0m \u001b[38;5;28mprint\u001b[39m(\u001b[38;5;124mf\u001b[39m\u001b[38;5;124m\"\u001b[39m\u001b[38;5;124mheuristic: \u001b[39m\u001b[38;5;132;01m{\u001b[39;00malignments\u001b[38;5;132;01m}\u001b[39;00m\u001b[38;5;124m, exhaust_alignment: \u001b[39m\u001b[38;5;132;01m{\u001b[39;00mexhaust_alignment\u001b[38;5;132;01m}\u001b[39;00m\u001b[38;5;124m\"\u001b[39m) \u001b[38;5;66;03m#[0, 3, 5, 4, 1, 2]\u001b[39;00m\n\u001b[1;32m      3\u001b[0m drawStrokeMatches(g, ref_g, alignments, np\u001b[38;5;241m.\u001b[39marray(exhaust_alignment), xcolors, output_size)\n",
      "File \u001b[0;32m~/Documents/College/Stewart/Stylus_Scoring_Generalization/exhaustive.py:91\u001b[0m, in \u001b[0;36mexhaustScoreAlignment\u001b[0;34m(ref_char, f_name, data_dir, exhaust_dir, prog_interval, save)\u001b[0m\n\u001b[1;32m     89\u001b[0m \u001b[38;5;28;01mdef\u001b[39;00m \u001b[38;5;21mexhaustScoreAlignment\u001b[39m(ref_char, f_name, data_dir, exhaust_dir \u001b[38;5;241m=\u001b[39m \u001b[38;5;124m\"\u001b[39m\u001b[38;5;124mExhaustive\u001b[39m\u001b[38;5;124m\"\u001b[39m, prog_interval \u001b[38;5;241m=\u001b[39m \u001b[38;5;241m100\u001b[39m, save \u001b[38;5;241m=\u001b[39m \u001b[38;5;28;01mTrue\u001b[39;00m):\n\u001b[1;32m     90\u001b[0m     exhaust_maxes, exhaust_alignments \u001b[38;5;241m=\u001b[39m [], []\n\u001b[0;32m---> 91\u001b[0m     \u001b[38;5;28;01mfor\u001b[39;00m e \u001b[38;5;129;01min\u001b[39;00m computeExhaustiveAlign(ref_char, [f_name], data_dir, prog_interval \u001b[38;5;241m=\u001b[39m prog_interval, save \u001b[38;5;241m=\u001b[39m save):\n\u001b[1;32m     92\u001b[0m         exhaust_scores, alignments \u001b[38;5;241m=\u001b[39m \u001b[38;5;28mlist\u001b[39m(e)\n\u001b[1;32m     93\u001b[0m         exhaust_maxes \u001b[38;5;241m=\u001b[39m exhaust_scores\u001b[38;5;241m.\u001b[39mmax()\n",
      "File \u001b[0;32m~/Documents/College/Stewart/Stylus_Scoring_Generalization/exhaustive.py:49\u001b[0m, in \u001b[0;36mcomputeExhaustiveAlign\u001b[0;34m(ref_char, f_read, data_dir, exhaust_dir, prog_interval, save, xml_dir, save_file)\u001b[0m\n\u001b[1;32m     47\u001b[0m \u001b[38;5;28;01mdef\u001b[39;00m \u001b[38;5;21mcomputeExhaustiveAlign\u001b[39m(ref_char, f_read, data_dir, exhaust_dir \u001b[38;5;241m=\u001b[39m \u001b[38;5;124m\"\u001b[39m\u001b[38;5;124mExhaustive\u001b[39m\u001b[38;5;124m\"\u001b[39m, prog_interval \u001b[38;5;241m=\u001b[39m \u001b[38;5;241m100\u001b[39m, save \u001b[38;5;241m=\u001b[39m \u001b[38;5;28;01mTrue\u001b[39;00m, xml_dir \u001b[38;5;241m=\u001b[39m \u001b[38;5;124m\"\u001b[39m\u001b[38;5;124mGenXml/Exhaustive\u001b[39m\u001b[38;5;124m\"\u001b[39m, save_file \u001b[38;5;241m=\u001b[39m \u001b[38;5;124m\"\u001b[39m\u001b[38;5;124m\"\u001b[39m):\n\u001b[1;32m     48\u001b[0m     ref_g, ref_l, output_size \u001b[38;5;241m=\u001b[39m loadRef(ref_char, \u001b[38;5;124m\"\u001b[39m\u001b[38;5;124mReference\u001b[39m\u001b[38;5;124m\"\u001b[39m)\n\u001b[0;32m---> 49\u001b[0m     g_data, _, base_data, stroke_sets, _, f_names \u001b[38;5;241m=\u001b[39m \u001b[43mloadGeometryBases\u001b[49m\u001b[43m(\u001b[49m\u001b[43mdata_dir\u001b[49m\u001b[43m,\u001b[49m\u001b[43m \u001b[49m\u001b[43moutput_size\u001b[49m\u001b[43m,\u001b[49m\u001b[43m \u001b[49m\u001b[43mf_read\u001b[49m\u001b[43m \u001b[49m\u001b[38;5;241;43m=\u001b[39;49m\u001b[43m \u001b[49m\u001b[43mf_read\u001b[49m\u001b[43m)\u001b[49m\n\u001b[1;32m     50\u001b[0m     n_strokes \u001b[38;5;241m=\u001b[39m \u001b[38;5;28mlen\u001b[39m(ref_g)\n\u001b[1;32m     51\u001b[0m     \u001b[38;5;28;01mfor\u001b[39;00m i \u001b[38;5;129;01min\u001b[39;00m \u001b[38;5;28mrange\u001b[39m(\u001b[38;5;28mlen\u001b[39m(g_data)):\n\u001b[1;32m     52\u001b[0m         \u001b[38;5;66;03m#print(f\"Generating exhaustive scores for sample {f_read[i]}\")\u001b[39;00m\n",
      "File \u001b[0;32m~/Documents/College/Stewart/Stylus_Scoring_Generalization/xmlparse.py:327\u001b[0m, in \u001b[0;36mloadGeometryBases\u001b[0;34m(data_dir, output_size, f_read)\u001b[0m\n\u001b[1;32m    325\u001b[0m g_data, han_chars, base_data, stroke_sets, stroke_orders \u001b[38;5;241m=\u001b[39m [], [], [], [], []\n\u001b[1;32m    326\u001b[0m \u001b[38;5;28;01mfor\u001b[39;00m f \u001b[38;5;129;01min\u001b[39;00m f_names:\n\u001b[0;32m--> 327\u001b[0m     g \u001b[38;5;241m=\u001b[39m \u001b[43mxmlToGeometry\u001b[49m\u001b[43m(\u001b[49m\u001b[38;5;124;43mf\u001b[39;49m\u001b[38;5;124;43m\"\u001b[39;49m\u001b[38;5;132;43;01m{\u001b[39;49;00m\u001b[43mdata_dir\u001b[49m\u001b[38;5;132;43;01m}\u001b[39;49;00m\u001b[38;5;124;43m/\u001b[39;49m\u001b[38;5;132;43;01m{\u001b[39;49;00m\u001b[43mf\u001b[49m\u001b[38;5;132;43;01m}\u001b[39;49;00m\u001b[38;5;124;43m\"\u001b[39;49m\u001b[43m,\u001b[49m\u001b[43m \u001b[49m\u001b[43moutput_size\u001b[49m\u001b[43m)\u001b[49m\n\u001b[1;32m    328\u001b[0m     han_char, bases, strokes, stroke_order \u001b[38;5;241m=\u001b[39m extractBases(\u001b[38;5;124mf\u001b[39m\u001b[38;5;124m\"\u001b[39m\u001b[38;5;132;01m{\u001b[39;00mdata_dir\u001b[38;5;132;01m}\u001b[39;00m\u001b[38;5;124m/\u001b[39m\u001b[38;5;132;01m{\u001b[39;00mf\u001b[38;5;132;01m}\u001b[39;00m\u001b[38;5;124m\"\u001b[39m)\n\u001b[1;32m    329\u001b[0m     g_data\u001b[38;5;241m.\u001b[39mappend(g)\n",
      "File \u001b[0;32m~/Documents/College/Stewart/Stylus_Scoring_Generalization/xmlparse.py:220\u001b[0m, in \u001b[0;36mxmlToGeometry\u001b[0;34m(xfile, output_size, border)\u001b[0m\n\u001b[1;32m    219\u001b[0m \u001b[38;5;28;01mdef\u001b[39;00m \u001b[38;5;21mxmlToGeometry\u001b[39m(xfile, output_size\u001b[38;5;241m=\u001b[39m(\u001b[38;5;241m32\u001b[39m, \u001b[38;5;241m32\u001b[39m), border\u001b[38;5;241m=\u001b[39m\u001b[38;5;241m0\u001b[39m):\n\u001b[0;32m--> 220\u001b[0m     xml_data \u001b[38;5;241m=\u001b[39m \u001b[38;5;28mopen\u001b[39m(xfile, \u001b[38;5;124m\"\u001b[39m\u001b[38;5;124mr\u001b[39m\u001b[38;5;124m\"\u001b[39m)\u001b[38;5;241m.\u001b[39mread()\n\u001b[1;32m    221\u001b[0m     root \u001b[38;5;241m=\u001b[39m xmltodict\u001b[38;5;241m.\u001b[39mparse(xml_data)\n\u001b[1;32m    222\u001b[0m     segments \u001b[38;5;241m=\u001b[39m root[\u001b[38;5;124m\"\u001b[39m\u001b[38;5;124mgenome\u001b[39m\u001b[38;5;124m\"\u001b[39m][\u001b[38;5;124m\"\u001b[39m\u001b[38;5;124mgenes\u001b[39m\u001b[38;5;124m\"\u001b[39m][\u001b[38;5;124m\"\u001b[39m\u001b[38;5;124mgene\u001b[39m\u001b[38;5;124m\"\u001b[39m][\u001b[38;5;124m\"\u001b[39m\u001b[38;5;124msegments\u001b[39m\u001b[38;5;124m\"\u001b[39m][\u001b[38;5;124m\"\u001b[39m\u001b[38;5;124msegment\u001b[39m\u001b[38;5;124m\"\u001b[39m]\n",
      "\u001b[0;31mFileNotFoundError\u001b[0m: [Errno 2] No such file or directory: '4EFB.2.90.gene/4EFB'"
     ]
    }
   ],
   "source": [
    "exhaust_alignment = np.array(exhaustScoreAlignment(ref_char, han_char, f_read[0], data_dir))-1\n",
    "print(f\"heuristic: {alignments}, exhaust_alignment: {exhaust_alignment}\") #[0, 3, 5, 4, 1, 2]\n",
    "drawStrokeMatches(g, ref_g, alignments, np.array(exhaust_alignment), xcolors, output_size)\n",
    "print(f_read, ref_char, han_char)"
   ]
  },
  {
   "cell_type": "code",
   "execution_count": null,
   "id": "33130267-ceab-43b2-a25c-c73b8e2c2d3c",
   "metadata": {},
   "outputs": [],
   "source": []
  }
 ],
 "metadata": {
  "kernelspec": {
   "display_name": "Python 3 (ipykernel)",
   "language": "python",
   "name": "python3"
  },
  "language_info": {
   "codemirror_mode": {
    "name": "ipython",
    "version": 3
   },
   "file_extension": ".py",
   "mimetype": "text/x-python",
   "name": "python",
   "nbconvert_exporter": "python",
   "pygments_lexer": "ipython3",
   "version": "3.11.5"
  }
 },
 "nbformat": 4,
 "nbformat_minor": 5
}
