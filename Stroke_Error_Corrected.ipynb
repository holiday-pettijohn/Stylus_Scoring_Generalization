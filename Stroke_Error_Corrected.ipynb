{
 "cells": [
  {
   "cell_type": "markdown",
   "id": "908b26e3",
   "metadata": {},
   "source": [
    "# Debug the Calculation of Stroke Error"
   ]
  },
  {
   "cell_type": "code",
   "execution_count": 1,
   "id": "75cd8874",
   "metadata": {},
   "outputs": [],
   "source": [
    "import os\n",
    "import xmltodict\n",
    "\n",
    "import matplotlib.pyplot as plt\n",
    "import numpy as np\n",
    "\n",
    "from PIL import Image, ImageDraw\n",
    "from random import randint, seed\n",
    "from xmlparse import xmlToGeometry\n",
    "\n",
    "import numpy as np"
   ]
  },
  {
   "cell_type": "code",
   "execution_count": 2,
   "id": "9ef8ec66",
   "metadata": {},
   "outputs": [],
   "source": [
    "def loadRef(han_char, ref_dir = \"Reference\"):\n",
    "    stroke_list = []\n",
    "    frac_dists = []\n",
    "    ref_path = f\"{ref_dir}/{han_char[0]}000/{han_char}.han\"\n",
    "    ref_xml = open(ref_path, \"r\").read()\n",
    "    root = xmltodict.parse(ref_xml)\n",
    "    bounds = root[\"hanDefinition\"][\"bounds\"]\n",
    "    x_min, y_min, x_max, y_max = (float(bounds[\"@left\"]), float(bounds[\"@bottom\"]), float(bounds[\"@right\"]), float(bounds[\"@top\"]))\n",
    "    scale = (int(x_max-x_min), int(y_max-y_min))\n",
    "    strokes = root[\"hanDefinition\"][\"strokes\"][\"stroke\"]\n",
    "    for stroke in strokes:\n",
    "        points = stroke[\"points\"][\"forward\"]\n",
    "        point_arr = []\n",
    "        frac_arr = []\n",
    "        for point in points[\"pointDistance\"]:\n",
    "            point_arr.append((float(point[\"@x\"])-x_min,\n",
    "                              float(point[\"@y\"])-y_min))\n",
    "            frac_arr.append(float(point[\"@fractionalDistance\"]))\n",
    "        stroke_list.append(np.array(point_arr))\n",
    "        frac_dists.append(np.array(frac_arr))\n",
    "    return stroke_list, frac_dists, scale\n",
    "\n",
    "def loadGeometry(data_dir, han_char, output_size = (32, 32), f_read = None):\n",
    "    \"\"\"\n",
    "    Loads geometric data about a gene characetr directly from the XML source\n",
    "    \"\"\"\n",
    "    if f_read is None:\n",
    "        dir_list = os.listdir(f\"{data_dir}/{han_char}\")\n",
    "        dir_list.sort()\n",
    "    else:\n",
    "        dir_list = f_read\n",
    "    g_data = []\n",
    "    f_names = []\n",
    "    for f in dir_list:\n",
    "        flines = open(f\"{data_dir}/{han_char}/{f}\", \"rb\").readlines()\n",
    "        f_names.append(flines[0].decode()[:-1])\n",
    "    for f in f_names:\n",
    "        g = xmlToGeometry(f, output_size)\n",
    "        g_data.append(g)\n",
    "    return g_data\n"
   ]
  },
  {
   "cell_type": "code",
   "execution_count": 3,
   "id": "3c92028f",
   "metadata": {},
   "outputs": [],
   "source": [
    "ref_g, ref_l, output_size = loadRef(\"5EA6\", \"Reference\")\n",
    "# in order to test multiple samples, add the file numbers to the f_read list and delete the [0] at the line end\n",
    "# be aware this will turn g and l into iterables, so handle your loops accordingly\n",
    "g, l = loadGeometry(\"HanBitmap\", \"5EA6\", output_size, f_read = [\"345\"])[0]"
   ]
  },
  {
   "cell_type": "code",
   "execution_count": 42,
   "id": "58cc3bd4",
   "metadata": {},
   "outputs": [],
   "source": [
    "def alignStrokes(strokes, ref, p_strokes, p_ref):\n",
    "    # function to get stroke length given a stroke value (in this case, a stroke value is a 2d list\n",
    "    # that contains an x coord in stroke[][0] and a y coord in stroke[][1])\n",
    "    def getStrokeLen(stroke):\n",
    "        length = 0 # adding all the lengths we get between two points to this variable\n",
    "        # while it looks a little complicated, this is just the pythagorean theorem applied between two coordinates, just \n",
    "        # how one would calculate it on a graph: sqrt(a^2 + b^2)\n",
    "        for i in range(len(stroke)-1):\n",
    "            length += ((stroke[i][0] - stroke[i+1][0])**2 + (stroke[i][1] - stroke[i+1][1])**2)**0.5\n",
    "        return length\n",
    "\n",
    "    #get the lengths of each stroke for the order in the greedy algorithm\n",
    "    ref_lengths = []\n",
    "    for i in range(len(strokes)):\n",
    "        ref_lengths.append(getStrokeLen(ref[i]))\n",
    "    print(ref_lengths)\n",
    "    priority = np.argsort(ref_lengths)[::-1]\n",
    "    print(priority)\n",
    "    \n",
    "    strokes = np.array(strokes)\n",
    "    p_strokes = np.array(p_strokes)\n",
    "    ref = np.array(ref)\n",
    "    p_ref = np.array(p_ref)\n",
    "    \n",
    "    error_maps = strokeErrorMatrix(strokes, ref, p_strokes, p_ref)\n",
    "    \n",
    "    print(error_maps.astype(int))\n",
    "\n",
    "    # -1 just means unmatched here since 0 (the other 'default' filler) is a meaningful number in this context\n",
    "    stroke_map = np.full(len(strokes), -1)\n",
    "\n",
    "    \n",
    "    for i in priority:\n",
    "        largestref = i # this is the index for the reference stroke that is largest\n",
    "        smallerror = np.argmin(error_maps[largestref, :]) # access the error map from the largest stroke's index and see which error is smallest\n",
    "        error_maps[:, smallerror] = 10000\n",
    "        print(error_maps.astype(int))\n",
    "        stroke_map[smallerror] = largestref # set the index in the stroke_map to the reference stroke we designated\n",
    "\n",
    "    stroke_map = stroke_map[priority]\n",
    "    \n",
    "    return stroke_map\n",
    "\n",
    "xcolors = [\"#7e1e9c\", \"#15b01a\", \"#0343df\", \"#653700\", \"#e50000\", \"#f97306\", \"#033500\", \"#ffff14\", \"#001146\"]\n",
    "color_selection = [(int(c[1:3], 16), int(c[3:5], 16), int(c[5:7], 16)) for c in xcolors]\n",
    "colors = color_selection[:len(ref_l)+1]\n",
    "\n",
    "def strokeErrorMatrix(strokes, ref, p_strokes, p_ref):\n",
    "    error_map = np.zeros((len(ref), len(strokes)), dtype=float)\n",
    "    for i, ref_stroke, r_progresses in zip(range(len(ref)), ref, p_ref):\n",
    "        for j, candidate_stroke, c_progresses in zip(range(len(strokes)), strokes, p_strokes):\n",
    "            error_map[i, j] = strokeError(ref_stroke, candidate_stroke, r_progresses, c_progresses)\n",
    "            print(f\"Ref stroke {i} vs Candidate Stroke {j} - error: {error_map[i, j]}\")\n",
    "            img = Image.new(mode=\"RGBA\", size=output_size)\n",
    "            draw = ImageDraw.Draw(img)\n",
    "            for a in range(len(ref_stroke)-1):\n",
    "                x1, y1 = ref_stroke[a]\n",
    "                x2, y2 = ref_stroke[a+1]\n",
    "                y1 = -(y1-output_size[1]/2)+output_size[1]/2\n",
    "                y2 = -(y2-output_size[1]/2)+output_size[1]/2\n",
    "                draw.line(((x1, y1), (x2, y2)), width=6, fill=colors[0])\n",
    "            for b in range(len(candidate_stroke)-1):\n",
    "                x1, y1 = candidate_stroke[b]\n",
    "                x2, y2 = candidate_stroke[b+1]\n",
    "                y1 = -(y1-output_size[1]/2)+output_size[1]/2\n",
    "                y2 = -(y2-output_size[1]/2)+output_size[1]/2\n",
    "                draw.line(((x1, y1), (x2, y2)), width=6, fill=colors[1])\n",
    "            display(img)\n",
    "    return error_map\n",
    "\n",
    "def strokeError(stroke, ref_stroke, p_stroke, p_ref, mode=\"max\"):\n",
    "    forward_stroke_error, back_stroke_error = np.zeros(len(ref_stroke)), np.zeros(len(ref_stroke))\n",
    "    forward_ref_error, back_ref_error = np.zeros(len(stroke)), np.zeros(len(stroke))\n",
    "    for i, rpoint, rprogress in zip(range(len(ref_stroke)), ref_stroke, p_ref):\n",
    "        forward_stroke_error[i] = (np.linalg.norm(abs(rpoint-strokeTrace(stroke, p_stroke, rprogress))))\n",
    "        print(i, rpoint, strokeTrace(stroke, p_stroke, rprogress), forward_stroke_error[i])\n",
    "    for i, rpoint, rprogress in zip(range(len(ref_stroke)), ref_stroke[::-1], p_ref[::-1]):\n",
    "        back_stroke_error[i] = (np.linalg.norm(abs(rpoint-strokeTrace(stroke, p_stroke, 1-rprogress))))\n",
    "    for i, point, progress in zip(range(len(stroke)), stroke, p_stroke):\n",
    "        forward_ref_error[i] = (np.linalg.norm((point-strokeTrace(ref_stroke, p_ref, progress))))\n",
    "    for i, point, progress in zip(range(len(stroke)), stroke[::-1], p_stroke[::-1]):\n",
    "        back_ref_error[i] = (np.linalg.norm((point-strokeTrace(ref_stroke, p_ref, 1-progress))))\n",
    "    fse_maxdev = forward_stroke_error.argmax()\n",
    "    bse_maxdev = back_stroke_error.argmax()\n",
    "    fre_maxdev = forward_ref_error.argmax()\n",
    "    bre_maxdev = back_ref_error.argmax()\n",
    "    print(f\"{fse_maxdev}, Forward Stroke Error: Comparing points {ref_stroke[i]}, {strokeTrace(stroke, p_stroke, p_ref[i])} with error {forward_stroke_error.max()}\")\n",
    "    print(f\"Back Stroke Error: Comparing points {ref_stroke[i]}, {strokeTrace(stroke, p_stroke, 1-p_ref[i])} with error {back_stroke_error.max()}\")\n",
    "    print(f\"Forward Reference Error: Comparing points {stroke[i]}, {strokeTrace(ref_stroke, p_ref, p_stroke[i])} with error {forward_ref_error.max()}\")\n",
    "    print(f\"Back Reference Error: Comparing points {stroke[i]}, {strokeTrace(ref_stroke, p_ref, 1-p_stroke[i])} with error {back_ref_error.max()}\")\n",
    "    print(f\"forward_stroke_error: {forward_stroke_error.max()}, forward_ref_error: {forward_ref_error.max()}\")\n",
    "    print(f\"back_stroke_error: {back_stroke_error.max()}, back_ref_error: {back_ref_error.max()}\")\n",
    "    final_error = min(max(forward_stroke_error.max(), back_stroke_error.max()), max(forward_ref_error.max(), back_ref_error.max()))\n",
    "    return final_error\n",
    "\n",
    "def strokeTrace(stroke, stroke_progresses, progress):\n",
    "    if progress == 1:\n",
    "        return stroke[-1]\n",
    "    progress_line = len(stroke_progresses)-1\n",
    "    for i in range(1, len(stroke_progresses)):\n",
    "        if stroke_progresses[i] > progress:\n",
    "            progress_line = i-1\n",
    "            break\n",
    "    startp, endp = stroke_progresses[progress_line], stroke_progresses[progress_line+1]\n",
    "    norm_progress = (progress-startp)/endp\n",
    "    if stroke[progress_line+1][0] == stroke[progress_line][0]:\n",
    "        x = stroke[progress_line][0]\n",
    "        y = norm_progress*(stroke[progress_line+1][1]-stroke[progress_line][1])+stroke[progress_line][0]\n",
    "    else:\n",
    "        slope = (stroke[progress_line+1][1]-stroke[progress_line][1])/(stroke[progress_line+1][0]-stroke[progress_line][0])\n",
    "        intercept = stroke[progress_line][1]-slope*stroke[progress_line][0]\n",
    "        x = norm_progress*(stroke[progress_line+1][0]-stroke[progress_line][0])+stroke[progress_line][0]\n",
    "        y = slope*x + intercept\n",
    "    return np.array((x, y))\n"
   ]
  },
  {
   "cell_type": "code",
   "execution_count": 43,
   "id": "1a74bf6f",
   "metadata": {},
   "outputs": [
    {
     "name": "stdout",
     "output_type": "stream",
     "text": [
      "[50.0, 400.0, 419.19958224894964, 350.0, 120.0, 120.0, 160.0, 635.4029255926852, 352.6375504850911]\n",
      "[7 2 1 8 3 6 5 4 0]\n",
      "0 [334.32574249 379.44369761] [250. 250.] 154.48786909365052\n",
      "1 [334.32574249 341.86867643] [250.         235.50215006] 135.73749953541335\n",
      "2 [359.70393088 325.75342836] [250.         223.90291358] 149.69462184670144\n",
      "3 [359.70393088 263.8026917 ] [250. 410.] 182.78021064908174\n",
      "3, Forward Stroke Error: Comparing points [334.32574249 341.86867643], [250.         235.50215006] with error 182.78021064908174\n",
      "Back Stroke Error: Comparing points [334.32574249 341.86867643], [250.         214.49784994] with error 152.7552234343938\n",
      "Forward Reference Error: Comparing points [250. 410.], [359.70393088 263.8026917 ] with error 182.78021064908174\n",
      "Back Reference Error: Comparing points [250. 410.], [334.32574249 334.32574249] with error 224.78508899655455\n",
      "forward_stroke_error: 182.78021064908174, forward_ref_error: 182.78021064908174\n",
      "back_stroke_error: 152.7552234343938, back_ref_error: 224.78508899655455\n",
      "Ref stroke 0 vs Candidate Stroke 0 - error: 182.78021064908174\n"
     ]
    },
    {
     "name": "stderr",
     "output_type": "stream",
     "text": [
      "/tmp/ipykernel_78024/2404120723.py:20: VisibleDeprecationWarning: Creating an ndarray from ragged nested sequences (which is a list-or-tuple of lists-or-tuples-or ndarrays with different lengths or shapes) is deprecated. If you meant to do this, you must specify 'dtype=object' when creating the ndarray.\n",
      "  strokes = np.array(strokes)\n",
      "/tmp/ipykernel_78024/2404120723.py:21: VisibleDeprecationWarning: Creating an ndarray from ragged nested sequences (which is a list-or-tuple of lists-or-tuples-or ndarrays with different lengths or shapes) is deprecated. If you meant to do this, you must specify 'dtype=object' when creating the ndarray.\n",
      "  p_strokes = np.array(p_strokes)\n",
      "/tmp/ipykernel_78024/2404120723.py:22: VisibleDeprecationWarning: Creating an ndarray from ragged nested sequences (which is a list-or-tuple of lists-or-tuples-or ndarrays with different lengths or shapes) is deprecated. If you meant to do this, you must specify 'dtype=object' when creating the ndarray.\n",
      "  ref = np.array(ref)\n",
      "/tmp/ipykernel_78024/2404120723.py:23: VisibleDeprecationWarning: Creating an ndarray from ragged nested sequences (which is a list-or-tuple of lists-or-tuples-or ndarrays with different lengths or shapes) is deprecated. If you meant to do this, you must specify 'dtype=object' when creating the ndarray.\n",
      "  p_ref = np.array(p_ref)\n"
     ]
    },
    {
     "data": {
      "image/png": "[encoded data removed]",
      "text/plain": [
       "<PIL.Image.Image image mode=RGBA size=450x460 at 0x7F0C400E5940>"
      ]
     },
     "metadata": {},
     "output_type": "display_data"
    },
    {
     "name": "stdout",
     "output_type": "stream",
     "text": [
      "0 [334.32574249 242.34291859] [250. 250.] 84.67267412153343\n",
      "1 [292.48418349 268.91247087] [250.         232.14529877] 56.18479145801102\n",
      "2 [233.31128329 268.91247087] [250.         210.82942371] 60.43305082713455\n",
      "3 [207.9330949 252.7972228] [250. 410.] 162.73394748616792\n",
      "3, Forward Stroke Error: Comparing points [292.48418349 268.91247087], [250.         232.14529877] with error 162.73394748616792\n",
      "Back Stroke Error: Comparing points [292.48418349 268.91247087], [250.         217.85470123] with error 187.66919777512396\n",
      "Forward Reference Error: Comparing points [250. 410.], [207.9330949 252.7972228] with error 233.42115571299897\n",
      "Back Reference Error: Comparing points [250. 410.], [334.32574249 242.34291859] with error 211.42993020061894\n",
      "forward_stroke_error: 162.73394748616792, forward_ref_error: 233.42115571299897\n",
      "back_stroke_error: 187.66919777512396, back_ref_error: 211.42993020061894\n",
      "Ref stroke 0 vs Candidate Stroke 1 - error: 187.66919777512396\n"
     ]
    },
    {
     "data": {
      "image/png": "[encoded data removed]",
      "text/plain": [
       "<PIL.Image.Image image mode=RGBA size=450x460 at 0x7F0C3FAC4E80>"
      ]
     },
     "metadata": {},
     "output_type": "display_data"
    },
    {
     "name": "stdout",
     "output_type": "stream",
     "text": [
      "0 [190.6017537  247.13627893] [250. 250.] 59.46723940478981\n",
      "1 [215.97994208 263.251527  ] [250.         240.58491863] 40.87957284586405\n",
      "2 [215.97994208 300.82654818] [250.         228.81703743] 79.64128314045367\n",
      "3 [215.97994208 362.77728484] [250.         209.41508137] 157.09019636950987\n",
      "4 [241.35813046 378.89253291] [250. 410.] 32.28554502707814\n",
      "3, Forward Stroke Error: Comparing points [215.97994208 263.251527  ], [250.         240.58491863] with error 157.09019636950987\n",
      "Back Stroke Error: Comparing points [215.97994208 263.251527  ], [250.         209.41508137] with error 173.3572706978403\n",
      "Forward Reference Error: Comparing points [250. 410.], [241.35813046 378.89253291] with error 220.99573618168475\n",
      "Back Reference Error: Comparing points [250. 410.], [190.6017537  247.13627893] with error 173.3572706978403\n",
      "forward_stroke_error: 157.09019636950987, forward_ref_error: 220.99573618168475\n",
      "back_stroke_error: 173.3572706978403, back_ref_error: 173.3572706978403\n",
      "Ref stroke 0 vs Candidate Stroke 2 - error: 173.3572706978403\n"
     ]
    },
    {
     "data": {
      "image/png": "[encoded data removed]",
      "text/plain": [
       "<PIL.Image.Image image mode=RGBA size=450x460 at 0x7F0C3F39D130>"
      ]
     },
     "metadata": {},
     "output_type": "display_data"
    },
    {
     "name": "stdout",
     "output_type": "stream",
     "text": [
      "0 [169.17669962 341.86867643] [250. 250.] 122.36118499182349\n",
      "1 [228.34959983 341.86867643] [250.         237.97141894] 106.12907207903666\n",
      "2 [253.72778821 357.9839245 ] [250.        231.8603585] 126.1786444132836\n",
      "3 [312.90068842 357.9839245 ] [250.         219.83177744] 151.7976032110118\n",
      "4 [410.46030764 357.9839245 ] [250. 410.] 168.68071152224485\n",
      "4, Forward Stroke Error: Comparing points [228.34959983 341.86867643], [250.         237.97141894] with error 168.68071152224485\n",
      "Back Stroke Error: Comparing points [228.34959983 341.86867643], [250.         212.02858106] with error 193.41157741908305\n",
      "Forward Reference Error: Comparing points [250. 410.], [410.46030764 357.9839245 ] with error 168.68071152224485\n",
      "Back Reference Error: Comparing points [250. 410.], [169.17669962 341.86867643] with error 190.14412951659472\n",
      "forward_stroke_error: 168.68071152224485, forward_ref_error: 168.68071152224485\n",
      "back_stroke_error: 193.41157741908305, back_ref_error: 190.14412951659472\n",
      "Ref stroke 0 vs Candidate Stroke 3 - error: 190.14412951659472\n"
     ]
    },
    {
     "data": {
      "image/png": "[encoded data removed]",
      "text/plain": [
       "<PIL.Image.Image image mode=RGBA size=450x460 at 0x7F0C3EF1C2B0>"
      ]
     },
     "metadata": {},
     "output_type": "display_data"
    },
    {
     "name": "stdout",
     "output_type": "stream",
     "text": [
      "0 [260.54713961 398.30394716] [250. 250.] 148.67852197949728\n",
      "1 [260.54713961 421.09434955] [250.         234.93561085] 186.45728236130748\n",
      "2 [285.92532799 437.20959762] [250.         215.06438915] 225.03138189471636\n",
      "3 [285.92532799 460.        ] [250. 410.] 61.56808581692873\n",
      "2, Forward Stroke Error: Comparing points [260.54713961 421.09434955], [250.         234.93561085] with error 225.03138189471636\n",
      "Back Stroke Error: Comparing points [260.54713961 421.09434955], [250.         215.06438915] with error 213.05076669930264\n",
      "Forward Reference Error: Comparing points [250. 410.], [285.92532799 460.        ] with error 199.73153399778724\n",
      "Back Reference Error: Comparing points [250. 410.], [260.54713961 260.54713961] with error 149.8245628518159\n",
      "forward_stroke_error: 225.03138189471636, forward_ref_error: 199.73153399778724\n",
      "back_stroke_error: 213.05076669930264, back_ref_error: 149.8245628518159\n",
      "Ref stroke 0 vs Candidate Stroke 4 - error: 199.73153399778724\n"
     ]
    },
    {
     "data": {
      "image/png": "[encoded data removed]",
      "text/plain": [
       "<PIL.Image.Image image mode=RGBA size=450x460 at 0x7F0C3EA33070>"
      ]
     },
     "metadata": {},
     "output_type": "display_data"
    },
    {
     "name": "stdout",
     "output_type": "stream",
     "text": [
      "0 [378.52326376 431.84513462] [250. 250.] 222.67887711208425\n",
      "1 [342.63308556 431.84513462] [250.         243.38266024] 209.99760186569347\n",
      "2 [317.25489717 415.72988655] [250.        237.8398137] 190.17912401854576\n",
      "3 [219.69527795 415.72988655] [250.         219.85201928] 198.20826184961342\n",
      "4 [183.80509975 415.72988655] [250.         213.23467952] 213.04007531383655\n",
      "5 [147.91492155 415.72988655] [250.         206.61733976] 232.70028033388613\n",
      "6 [112.02474335 415.72988655] [250. 410.] 138.0941818017103\n",
      "5, Forward Stroke Error: Comparing points [342.63308556 431.84513462], [250.         243.38266024] with error 232.70028033388613\n",
      "Back Stroke Error: Comparing points [342.63308556 431.84513462], [250.         206.61733976] with error 243.53325875100901\n",
      "Forward Reference Error: Comparing points [250. 410.], [112.02474335 415.72988655] with error 138.0941818017103\n",
      "Back Reference Error: Comparing points [250. 410.], [378.52326376 431.84513462] with error 144.90346577096702\n",
      "forward_stroke_error: 232.70028033388613, forward_ref_error: 138.0941818017103\n",
      "back_stroke_error: 243.53325875100901, back_ref_error: 144.90346577096702\n",
      "Ref stroke 0 vs Candidate Stroke 5 - error: 144.90346577096702\n"
     ]
    },
    {
     "data": {
      "image/png": "[encoded data removed]",
      "text/plain": [
       "<PIL.Image.Image image mode=RGBA size=450x460 at 0x7F0C3EF1C2B0>"
      ]
     },
     "metadata": {},
     "output_type": "display_data"
    },
    {
     "name": "stdout",
     "output_type": "stream",
     "text": [
      "0 [174.89028198 432.85934507] [250. 250.] 197.6841162550215\n",
      "1 [139.00010378 432.85934507] [250.         246.63345113] 216.79727981401092\n",
      "2 [139.00010378 395.28432389] [250.         243.10886163] 188.35697034012833\n",
      "3 [103.10992558 395.28432389] [250.         239.74231275] 213.9392698670343\n",
      "4 [103.10992558 372.49392151] [250.         237.60454116] 199.42878150702356\n",
      "5 [103.10992558 310.54318485] [250.         231.79347548] 166.6679653911007\n",
      "6 [ 61.26836658 283.97363257] [250.         227.14423955] 197.10202780196065\n",
      "7 [ 61.26836658 246.39861139] [250.         223.61965005] 190.1013164924004\n",
      "8 [ 61.26836658 184.44787473] [250.         217.80858437] 191.65741936968487\n",
      "9 [ 25.37818838 184.44787473] [250.        214.4420355] 226.6155509530828\n",
      "10 [ 25.37818838 122.49713807] [250.         208.63096982] 240.5701461632386\n",
      "11 [25.37818838 60.54640141] [250.         202.81990414] 265.8885251987665\n",
      "12 [ 0.         44.43115334] [250. 410.] 442.87761475161545\n",
      "12, Forward Stroke Error: Comparing points [139.00010378 432.85934507], [250.         246.63345113] with error 442.87761475161545\n",
      "Back Stroke Error: Comparing points [139.00010378 432.85934507], [250.         203.36654887] with error 323.66425616213223\n",
      "Forward Reference Error: Comparing points [250. 410.], [ 0.         44.43115334] with error 442.87761475161545\n",
      "Back Reference Error: Comparing points [250. 410.], [174.89028198 432.85934507] with error 484.9716139260598\n",
      "forward_stroke_error: 442.87761475161545, forward_ref_error: 442.87761475161545\n",
      "back_stroke_error: 323.66425616213223, back_ref_error: 484.9716139260598\n",
      "Ref stroke 0 vs Candidate Stroke 6 - error: 442.87761475161545\n"
     ]
    },
    {
     "data": {
      "image/png": "[encoded data removed]",
      "text/plain": [
       "<PIL.Image.Image image mode=RGBA size=450x460 at 0x7F0C400E5940>"
      ]
     },
     "metadata": {},
     "output_type": "display_data"
    },
    {
     "name": "stdout",
     "output_type": "stream",
     "text": [
      "0 [147.4480254   15.41308045] [250. 250.] 256.02330034773104\n",
      "1 [183.3382036   15.41308045] [250.        247.1048462] 241.0909982121628\n",
      "2 [183.3382036   38.20348283] [250.         245.26641231] 217.52896787515633\n",
      "3 [183.3382036   60.99388521] [250.         243.42797842] 194.2318034290462\n",
      "4 [242.5111038   60.99388521] [250.         238.65467677] 177.81856040000358\n",
      "5 [267.88929219  77.10913328] [250.         236.22962474] 160.12294518968056\n",
      "6 [293.26748057  93.22438135] [250.         233.80457271] 147.08795014060837\n",
      "7 [318.64566895  77.10913328] [250.         231.37952068] 168.85372454845555\n",
      "8 [318.64566895 139.05986994] [250.         226.38213924] 111.07387893065057\n",
      "9 [344.02385734 155.17511802] [250.         223.95708721] 116.49654516190898\n",
      "10 [379.91403554 155.17511802] [250.         221.06193341] 145.66649948614352\n",
      "11 [344.02385734 155.17511802] [250.         218.16677961] 113.17435742865865\n",
      "12 [318.64566895 171.29036609] [250.         215.74172758] 81.78111887888728\n",
      "13 [293.26748057 155.17511802] [250.         213.31667555] 72.47424085815514\n",
      "14 [267.88929219 139.05986994] [250.         210.89162352] 74.02585762693744\n",
      "15 [226.04773319 165.62942222] [250.         206.89338866] 47.711906394415564\n",
      "16 [184.20617419 139.05986994] [250.        202.8951538] 91.67208397112411\n",
      "17 [148.31599599 139.05986994] [250. 410.] 289.39279663904136\n",
      "17, Forward Stroke Error: Comparing points [183.3382036   15.41308045], [250.        247.1048462] with error 289.39279663904136\n",
      "Back Stroke Error: Comparing points [183.3382036   15.41308045], [250.        202.8951538] with error 407.6956519000082\n",
      "Forward Reference Error: Comparing points [250. 410.], [148.31599599 139.05986994] with error 456.2613686622575\n",
      "Back Reference Error: Comparing points [250. 410.], [147.4480254   15.41308045] with error 407.6956519000082\n",
      "forward_stroke_error: 289.39279663904136, forward_ref_error: 456.2613686622575\n",
      "back_stroke_error: 407.6956519000082, back_ref_error: 407.6956519000082\n",
      "Ref stroke 0 vs Candidate Stroke 7 - error: 407.6956519000082\n"
     ]
    },
    {
     "data": {
      "image/png": "[encoded data removed]",
      "text/plain": [
       "<PIL.Image.Image image mode=RGBA size=450x460 at 0x7F0C3EBE7E80>"
      ]
     },
     "metadata": {},
     "output_type": "display_data"
    },
    {
     "name": "stdout",
     "output_type": "stream",
     "text": [
      "0 [184.60724863 145.73502426] [250. 250.] 123.07476223450712\n",
      "1 [209.98543701 129.61977619] [250.         245.71237748] 122.79518445628658\n",
      "2 [209.98543701  92.04475501] [250.         240.35329129] 153.6118067860503\n",
      "3 [251.82699601  65.47520273] [250.         233.28419683] 167.81893937968218\n",
      "4 [277.20518439  49.35995466] [250.        228.9965743] 181.68499435842304\n",
      "5 [313.09536259  49.35995466] [250.         223.87778655] 185.57343136249884\n",
      "6 [354.93692159  22.79040238] [250.         216.80869209] 220.57845374064223\n",
      "7 [390.82709979  22.79040238] [250.         211.68990434] 235.61683699127354\n",
      "8 [450.          22.79040238] [250.         203.25045008] 269.38045366268307\n",
      "9 [450.   0.] [250. 410.] 456.17978911828175\n",
      "9, Forward Stroke Error: Comparing points [209.98543701 129.61977619], [250.         245.71237748] with error 456.17978911828175\n",
      "Back Stroke Error: Comparing points [209.98543701 129.61977619], [250.         204.28762252] with error 320.1562118716424\n",
      "Forward Reference Error: Comparing points [250. 410.], [450.   0.] with error 456.17978911828175\n",
      "Back Reference Error: Comparing points [250. 410.], [184.60724863 145.73502426] with error 501.5974481593781\n",
      "forward_stroke_error: 456.17978911828175, forward_ref_error: 456.17978911828175\n",
      "back_stroke_error: 320.1562118716424, back_ref_error: 501.5974481593781\n",
      "Ref stroke 0 vs Candidate Stroke 8 - error: 456.17978911828175\n"
     ]
    },
    {
     "data": {
      "image/png": "[encoded data removed]",
      "text/plain": [
       "<PIL.Image.Image image mode=RGBA size=450x460 at 0x7F0C3EADC5E0>"
      ]
     },
     "metadata": {},
     "output_type": "display_data"
    },
    {
     "name": "stdout",
     "output_type": "stream",
     "text": [
      "0 [334.32574249 379.44369761] [ 50. 410.] 285.9629616941205\n",
      "1 [334.32574249 341.86867643] [165.98279956 410.        ] 181.6073337926705\n",
      "2 [359.70393088 325.75342836] [258.77669133 410.        ] 131.46783833321015\n",
      "3 [359.70393088 263.8026917 ] [450. 410.] 171.83431861510104\n",
      "0, Forward Stroke Error: Comparing points [334.32574249 341.86867643], [165.98279956 410.        ] with error 285.9629616941205\n",
      "Back Stroke Error: Comparing points [334.32574249 341.86867643], [334.01720044 410.        ] with error 342.47653606623817\n",
      "Forward Reference Error: Comparing points [450. 410.], [359.70393088 263.8026917 ] with error 294.22393018571887\n",
      "Back Reference Error: Comparing points [450. 410.], [334.32574249 334.32574249] with error 342.47653606623817\n",
      "forward_stroke_error: 285.9629616941205, forward_ref_error: 294.22393018571887\n",
      "back_stroke_error: 342.47653606623817, back_ref_error: 342.47653606623817\n",
      "Ref stroke 1 vs Candidate Stroke 0 - error: 342.47653606623817\n"
     ]
    },
    {
     "data": {
      "image/png": "[encoded data removed]",
      "text/plain": [
       "<PIL.Image.Image image mode=RGBA size=450x460 at 0x7F0C3F41A6A0>"
      ]
     },
     "metadata": {},
     "output_type": "display_data"
    },
    {
     "name": "stdout",
     "output_type": "stream",
     "text": [
      "0 [334.32574249 242.34291859] [ 50. 410.] 330.0757864358384\n",
      "1 [292.48418349 268.91247087] [192.83760982 410.        ] 172.72848786910833\n",
      "2 [233.31128329 268.91247087] [363.36461028 410.        ] 191.88423264933297\n",
      "3 [207.9330949 252.7972228] [450. 410.] 288.63315766378753\n",
      "0, Forward Stroke Error: Comparing points [292.48418349 268.91247087], [192.83760982 410.        ] with error 330.0757864358384\n",
      "Back Stroke Error: Comparing points [292.48418349 268.91247087], [307.16239018 410.        ] with error 222.83531054546293\n",
      "Forward Reference Error: Comparing points [450. 410.], [207.9330949 252.7972228] with error 330.0757864358384\n",
      "Back Reference Error: Comparing points [450. 410.], [334.32574249 242.34291859] with error 222.83531054546293\n",
      "forward_stroke_error: 330.0757864358384, forward_ref_error: 330.0757864358384\n",
      "back_stroke_error: 222.83531054546293, back_ref_error: 222.83531054546293\n",
      "Ref stroke 1 vs Candidate Stroke 1 - error: 330.0757864358384\n"
     ]
    },
    {
     "data": {
      "image/png": "[encoded data removed]",
      "text/plain": [
       "<PIL.Image.Image image mode=RGBA size=450x460 at 0x7F0C3EADCB50>"
      ]
     },
     "metadata": {},
     "output_type": "display_data"
    },
    {
     "name": "stdout",
     "output_type": "stream",
     "text": [
      "0 [190.6017537  247.13627893] [ 50. 410.] 215.15911503329286\n",
      "1 [215.97994208 263.251527  ] [125.32065094 410.        ] 172.49411988841345\n",
      "2 [215.97994208 300.82654818] [219.4637006 410.       ] 109.22902158099305\n",
      "3 [215.97994208 362.77728484] [374.67934906 410.        ] 165.57622595856097\n",
      "4 [241.35813046 378.89253291] [450. 410.] 210.94810791503681\n",
      "0, Forward Stroke Error: Comparing points [215.97994208 263.251527  ], [125.32065094 410.        ] with error 215.15911503329286\n",
      "Back Stroke Error: Comparing points [215.97994208 263.251527  ], [374.67934906 410.        ] with error 306.28751496869535\n",
      "Forward Reference Error: Comparing points [450. 410.], [241.35813046 378.89253291] with error 215.15911503329286\n",
      "Back Reference Error: Comparing points [450. 410.], [190.6017537  247.13627893] with error 306.28751496869535\n",
      "forward_stroke_error: 215.15911503329286, forward_ref_error: 215.15911503329286\n",
      "back_stroke_error: 306.28751496869535, back_ref_error: 306.28751496869535\n",
      "Ref stroke 1 vs Candidate Stroke 2 - error: 306.28751496869535\n"
     ]
    },
    {
     "data": {
      "image/png": "[encoded data removed]",
      "text/plain": [
       "<PIL.Image.Image image mode=RGBA size=450x460 at 0x7F0C3FD56310>"
      ]
     },
     "metadata": {},
     "output_type": "display_data"
    },
    {
     "name": "stdout",
     "output_type": "stream",
     "text": [
      "0 [169.17669962 341.86867643] [ 50. 410.] 137.27695722396504\n",
      "1 [228.34959983 341.86867643] [146.22864845 410.        ] 106.7039263946567\n",
      "2 [253.72778821 357.9839245 ] [195.11713201 410.        ] 78.36377435345959\n",
      "3 [312.90068842 357.9839245 ] [291.34578046 410.        ] 56.30529431396666\n",
      "4 [410.46030764 357.9839245 ] [450. 410.] 65.33803931851715\n",
      "0, Forward Stroke Error: Comparing points [228.34959983 341.86867643], [146.22864845 410.        ] with error 137.27695722396504\n",
      "Back Stroke Error: Comparing points [228.34959983 341.86867643], [353.77135155 410.        ] with error 364.1940492338027\n",
      "Forward Reference Error: Comparing points [450. 410.], [410.46030764 357.9839245 ] with error 137.27695722396504\n",
      "Back Reference Error: Comparing points [450. 410.], [169.17669962 341.86867643] with error 364.1940492338027\n",
      "forward_stroke_error: 137.27695722396504, forward_ref_error: 137.27695722396504\n",
      "back_stroke_error: 364.1940492338027, back_ref_error: 364.1940492338027\n",
      "Ref stroke 1 vs Candidate Stroke 3 - error: 364.1940492338027\n"
     ]
    },
    {
     "data": {
      "image/png": "[encoded data removed]",
      "text/plain": [
       "<PIL.Image.Image image mode=RGBA size=450x460 at 0x7F0C3EADC5E0>"
      ]
     },
     "metadata": {},
     "output_type": "display_data"
    },
    {
     "name": "stdout",
     "output_type": "stream",
     "text": [
      "0 [260.54713961 398.30394716] [ 50. 410.] 210.87175166046723\n",
      "1 [260.54713961 421.09434955] [170.51511317 410.        ] 90.71301105864684\n",
      "2 [285.92532799 437.20959762] [329.48488683 410.        ] 51.35949151313464\n",
      "3 [285.92532799 460.        ] [450. 410.] 171.5240449479858\n",
      "0, Forward Stroke Error: Comparing points [260.54713961 421.09434955], [170.51511317 410.        ] with error 210.87175166046723\n",
      "Back Stroke Error: Comparing points [260.54713961 421.09434955], [329.48488683 410.        ] with error 241.1654212091832\n",
      "Forward Reference Error: Comparing points [450. 410.], [285.92532799 460.        ] with error 258.1980934791187\n",
      "Back Reference Error: Comparing points [450. 410.], [260.54713961 260.54713961] with error 241.30591329518583\n",
      "forward_stroke_error: 210.87175166046723, forward_ref_error: 258.1980934791187\n",
      "back_stroke_error: 241.1654212091832, back_ref_error: 241.30591329518583\n",
      "Ref stroke 1 vs Candidate Stroke 4 - error: 241.1654212091832\n"
     ]
    },
    {
     "data": {
      "image/png": "[encoded data removed]",
      "text/plain": [
       "<PIL.Image.Image image mode=RGBA size=450x460 at 0x7F0C3EBE5310>"
      ]
     },
     "metadata": {},
     "output_type": "display_data"
    },
    {
     "name": "stdout",
     "output_type": "stream",
     "text": [
      "0 [378.52326376 431.84513462] [ 50. 410.] 329.2487581378254\n",
      "1 [342.63308556 431.84513462] [102.93871808 410.        ] 240.68776393459305\n",
      "2 [317.25489717 415.72988655] [147.2814904 410.       ] 170.0699579850362\n",
      "3 [219.69527795 415.72988655] [291.18384577 410.        ] 71.71782852865267\n",
      "4 [183.80509975 415.72988655] [344.12256385 410.        ] 160.4198269987196\n",
      "5 [147.91492155 415.72988655] [397.06128192 410.        ] 249.21223984218187\n",
      "6 [112.02474335 415.72988655] [450. 410.] 338.02382417137306\n",
      "6, Forward Stroke Error: Comparing points [342.63308556 431.84513462], [102.93871808 410.        ] with error 338.02382417137306\n",
      "Back Stroke Error: Comparing points [342.63308556 431.84513462], [397.06128192 410.        ] with error 74.74044240417625\n",
      "Forward Reference Error: Comparing points [450. 410.], [112.02474335 415.72988655] with error 338.02382417137306\n",
      "Back Reference Error: Comparing points [450. 410.], [378.52326376 431.84513462] with error 74.74044240417625\n",
      "forward_stroke_error: 338.02382417137306, forward_ref_error: 338.02382417137306\n",
      "back_stroke_error: 74.74044240417625, back_ref_error: 74.74044240417625\n",
      "Ref stroke 1 vs Candidate Stroke 5 - error: 338.02382417137306\n"
     ]
    },
    {
     "data": {
      "image/png": "[encoded data removed]",
      "text/plain": [
       "<PIL.Image.Image image mode=RGBA size=450x460 at 0x7F0C3EA33E80>"
      ]
     },
     "metadata": {},
     "output_type": "display_data"
    },
    {
     "name": "stdout",
     "output_type": "stream",
     "text": [
      "0 [174.89028198 432.85934507] [ 50. 410.] 126.96508256529052\n",
      "1 [139.00010378 432.85934507] [ 76.93239099 410.        ] 66.14340956276754\n",
      "2 [139.00010378 395.28432389] [105.12910698 410.        ] 36.92960259150653\n",
      "3 [103.10992558 395.28432389] [132.06149797 410.        ] 32.47683277402268\n",
      "4 [103.10992558 372.49392151] [149.16367072 410.        ] 59.39405159897043\n",
      "5 [103.10992558 310.54318485] [195.65219615 410.        ] 135.85186756785714\n",
      "6 [ 61.26836658 283.97363257] [232.84608363 410.        ] 212.88860531963934\n",
      "7 [ 61.26836658 246.39861139] [261.04279963 410.        ] 258.21548840350266\n",
      "8 [ 61.26836658 184.44787473] [307.53132505 410.        ] 333.94491450766225\n",
      "9 [ 25.37818838 184.44787473] [334.46371604 410.        ] 382.6324928942798\n",
      "10 [ 25.37818838 122.49713807] [380.95224146 410.        ] 457.26447799970845\n",
      "11 [25.37818838 60.54640141] [427.44076689 410.        ] 532.7026699765416\n",
      "12 [ 0.         44.43115334] [450. 410.] 579.7763203581881\n",
      "12, Forward Stroke Error: Comparing points [139.00010378 432.85934507], [ 76.93239099 410.        ] with error 579.7763203581881\n",
      "Back Stroke Error: Comparing points [139.00010378 432.85934507], [423.06760901 410.        ] with error 368.97233181917625\n",
      "Forward Reference Error: Comparing points [450. 410.], [ 0.         44.43115334] with error 579.7763203581881\n",
      "Back Reference Error: Comparing points [450. 410.], [174.89028198 432.85934507] with error 368.97233181917625\n",
      "forward_stroke_error: 579.7763203581881, forward_ref_error: 579.7763203581881\n",
      "back_stroke_error: 368.97233181917625, back_ref_error: 368.97233181917625\n",
      "Ref stroke 1 vs Candidate Stroke 6 - error: 579.7763203581881\n"
     ]
    },
    {
     "data": {
      "image/png": "[encoded data removed]",
      "text/plain": [
       "<PIL.Image.Image image mode=RGBA size=450x460 at 0x7F0C3EA8C1C0>"
      ]
     },
     "metadata": {},
     "output_type": "display_data"
    },
    {
     "name": "stdout",
     "output_type": "stream",
     "text": [
      "0 [147.4480254   15.41308045] [ 50. 410.] 406.44182208104587\n",
      "1 [183.3382036   15.41308045] [ 73.16123038 410.        ] 409.6801221800993\n",
      "2 [183.3382036   38.20348283] [ 87.86870152 410.        ] 383.8581456820703\n",
      "3 [183.3382036   60.99388521] [102.57617266 410.        ] 358.2286613319805\n",
      "4 [242.5111038   60.99388521] [140.76258585 410.        ] 363.53545778235144\n",
      "5 [267.88929219  77.10913328] [160.16300209 410.        ] 349.88752867543116\n",
      "6 [293.26748057  93.22438135] [179.56341832 410.        ] 336.564119211589\n",
      "7 [318.64566895  77.10913328] [198.96383456 410.        ] 353.7514249137559\n",
      "8 [318.64566895 139.05986994] [238.9428861 410.       ] 282.4200553600008\n",
      "9 [344.02385734 155.17511802] [258.34330233 410.        ] 268.84359390605124\n",
      "10 [379.91403554 155.17511802] [281.50453272 410.        ] 273.1668917056344\n",
      "11 [344.02385734 155.17511802] [304.6657631 410.       ] 257.84642727931305\n",
      "12 [318.64566895 171.29036609] [324.06617933 410.        ] 238.77116923133562\n",
      "13 [293.26748057 155.17511802] [343.46659557 410.        ] 259.722297127556\n",
      "14 [267.88929219 139.05986994] [362.8670118 410.       ] 287.1050701367422\n",
      "15 [226.04773319 165.62942222] [394.85289071 410.        ] 297.0053206428088\n",
      "16 [184.20617419 139.05986994] [426.83876962 410.        ] 363.7019802521822\n",
      "17 [148.31599599 139.05986994] [450. 410.] 405.4895711991357\n",
      "1, Forward Stroke Error: Comparing points [183.3382036   15.41308045], [ 73.16123038 410.        ] with error 409.6801221800993\n",
      "Back Stroke Error: Comparing points [183.3382036   15.41308045], [426.83876962 410.        ] with error 497.22885517615\n",
      "Forward Reference Error: Comparing points [450. 410.], [148.31599599 139.05986994] with error 406.44182208104587\n",
      "Back Reference Error: Comparing points [450. 410.], [147.4480254   15.41308045] with error 497.22885517615\n",
      "forward_stroke_error: 409.6801221800993, forward_ref_error: 406.44182208104587\n",
      "back_stroke_error: 497.22885517615, back_ref_error: 497.22885517615\n",
      "Ref stroke 1 vs Candidate Stroke 7 - error: 497.22885517615\n"
     ]
    },
    {
     "data": {
      "image/png": "[encoded data removed]",
      "text/plain": [
       "<PIL.Image.Image image mode=RGBA size=450x460 at 0x7F0C400E5940>"
      ]
     },
     "metadata": {},
     "output_type": "display_data"
    },
    {
     "name": "stdout",
     "output_type": "stream",
     "text": [
      "0 [184.60724863 145.73502426] [ 50. 410.] 296.5722319902761\n",
      "1 [209.98543701 129.61977619] [ 84.3009802 410.       ] 307.26153776697265\n",
      "2 [209.98543701  92.04475501] [127.17366971 410.        ] 328.5625155439267\n",
      "3 [251.82699601  65.47520273] [183.72642537 410.        ] 351.1908649932837\n",
      "4 [277.20518439  49.35995466] [218.02740556 410.        ] 365.4630649048821\n",
      "5 [313.09536259  49.35995466] [258.97770761 410.        ] 364.67788921623884\n",
      "6 [354.93692159  22.79040238] [315.53046327 410.        ] 389.20963688524296\n",
      "7 [390.82709979  22.79040238] [356.48076532 410.        ] 388.7299103216208\n",
      "8 [450.          22.79040238] [423.99639934 410.        ] 388.08176939117277\n",
      "9 [450.   0.] [450. 410.] 410.0\n",
      "9, Forward Stroke Error: Comparing points [209.98543701 129.61977619], [ 84.3009802 410.       ] with error 410.0\n",
      "Back Stroke Error: Comparing points [209.98543701 129.61977619], [415.6990198 410.       ] with error 572.8001396647875\n",
      "Forward Reference Error: Comparing points [450. 410.], [450.   0.] with error 410.0\n",
      "Back Reference Error: Comparing points [450. 410.], [184.60724863 145.73502426] with error 572.8001396647875\n",
      "forward_stroke_error: 410.0, forward_ref_error: 410.0\n",
      "back_stroke_error: 572.8001396647875, back_ref_error: 572.8001396647875\n",
      "Ref stroke 1 vs Candidate Stroke 8 - error: 572.8001396647875\n"
     ]
    },
    {
     "data": {
      "image/png": "[encoded data removed]",
      "text/plain": [
       "<PIL.Image.Image image mode=RGBA size=450x460 at 0x7F0C3EBD9BE0>"
      ]
     },
     "metadata": {},
     "output_type": "display_data"
    },
    {
     "name": "stdout",
     "output_type": "stream",
     "text": [
      "0 [334.32574249 379.44369761] [50. 50.] 435.1715497791113\n",
      "1 [334.32574249 341.86867643] [ 50.         -71.54985281] 501.75293537991\n",
      "2 [359.70393088 325.75342836] [ 49.87370135 215.20065118] 328.96304910047985\n",
      "3 [359.70393088 263.8026917 ] [0. 0.] 446.07037341152545\n"
     ]
    },
    {
     "ename": "IndexError",
     "evalue": "index 9 is out of bounds for axis 0 with size 4",
     "output_type": "error",
     "traceback": [
      "\u001b[0;31m---------------------------------------------------------------------------\u001b[0m",
      "\u001b[0;31mIndexError\u001b[0m                                Traceback (most recent call last)",
      "Input \u001b[0;32mIn [43]\u001b[0m, in \u001b[0;36m<cell line: 1>\u001b[0;34m()\u001b[0m\n\u001b[0;32m----> 1\u001b[0m alignments \u001b[38;5;241m=\u001b[39m \u001b[43malignStrokes\u001b[49m\u001b[43m(\u001b[49m\u001b[43mg\u001b[49m\u001b[43m,\u001b[49m\u001b[43m \u001b[49m\u001b[43mref_g\u001b[49m\u001b[43m,\u001b[49m\u001b[43m \u001b[49m\u001b[43ml\u001b[49m\u001b[43m,\u001b[49m\u001b[43m \u001b[49m\u001b[43mref_l\u001b[49m\u001b[43m)\u001b[49m\n\u001b[1;32m      2\u001b[0m \u001b[38;5;28mprint\u001b[39m(alignments)\n",
      "Input \u001b[0;32mIn [42]\u001b[0m, in \u001b[0;36malignStrokes\u001b[0;34m(strokes, ref, p_strokes, p_ref)\u001b[0m\n\u001b[1;32m     22\u001b[0m ref \u001b[38;5;241m=\u001b[39m np\u001b[38;5;241m.\u001b[39marray(ref)\n\u001b[1;32m     23\u001b[0m p_ref \u001b[38;5;241m=\u001b[39m np\u001b[38;5;241m.\u001b[39marray(p_ref)\n\u001b[0;32m---> 25\u001b[0m error_maps \u001b[38;5;241m=\u001b[39m \u001b[43mstrokeErrorMatrix\u001b[49m\u001b[43m(\u001b[49m\u001b[43mstrokes\u001b[49m\u001b[43m,\u001b[49m\u001b[43m \u001b[49m\u001b[43mref\u001b[49m\u001b[43m,\u001b[49m\u001b[43m \u001b[49m\u001b[43mp_strokes\u001b[49m\u001b[43m,\u001b[49m\u001b[43m \u001b[49m\u001b[43mp_ref\u001b[49m\u001b[43m)\u001b[49m\n\u001b[1;32m     27\u001b[0m \u001b[38;5;28mprint\u001b[39m(error_maps\u001b[38;5;241m.\u001b[39mastype(\u001b[38;5;28mint\u001b[39m))\n\u001b[1;32m     29\u001b[0m \u001b[38;5;66;03m# -1 just means unmatched here since 0 (the other 'default' filler) is a meaningful number in this context\u001b[39;00m\n",
      "Input \u001b[0;32mIn [42]\u001b[0m, in \u001b[0;36mstrokeErrorMatrix\u001b[0;34m(strokes, ref, p_strokes, p_ref)\u001b[0m\n\u001b[1;32m     50\u001b[0m \u001b[38;5;28;01mfor\u001b[39;00m i, ref_stroke, r_progresses \u001b[38;5;129;01min\u001b[39;00m \u001b[38;5;28mzip\u001b[39m(\u001b[38;5;28mrange\u001b[39m(\u001b[38;5;28mlen\u001b[39m(ref)), ref, p_ref):\n\u001b[1;32m     51\u001b[0m     \u001b[38;5;28;01mfor\u001b[39;00m j, candidate_stroke, c_progresses \u001b[38;5;129;01min\u001b[39;00m \u001b[38;5;28mzip\u001b[39m(\u001b[38;5;28mrange\u001b[39m(\u001b[38;5;28mlen\u001b[39m(strokes)), strokes, p_strokes):\n\u001b[0;32m---> 52\u001b[0m         error_map[i, j] \u001b[38;5;241m=\u001b[39m \u001b[43mstrokeError\u001b[49m\u001b[43m(\u001b[49m\u001b[43mref_stroke\u001b[49m\u001b[43m,\u001b[49m\u001b[43m \u001b[49m\u001b[43mcandidate_stroke\u001b[49m\u001b[43m,\u001b[49m\u001b[43m \u001b[49m\u001b[43mr_progresses\u001b[49m\u001b[43m,\u001b[49m\u001b[43m \u001b[49m\u001b[43mc_progresses\u001b[49m\u001b[43m)\u001b[49m\n\u001b[1;32m     53\u001b[0m         \u001b[38;5;28mprint\u001b[39m(\u001b[38;5;124mf\u001b[39m\u001b[38;5;124m\"\u001b[39m\u001b[38;5;124mRef stroke \u001b[39m\u001b[38;5;132;01m{\u001b[39;00mi\u001b[38;5;132;01m}\u001b[39;00m\u001b[38;5;124m vs Candidate Stroke \u001b[39m\u001b[38;5;132;01m{\u001b[39;00mj\u001b[38;5;132;01m}\u001b[39;00m\u001b[38;5;124m - error: \u001b[39m\u001b[38;5;132;01m{\u001b[39;00merror_map[i, j]\u001b[38;5;132;01m}\u001b[39;00m\u001b[38;5;124m\"\u001b[39m)\n\u001b[1;32m     54\u001b[0m         img \u001b[38;5;241m=\u001b[39m Image\u001b[38;5;241m.\u001b[39mnew(mode\u001b[38;5;241m=\u001b[39m\u001b[38;5;124m\"\u001b[39m\u001b[38;5;124mRGBA\u001b[39m\u001b[38;5;124m\"\u001b[39m, size\u001b[38;5;241m=\u001b[39moutput_size)\n",
      "Input \u001b[0;32mIn [42]\u001b[0m, in \u001b[0;36mstrokeError\u001b[0;34m(stroke, ref_stroke, p_stroke, p_ref, mode)\u001b[0m\n\u001b[1;32m     85\u001b[0m fre_maxdev \u001b[38;5;241m=\u001b[39m forward_ref_error\u001b[38;5;241m.\u001b[39margmax()\n\u001b[1;32m     86\u001b[0m bre_maxdev \u001b[38;5;241m=\u001b[39m back_ref_error\u001b[38;5;241m.\u001b[39margmax()\n\u001b[0;32m---> 87\u001b[0m \u001b[38;5;28mprint\u001b[39m(\u001b[38;5;124mf\u001b[39m\u001b[38;5;124m\"\u001b[39m\u001b[38;5;132;01m{\u001b[39;00mfse_maxdev\u001b[38;5;132;01m}\u001b[39;00m\u001b[38;5;124m, Forward Stroke Error: Comparing points \u001b[39m\u001b[38;5;132;01m{\u001b[39;00mref_stroke[i]\u001b[38;5;132;01m}\u001b[39;00m\u001b[38;5;124m, \u001b[39m\u001b[38;5;132;01m{\u001b[39;00mstrokeTrace(stroke, p_stroke, p_ref[i])\u001b[38;5;132;01m}\u001b[39;00m\u001b[38;5;124m with error \u001b[39m\u001b[38;5;132;01m{\u001b[39;00mforward_stroke_error\u001b[38;5;241m.\u001b[39mmax()\u001b[38;5;132;01m}\u001b[39;00m\u001b[38;5;124m\"\u001b[39m)\n\u001b[1;32m     88\u001b[0m \u001b[38;5;28mprint\u001b[39m(\u001b[38;5;124mf\u001b[39m\u001b[38;5;124m\"\u001b[39m\u001b[38;5;124mBack Stroke Error: Comparing points \u001b[39m\u001b[38;5;132;01m{\u001b[39;00mref_stroke[i]\u001b[38;5;132;01m}\u001b[39;00m\u001b[38;5;124m, \u001b[39m\u001b[38;5;132;01m{\u001b[39;00mstrokeTrace(stroke, p_stroke, \u001b[38;5;241m1\u001b[39m\u001b[38;5;241m-\u001b[39mp_ref[i])\u001b[38;5;132;01m}\u001b[39;00m\u001b[38;5;124m with error \u001b[39m\u001b[38;5;132;01m{\u001b[39;00mback_stroke_error\u001b[38;5;241m.\u001b[39mmax()\u001b[38;5;132;01m}\u001b[39;00m\u001b[38;5;124m\"\u001b[39m)\n\u001b[1;32m     89\u001b[0m \u001b[38;5;28mprint\u001b[39m(\u001b[38;5;124mf\u001b[39m\u001b[38;5;124m\"\u001b[39m\u001b[38;5;124mForward Reference Error: Comparing points \u001b[39m\u001b[38;5;132;01m{\u001b[39;00mstroke[i]\u001b[38;5;132;01m}\u001b[39;00m\u001b[38;5;124m, \u001b[39m\u001b[38;5;132;01m{\u001b[39;00mstrokeTrace(ref_stroke, p_ref, p_stroke[i])\u001b[38;5;132;01m}\u001b[39;00m\u001b[38;5;124m with error \u001b[39m\u001b[38;5;132;01m{\u001b[39;00mforward_ref_error\u001b[38;5;241m.\u001b[39mmax()\u001b[38;5;132;01m}\u001b[39;00m\u001b[38;5;124m\"\u001b[39m)\n",
      "\u001b[0;31mIndexError\u001b[0m: index 9 is out of bounds for axis 0 with size 4"
     ]
    }
   ],
   "source": [
    "alignments = alignStrokes(g, ref_g, l, ref_l)\n",
    "print(alignments)"
   ]
  },
  {
   "cell_type": "code",
   "execution_count": 6,
   "id": "bb97b14e",
   "metadata": {},
   "outputs": [
    {
     "name": "stdout",
     "output_type": "stream",
     "text": [
      "9\n"
     ]
    },
    {
     "data": {
      "image/png": "[encoded data removed]",
      "text/plain": [
       "<PIL.Image.Image image mode=RGBA size=450x460 at 0x7F0C74465AF0>"
      ]
     },
     "metadata": {},
     "output_type": "display_data"
    },
    {
     "data": {
      "image/png": "[encoded data removed]",
      "text/plain": [
       "<PIL.Image.Image image mode=RGBA size=450x460 at 0x7F0C640F62B0>"
      ]
     },
     "metadata": {},
     "output_type": "display_data"
    },
    {
     "data": {
      "image/png": "[encoded data removed]",
      "text/plain": [
       "<PIL.Image.Image image mode=RGBA size=450x460 at 0x7F0C640F62E0>"
      ]
     },
     "metadata": {},
     "output_type": "display_data"
    },
    {
     "data": {
      "image/png": "[encoded data removed]",
      "text/plain": [
       "<PIL.Image.Image image mode=RGBA size=450x460 at 0x7F0C7829CC40>"
      ]
     },
     "metadata": {},
     "output_type": "display_data"
    },
    {
     "data": {
      "image/png": "[encoded data removed]",
      "text/plain": [
       "<PIL.Image.Image image mode=RGBA size=450x460 at 0x7F0C640F6250>"
      ]
     },
     "metadata": {},
     "output_type": "display_data"
    },
    {
     "data": {
      "image/png": "[encoded data removed]",
      "text/plain": [
       "<PIL.Image.Image image mode=RGBA size=450x460 at 0x7F0C640F6310>"
      ]
     },
     "metadata": {},
     "output_type": "display_data"
    },
    {
     "data": {
      "image/png": "[encoded data removed]",
      "text/plain": [
       "<PIL.Image.Image image mode=RGBA size=450x460 at 0x7F0C640F6340>"
      ]
     },
     "metadata": {},
     "output_type": "display_data"
    },
    {
     "data": {
      "image/png": "[encoded data removed]",
      "text/plain": [
       "<PIL.Image.Image image mode=RGBA size=450x460 at 0x7F0C640F6370>"
      ]
     },
     "metadata": {},
     "output_type": "display_data"
    },
    {
     "data": {
      "image/png": "[encoded data removed]",
      "text/plain": [
       "<PIL.Image.Image image mode=RGBA size=450x460 at 0x7F0C640F63A0>"
      ]
     },
     "metadata": {},
     "output_type": "display_data"
    },
    {
     "name": "stdout",
     "output_type": "stream",
     "text": [
      "[7 4 6 8 3 2 1 0 5]\n"
     ]
    }
   ],
   "source": [
    "imgs = [Image.new(mode=\"RGBA\", size=output_size) for _ in range(len(ref_g))]\n",
    "img_full = Image.new(mode=\"RGBA\", size=output_size)\n",
    "print(len(imgs))\n",
    "seed(ref_l[0][0])\n",
    "xcolors = [\"#7e1e9c\", \"#15b01a\", \"#0343df\", \"#653700\", \"#e50000\", \"#f97306\", \"#033500\", \"#ffff14\", \"#001146\"]\n",
    "color_selection = [(int(c[1:3], 16), int(c[3:5], 16), int(c[5:7], 16)) for c in xcolors]\n",
    "colors = color_selection[:len(ref_l)+1]\n",
    "#colors = [(randint(0, 256), randint(0, 256), randint(0, 256)) for _ in range(len(ref_l)+1)]\n",
    "colors_t = [(c[0], c[1], c[2], 70) for c in colors]\n",
    "\n",
    "priority = [7, 2, 1, 8, 3, 6, 5, 4, 0]\n",
    "#alignments = [7, 6, 5, 8, 3, 1, 0, 2, 4]\n",
    "#alignments = [7 4 6 8 3 2 1 0 5]\n",
    "#alignments = alignments[priority]\n",
    "\n",
    "for i in range(len(alignments)):\n",
    "    draw = ImageDraw.Draw(imgs[i])\n",
    "    draw_full = ImageDraw.Draw(img_full)\n",
    "    for a in range(len(g[i])-1):\n",
    "        x1, y1 = g[i][a]\n",
    "        x2, y2 = g[i][a+1]\n",
    "        y1 = -(y1-output_size[1]/2)+output_size[1]/2\n",
    "        y2 = -(y2-output_size[1]/2)+output_size[1]/2\n",
    "        draw.line(((x1, y1), (x2, y2)), width=6, fill=colors[i])\n",
    "        draw_full.line(((x1, y1), (x2, y2)), width=6, fill=colors[i])\n",
    "\n",
    "for i in alignments:\n",
    "    draw = ImageDraw.Draw(imgs[i])\n",
    "    draw_full = ImageDraw.Draw(img_full)\n",
    "    for a in range(len(ref_g[i])-1):\n",
    "        x1, y1 = ref_g[i][a]\n",
    "        x2, y2 = ref_g[i][a+1]\n",
    "        y1 = -(y1-output_size[1]/2)+output_size[1]/2\n",
    "        y2 = -(y2-output_size[1]/2)+output_size[1]/2\n",
    "        draw.line(((x1, y1), (x2, y2)), width=3, fill=colors[i])\n",
    "        draw_full.line(((x1, y1), (x2, y2)), width=3, fill=colors[i])\n",
    "        \n",
    "#display(img_full)\n",
    "for p in range(len(priority)):\n",
    "    display(imgs[p])\n",
    "    \n",
    "print(alignments)"
   ]
  },
  {
   "cell_type": "code",
   "execution_count": null,
   "id": "0be51788",
   "metadata": {},
   "outputs": [],
   "source": []
  }
 ],
 "metadata": {
  "kernelspec": {
   "display_name": "Python 3 (ipykernel)",
   "language": "python",
   "name": "python3"
  },
  "language_info": {
   "codemirror_mode": {
    "name": "ipython",
    "version": 3
   },
   "file_extension": ".py",
   "mimetype": "text/x-python",
   "name": "python",
   "nbconvert_exporter": "python",
   "pygments_lexer": "ipython3",
   "version": "3.9.12"
  }
 },
 "nbformat": 4,
 "nbformat_minor": 5
}
