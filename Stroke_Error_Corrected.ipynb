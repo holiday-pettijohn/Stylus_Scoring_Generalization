{
 "cells": [
  {
   "cell_type": "markdown",
   "id": "908b26e3",
   "metadata": {},
   "source": [
    "# Debug the Calculation of Stroke Error"
   ]
  },
  {
   "cell_type": "code",
   "execution_count": 1,
   "id": "75cd8874",
   "metadata": {},
   "outputs": [],
   "source": [
    "import os\n",
    "import xmltodict\n",
    "\n",
    "import matplotlib.pyplot as plt\n",
    "import numpy as np\n",
    "\n",
    "from PIL import Image, ImageDraw\n",
    "from random import randint, seed\n",
    "from xmlparse import xmlToGeometry, loadGeometry\n",
    "\n",
    "import numpy as np"
   ]
  },
  {
   "cell_type": "code",
   "execution_count": 2,
   "id": "9ef8ec66",
   "metadata": {},
   "outputs": [],
   "source": [
    "def loadRef(han_char, ref_dir = \"Reference\"):\n",
    "    stroke_list = []\n",
    "    frac_dists = []\n",
    "    ref_path = f\"{ref_dir}/{han_char[0]}000/{han_char}.han\"\n",
    "    ref_xml = open(ref_path, \"r\").read()\n",
    "    root = xmltodict.parse(ref_xml)\n",
    "    bounds = root[\"hanDefinition\"][\"bounds\"]\n",
    "    x_min, y_min, x_max, y_max = (float(bounds[\"@left\"]), float(bounds[\"@bottom\"]), float(bounds[\"@right\"]), float(bounds[\"@top\"]))\n",
    "    scale = (int(x_max-x_min), int(y_max-y_min))\n",
    "    strokes = root[\"hanDefinition\"][\"strokes\"][\"stroke\"]\n",
    "    for stroke in strokes:\n",
    "        points = stroke[\"points\"][\"forward\"]\n",
    "        point_arr = []\n",
    "        frac_arr = []\n",
    "        for point in points[\"pointDistance\"]:\n",
    "            point_arr.append((float(point[\"@x\"])-x_min,\n",
    "                              float(point[\"@y\"])-y_min))\n",
    "            frac_arr.append(float(point[\"@fractionalDistance\"]))\n",
    "        stroke_list.append(np.array(point_arr))\n",
    "        frac_dists.append(np.array(frac_arr))\n",
    "    return stroke_list, frac_dists, scale\n"
   ]
  },
  {
   "cell_type": "code",
   "execution_count": 3,
   "id": "3c92028f",
   "metadata": {},
   "outputs": [],
   "source": [
    "ref_g, ref_l, output_size = loadRef(\"56DB\", \"Reference\")\n",
    "# in order to test multiple samples, add the file numbers to the f_read list and delete the [0] at the line end\n",
    "# be aware this will turn g and l into iterables, so handle your loops accordingly\n",
    "g, l = loadGeometry(\"Genes/maint_0.001 on 56DB.08/\", \"56DB\", output_size, f_read = [\"56DB.08.15.gene\"])[0]"
   ]
  },
  {
   "cell_type": "code",
   "execution_count": 4,
   "id": "58cc3bd4",
   "metadata": {},
   "outputs": [],
   "source": [
    "def alignStrokes(strokes, ref, p_strokes, p_ref):\n",
    "    # function to get stroke length given a stroke value (in this case, a stroke value is a 2d list\n",
    "    # that contains an x coord in stroke[][0] and a y coord in stroke[][1])\n",
    "    def getStrokeLen(stroke):\n",
    "        length = 0 # adding all the lengths we get between two points to this variable\n",
    "        # while it looks a little complicated, this is just the pythagorean theorem applied between two coordinates, just \n",
    "        # how one would calculate it on a graph: sqrt(a^2 + b^2)\n",
    "        for i in range(len(stroke)-1):\n",
    "            length += ((stroke[i][0] - stroke[i+1][0])**2 + (stroke[i][1] - stroke[i+1][1])**2)**0.5\n",
    "        return length\n",
    "\n",
    "    #get the lengths of each stroke for the order in the greedy algorithm\n",
    "    ref_lengths = []\n",
    "    for i in range(len(strokes)):\n",
    "        ref_lengths.append(getStrokeLen(ref[i]))\n",
    "    priority = np.argsort(ref_lengths)[::-1]\n",
    "    \n",
    "    strokes = strokes\n",
    "    p_strokes = p_strokes\n",
    "    ref = ref\n",
    "    p_ref = p_ref\n",
    "    \n",
    "    error_maps = strokeErrorMatrix(strokes, ref, p_strokes, p_ref)\n",
    "    \n",
    "    print(error_maps.astype(int))\n",
    "\n",
    "    # -1 just means unmatched here since 0 (the other 'default' filler) is a meaningful number in this context\n",
    "    stroke_map = np.full(len(strokes), -1)\n",
    "\n",
    "    \n",
    "    for i in priority:\n",
    "        largestref = i # this is the index for the reference stroke that is largest\n",
    "        smallerror = np.argmin(error_maps[largestref, :]) # access the error map from the largest stroke's index and see which error is smallest\n",
    "        print(f\"{error_maps.astype(int)[i]} - minimizing for priority stroke {i}\")\n",
    "        error_maps[:, smallerror] = 10000\n",
    "        print(\"Resulting error map:\")\n",
    "        print(error_maps.astype(int))\n",
    "        stroke_map[smallerror] = largestref # set the index in the stroke_map to the reference stroke we designated\n",
    "        print(stroke_map)\n",
    "    \n",
    "    return stroke_map\n",
    "\n",
    "xcolors = [\"#7e1e9c\", \"#15b01a\", \"#0343df\", \"#653700\", \"#e50000\", \"#f97306\", \"#033500\", \"#ffff14\", \"#001146\"]\n",
    "color_selection = [(int(c[1:3], 16), int(c[3:5], 16), int(c[5:7], 16)) for c in xcolors]\n",
    "colors = color_selection[:len(ref_l)+1]\n",
    "\n",
    "def strokeErrorMatrix(strokes, ref, p_strokes, p_ref):\n",
    "    error_map = np.zeros((len(ref), len(strokes)), dtype=float)\n",
    "    for i, ref_stroke, r_progresses in zip(range(len(ref)), ref, p_ref):\n",
    "        for j, candidate_stroke, c_progresses in zip(range(len(strokes)), strokes, p_strokes):\n",
    "            error_map[i, j] = strokeError(ref_stroke, candidate_stroke, r_progresses, c_progresses)\n",
    "            print(f\"Ref stroke {i} vs Candidate Stroke {j} - error: {error_map[i, j]}\")\n",
    "            img = Image.new(mode=\"RGBA\", size=output_size)\n",
    "            draw = ImageDraw.Draw(img)\n",
    "            for a in range(len(ref_stroke)-1):\n",
    "                x1, y1 = ref_stroke[a]\n",
    "                x2, y2 = ref_stroke[a+1]\n",
    "                y1 = -(y1-output_size[1]/2)+output_size[1]/2\n",
    "                y2 = -(y2-output_size[1]/2)+output_size[1]/2\n",
    "                draw.line(((x1, y1), (x2, y2)), width=6, fill=colors[0])\n",
    "            for b in range(len(candidate_stroke)-1):\n",
    "                x1, y1 = candidate_stroke[b]\n",
    "                x2, y2 = candidate_stroke[b+1]\n",
    "                y1 = -(y1-output_size[1]/2)+output_size[1]/2\n",
    "                y2 = -(y2-output_size[1]/2)+output_size[1]/2\n",
    "                draw.line(((x1, y1), (x2, y2)), width=6, fill=colors[1])\n",
    "            display(img)\n",
    "    return error_map\n",
    "\n",
    "def strokeError(stroke, ref_stroke, p_stroke, p_ref, mode=\"max\"):\n",
    "    forward_stroke_error, back_stroke_error = np.zeros(len(ref_stroke)), np.zeros(len(ref_stroke))\n",
    "    forward_ref_error, back_ref_error = np.zeros(len(stroke)), np.zeros(len(stroke))\n",
    "    for i, rpoint, rprogress in zip(range(len(ref_stroke)), ref_stroke, p_ref):\n",
    "        forward_stroke_error[i] = (np.linalg.norm(abs(rpoint-strokeTrace(stroke, p_stroke, rprogress))))\n",
    "        #print(i, rpoint, strokeTrace(stroke, p_stroke, rprogress), forward_stroke_error[i])\n",
    "    #print(f\"Final forward stroke error: {forward_stroke_error.max()}\")\n",
    "    for i, rpoint, rprogress in zip(range(len(ref_stroke)), ref_stroke[::-1], p_ref[::-1]):\n",
    "        back_stroke_error[i] = (np.linalg.norm(abs(rpoint-strokeTrace(stroke, p_stroke, 1-rprogress))))\n",
    "        #print(i, rpoint, strokeTrace(stroke, p_stroke, 1-rprogress), back_stroke_error[i])\n",
    "    #print(f\"Final back stroke error: {back_stroke_error.max()}\")\n",
    "    for i, point, progress in zip(range(len(stroke)), stroke, p_stroke):\n",
    "        forward_ref_error[i] = (np.linalg.norm((point-strokeTrace(ref_stroke, p_ref, progress))))\n",
    "        #print(i, point, strokeTrace(stroke, p_stroke, progress), forward_ref_error[i])\n",
    "    #print(f\"Final forward ref error: {forward_ref_error.max()}\")\n",
    "    for i, point, progress in zip(range(len(stroke)), stroke[::-1], p_stroke[::-1]):\n",
    "        back_ref_error[i] = (np.linalg.norm((point-strokeTrace(ref_stroke, p_ref, 1-progress))))\n",
    "        #print(i, point, strokeTrace(stroke, p_stroke, 1-progress), back_ref_error[i])\n",
    "    #print(f\"Final back ref error: {back_ref_error.max()}\")\n",
    "    fse_maxdev = forward_stroke_error.argmax()\n",
    "    bse_maxdev = back_stroke_error.argmax()\n",
    "    fre_maxdev = forward_ref_error.argmax()\n",
    "    bre_maxdev = back_ref_error.argmax()\n",
    "    final_error = max(min(forward_stroke_error.max(), back_stroke_error.max()), min(forward_ref_error.max(), back_ref_error.max()))\n",
    "    #print(f\"Final error: {final_error}\")\n",
    "    return final_error\n",
    "\n",
    "def strokeTrace(stroke, stroke_progresses, progress):\n",
    "    if progress == 1:\n",
    "        return stroke[-1]\n",
    "    progress_line = len(stroke_progresses)-1\n",
    "    for i in range(1, len(stroke_progresses)):\n",
    "        if stroke_progresses[i] > progress:\n",
    "            progress_line = i-1\n",
    "            break\n",
    "    startp, endp = stroke_progresses[progress_line], stroke_progresses[progress_line+1]\n",
    "    norm_progress = (progress-startp)/endp\n",
    "    if stroke[progress_line+1][0] == stroke[progress_line][0]:\n",
    "        x = stroke[progress_line][0]\n",
    "        y = norm_progress*(stroke[progress_line+1][1]-stroke[progress_line][1])+stroke[progress_line][1]\n",
    "    else:\n",
    "        slope = (stroke[progress_line+1][1]-stroke[progress_line][1])/(stroke[progress_line+1][0]-stroke[progress_line][0])\n",
    "        intercept = stroke[progress_line][1]-slope*stroke[progress_line][0]\n",
    "        x = norm_progress*(stroke[progress_line+1][0]-stroke[progress_line][0])+stroke[progress_line][0]\n",
    "        y = slope*x + intercept\n",
    "    return np.array((x, y))\n"
   ]
  },
  {
   "cell_type": "code",
   "execution_count": 5,
   "id": "1a74bf6f",
   "metadata": {},
   "outputs": [
    {
     "name": "stdout",
     "output_type": "stream",
     "text": [
      "Ref stroke 0 vs Candidate Stroke 0 - error: 229.14326527133463\n"
     ]
    },
    {
     "data": {
      "image/png": "[encoded data removed]",
      "text/plain": [
       "<PIL.Image.Image image mode=RGBA size=370x390>"
      ]
     },
     "metadata": {},
     "output_type": "display_data"
    },
    {
     "name": "stdout",
     "output_type": "stream",
     "text": [
      "Ref stroke 0 vs Candidate Stroke 1 - error: 344.99967600557073\n"
     ]
    },
    {
     "data": {
      "image/png": "[encoded data removed]",
      "text/plain": [
       "<PIL.Image.Image image mode=RGBA size=370x390>"
      ]
     },
     "metadata": {},
     "output_type": "display_data"
    },
    {
     "name": "stdout",
     "output_type": "stream",
     "text": [
      "Ref stroke 0 vs Candidate Stroke 2 - error: 323.33070933696905\n"
     ]
    },
    {
     "data": {
      "image/png": "[encoded data removed]",
      "text/plain": [
       "<PIL.Image.Image image mode=RGBA size=370x390>"
      ]
     },
     "metadata": {},
     "output_type": "display_data"
    },
    {
     "name": "stdout",
     "output_type": "stream",
     "text": [
      "Ref stroke 0 vs Candidate Stroke 3 - error: 174.83823863226775\n"
     ]
    },
    {
     "data": {
      "image/png": "[encoded data removed]",
      "text/plain": [
       "<PIL.Image.Image image mode=RGBA size=370x390>"
      ]
     },
     "metadata": {},
     "output_type": "display_data"
    },
    {
     "name": "stdout",
     "output_type": "stream",
     "text": [
      "Ref stroke 0 vs Candidate Stroke 4 - error: 372.0493884298642\n"
     ]
    },
    {
     "data": {
      "image/png": "[encoded data removed]",
      "text/plain": [
       "<PIL.Image.Image image mode=RGBA size=370x390>"
      ]
     },
     "metadata": {},
     "output_type": "display_data"
    },
    {
     "name": "stdout",
     "output_type": "stream",
     "text": [
      "Ref stroke 1 vs Candidate Stroke 0 - error: 390.35637156094566\n"
     ]
    },
    {
     "data": {
      "image/png": "[encoded data removed]",
      "text/plain": [
       "<PIL.Image.Image image mode=RGBA size=370x390>"
      ]
     },
     "metadata": {},
     "output_type": "display_data"
    },
    {
     "name": "stdout",
     "output_type": "stream",
     "text": [
      "Ref stroke 1 vs Candidate Stroke 1 - error: 297.5827679128848\n"
     ]
    },
    {
     "data": {
      "image/png": "[encoded data removed]",
      "text/plain": [
       "<PIL.Image.Image image mode=RGBA size=370x390>"
      ]
     },
     "metadata": {},
     "output_type": "display_data"
    },
    {
     "name": "stdout",
     "output_type": "stream",
     "text": [
      "Ref stroke 1 vs Candidate Stroke 2 - error: 330.1412008211979\n"
     ]
    },
    {
     "data": {
      "image/png": "[encoded data removed]",
      "text/plain": [
       "<PIL.Image.Image image mode=RGBA size=370x390>"
      ]
     },
     "metadata": {},
     "output_type": "display_data"
    },
    {
     "name": "stdout",
     "output_type": "stream",
     "text": [
      "Ref stroke 1 vs Candidate Stroke 3 - error: 363.762881881278\n"
     ]
    },
    {
     "data": {
      "image/png": "[encoded data removed]",
      "text/plain": [
       "<PIL.Image.Image image mode=RGBA size=370x390>"
      ]
     },
     "metadata": {},
     "output_type": "display_data"
    },
    {
     "name": "stdout",
     "output_type": "stream",
     "text": [
      "Ref stroke 1 vs Candidate Stroke 4 - error: 309.90933413504433\n"
     ]
    },
    {
     "data": {
      "image/png": "[encoded data removed]",
      "text/plain": [
       "<PIL.Image.Image image mode=RGBA size=370x390>"
      ]
     },
     "metadata": {},
     "output_type": "display_data"
    },
    {
     "name": "stdout",
     "output_type": "stream",
     "text": [
      "Ref stroke 2 vs Candidate Stroke 0 - error: 199.72879497394905\n"
     ]
    },
    {
     "data": {
      "image/png": "[encoded data removed]",
      "text/plain": [
       "<PIL.Image.Image image mode=RGBA size=370x390>"
      ]
     },
     "metadata": {},
     "output_type": "display_data"
    },
    {
     "name": "stdout",
     "output_type": "stream",
     "text": [
      "Ref stroke 2 vs Candidate Stroke 1 - error: 294.91286518268464\n"
     ]
    },
    {
     "data": {
      "image/png": "[encoded data removed]",
      "text/plain": [
       "<PIL.Image.Image image mode=RGBA size=370x390>"
      ]
     },
     "metadata": {},
     "output_type": "display_data"
    },
    {
     "name": "stdout",
     "output_type": "stream",
     "text": [
      "Ref stroke 2 vs Candidate Stroke 2 - error: 238.31460587037813\n"
     ]
    },
    {
     "data": {
      "image/png": "[encoded data removed]",
      "text/plain": [
       "<PIL.Image.Image image mode=RGBA size=370x390>"
      ]
     },
     "metadata": {},
     "output_type": "display_data"
    },
    {
     "name": "stdout",
     "output_type": "stream",
     "text": [
      "Ref stroke 2 vs Candidate Stroke 3 - error: 50.205645706145106\n"
     ]
    },
    {
     "data": {
      "image/png": "[encoded data removed]",
      "text/plain": [
       "<PIL.Image.Image image mode=RGBA size=370x390>"
      ]
     },
     "metadata": {},
     "output_type": "display_data"
    },
    {
     "name": "stdout",
     "output_type": "stream",
     "text": [
      "Ref stroke 2 vs Candidate Stroke 4 - error: 250.5594354834127\n"
     ]
    },
    {
     "data": {
      "image/png": "[encoded data removed]",
      "text/plain": [
       "<PIL.Image.Image image mode=RGBA size=370x390>"
      ]
     },
     "metadata": {},
     "output_type": "display_data"
    },
    {
     "name": "stdout",
     "output_type": "stream",
     "text": [
      "Ref stroke 3 vs Candidate Stroke 0 - error: 283.0983233911977\n"
     ]
    },
    {
     "data": {
      "image/png": "[encoded data removed]",
      "text/plain": [
       "<PIL.Image.Image image mode=RGBA size=370x390>"
      ]
     },
     "metadata": {},
     "output_type": "display_data"
    },
    {
     "name": "stdout",
     "output_type": "stream",
     "text": [
      "Ref stroke 3 vs Candidate Stroke 1 - error: 291.79525916550807\n"
     ]
    },
    {
     "data": {
      "image/png": "[encoded data removed]",
      "text/plain": [
       "<PIL.Image.Image image mode=RGBA size=370x390>"
      ]
     },
     "metadata": {},
     "output_type": "display_data"
    },
    {
     "name": "stdout",
     "output_type": "stream",
     "text": [
      "Ref stroke 3 vs Candidate Stroke 2 - error: 298.45892112475264\n"
     ]
    },
    {
     "data": {
      "image/png": "[encoded data removed]",
      "text/plain": [
       "<PIL.Image.Image image mode=RGBA size=370x390>"
      ]
     },
     "metadata": {},
     "output_type": "display_data"
    },
    {
     "name": "stdout",
     "output_type": "stream",
     "text": [
      "Ref stroke 3 vs Candidate Stroke 3 - error: 275.68430598467023\n"
     ]
    },
    {
     "data": {
      "image/png": "[encoded data removed]",
      "text/plain": [
       "<PIL.Image.Image image mode=RGBA size=370x390>"
      ]
     },
     "metadata": {},
     "output_type": "display_data"
    },
    {
     "name": "stdout",
     "output_type": "stream",
     "text": [
      "Ref stroke 3 vs Candidate Stroke 4 - error: 163.1603535858348\n"
     ]
    },
    {
     "data": {
      "image/png": "[encoded data removed]",
      "text/plain": [
       "<PIL.Image.Image image mode=RGBA size=370x390>"
      ]
     },
     "metadata": {},
     "output_type": "display_data"
    },
    {
     "name": "stdout",
     "output_type": "stream",
     "text": [
      "Ref stroke 4 vs Candidate Stroke 0 - error: 245.01039192185752\n"
     ]
    },
    {
     "data": {
      "image/png": "[encoded data removed]",
      "text/plain": [
       "<PIL.Image.Image image mode=RGBA size=370x390>"
      ]
     },
     "metadata": {},
     "output_type": "display_data"
    },
    {
     "name": "stdout",
     "output_type": "stream",
     "text": [
      "Ref stroke 4 vs Candidate Stroke 1 - error: 175.4587558152211\n"
     ]
    },
    {
     "data": {
      "image/png": "[encoded data removed]",
      "text/plain": [
       "<PIL.Image.Image image mode=RGBA size=370x390>"
      ]
     },
     "metadata": {},
     "output_type": "display_data"
    },
    {
     "name": "stdout",
     "output_type": "stream",
     "text": [
      "Ref stroke 4 vs Candidate Stroke 2 - error: 178.15906928009338\n"
     ]
    },
    {
     "data": {
      "image/png": "[encoded data removed]",
      "text/plain": [
       "<PIL.Image.Image image mode=RGBA size=370x390>"
      ]
     },
     "metadata": {},
     "output_type": "display_data"
    },
    {
     "name": "stdout",
     "output_type": "stream",
     "text": [
      "Ref stroke 4 vs Candidate Stroke 3 - error: 343.50695047714663\n"
     ]
    },
    {
     "data": {
      "image/png": "[encoded data removed]",
      "text/plain": [
       "<PIL.Image.Image image mode=RGBA size=370x390>"
      ]
     },
     "metadata": {},
     "output_type": "display_data"
    },
    {
     "name": "stdout",
     "output_type": "stream",
     "text": [
      "Ref stroke 4 vs Candidate Stroke 4 - error: 345.2692979749195\n"
     ]
    },
    {
     "data": {
      "image/png": "[encoded data removed]",
      "text/plain": [
       "<PIL.Image.Image image mode=RGBA size=370x390>"
      ]
     },
     "metadata": {},
     "output_type": "display_data"
    },
    {
     "name": "stdout",
     "output_type": "stream",
     "text": [
      "[[229 344 323 174 372]\n",
      " [390 297 330 363 309]\n",
      " [199 294 238  50 250]\n",
      " [283 291 298 275 163]\n",
      " [245 175 178 343 345]]\n",
      "[390 297 330 363 309] - minimizing for priority stroke 1\n",
      "Resulting error map:\n",
      "[[  229 10000   323   174   372]\n",
      " [  390 10000   330   363   309]\n",
      " [  199 10000   238    50   250]\n",
      " [  283 10000   298   275   163]\n",
      " [  245 10000   178   343   345]]\n",
      "[-1  1 -1 -1 -1]\n",
      "[  229 10000   323   174   372] - minimizing for priority stroke 0\n",
      "Resulting error map:\n",
      "[[  229 10000   323 10000   372]\n",
      " [  390 10000   330 10000   309]\n",
      " [  199 10000   238 10000   250]\n",
      " [  283 10000   298 10000   163]\n",
      " [  245 10000   178 10000   345]]\n",
      "[-1  1 -1  0 -1]\n",
      "[  245 10000   178 10000   345] - minimizing for priority stroke 4\n",
      "Resulting error map:\n",
      "[[  229 10000 10000 10000   372]\n",
      " [  390 10000 10000 10000   309]\n",
      " [  199 10000 10000 10000   250]\n",
      " [  283 10000 10000 10000   163]\n",
      " [  245 10000 10000 10000   345]]\n",
      "[-1  1  4  0 -1]\n",
      "[  283 10000 10000 10000   163] - minimizing for priority stroke 3\n",
      "Resulting error map:\n",
      "[[  229 10000 10000 10000 10000]\n",
      " [  390 10000 10000 10000 10000]\n",
      " [  199 10000 10000 10000 10000]\n",
      " [  283 10000 10000 10000 10000]\n",
      " [  245 10000 10000 10000 10000]]\n",
      "[-1  1  4  0  3]\n",
      "[  199 10000 10000 10000 10000] - minimizing for priority stroke 2\n",
      "Resulting error map:\n",
      "[[10000 10000 10000 10000 10000]\n",
      " [10000 10000 10000 10000 10000]\n",
      " [10000 10000 10000 10000 10000]\n",
      " [10000 10000 10000 10000 10000]\n",
      " [10000 10000 10000 10000 10000]]\n",
      "[2 1 4 0 3]\n",
      "[2 1 4 0 3]\n"
     ]
    }
   ],
   "source": [
    "alignments = alignStrokes(g, ref_g, l, ref_l)\n",
    "print(alignments)"
   ]
  },
  {
   "cell_type": "code",
   "execution_count": 9,
   "id": "bb97b14e",
   "metadata": {},
   "outputs": [
    {
     "name": "stdout",
     "output_type": "stream",
     "text": [
      "[2 1 4 0 3]\n"
     ]
    },
    {
     "data": {
      "image/png": "[encoded data removed]",
      "text/plain": [
       "<PIL.Image.Image image mode=RGBA size=370x390>"
      ]
     },
     "metadata": {},
     "output_type": "display_data"
    },
    {
     "data": {
      "image/png": "[encoded data removed]",
      "text/plain": [
       "<PIL.Image.Image image mode=RGBA size=370x390>"
      ]
     },
     "metadata": {},
     "output_type": "display_data"
    },
    {
     "data": {
      "image/png": "[encoded data removed]",
      "text/plain": [
       "<PIL.Image.Image image mode=RGBA size=370x390>"
      ]
     },
     "metadata": {},
     "output_type": "display_data"
    },
    {
     "data": {
      "image/png": "[encoded data removed]",
      "text/plain": [
       "<PIL.Image.Image image mode=RGBA size=370x390>"
      ]
     },
     "metadata": {},
     "output_type": "display_data"
    },
    {
     "data": {
      "image/png": "[encoded data removed]",
      "text/plain": [
       "<PIL.Image.Image image mode=RGBA size=370x390>"
      ]
     },
     "metadata": {},
     "output_type": "display_data"
    },
    {
     "data": {
      "image/png": "[encoded data removed]",
      "text/plain": [
       "<PIL.Image.Image image mode=RGBA size=370x390>"
      ]
     },
     "metadata": {},
     "output_type": "display_data"
    },
    {
     "name": "stdout",
     "output_type": "stream",
     "text": [
      "[2 1 4 0 3]\n"
     ]
    }
   ],
   "source": [
    "imgs = [Image.new(mode=\"RGBA\", size=output_size) for _ in range(len(ref_g))]\n",
    "img_full = Image.new(mode=\"RGBA\", size=output_size)\n",
    "seed(ref_l[0][0])\n",
    "xcolors = [\"#7e1e9c\", \"#15b01a\", \"#0343df\", \"#653700\", \"#e50000\", \"#f97306\", \"#033500\", \"#ffff14\", \"#001146\"]\n",
    "color_selection = [(int(c[1:3], 16), int(c[3:5], 16), int(c[5:7], 16)) for c in xcolors]\n",
    "colors = color_selection[:len(ref_l)+1]\n",
    "#colors = [(randint(0, 256), randint(0, 256), randint(0, 256)) for _ in range(len(ref_l)+1)]\n",
    "colors_t = [(c[0], c[1], c[2], 70) for c in colors]\n",
    "\n",
    "\n",
    "print(alignments)\n",
    "for x in range(len(alignments)):\n",
    "    i = np.where(alignments == x)[0][0]\n",
    "    draw = ImageDraw.Draw(imgs[x])\n",
    "    draw_full = ImageDraw.Draw(img_full)\n",
    "    for a in range(len(g[i])-1):\n",
    "        x1, y1 = g[i][a]\n",
    "        x2, y2 = g[i][a+1]\n",
    "        y1 = -(y1-output_size[1]/2)+output_size[1]/2\n",
    "        y2 = -(y2-output_size[1]/2)+output_size[1]/2\n",
    "        draw.line(((x1, y1), (x2, y2)), width=6, fill=colors[i])\n",
    "        draw_full.line(((x1, y1), (x2, y2)), width=6, fill=colors[i])\n",
    "\n",
    "\"\"\"\n",
    "for i in range(len(alignments)):\n",
    "    draw = ImageDraw.Draw(imgs[i])\n",
    "    draw_full = ImageDraw.Draw(img_full)\n",
    "    for a in range(len(ref_g[i])-1):\n",
    "        x1, y1 = ref_g[i][a]\n",
    "        x2, y2 = ref_g[i][a+1]\n",
    "        y1 = -(y1-output_size[1]/2)+output_size[1]/2\n",
    "        y2 = -(y2-output_size[1]/2)+output_size[1]/2\n",
    "        draw.line(((x1, y1), (x2, y2)), width=3, fill=colors[i])\n",
    "        draw_full.line(((x1, y1), (x2, y2)), width=3, fill=colors[i])\n",
    "\"\"\"\n",
    "    \n",
    "display(img_full)\n",
    "for p in range(len(alignments)):\n",
    "    display(imgs[p])\n",
    "    \n",
    "print(alignments)"
   ]
  },
  {
   "cell_type": "code",
   "execution_count": null,
   "id": "0be51788",
   "metadata": {},
   "outputs": [],
   "source": []
  }
 ],
 "metadata": {
  "kernelspec": {
   "display_name": "Python 3 (ipykernel)",
   "language": "python",
   "name": "python3"
  },
  "language_info": {
   "codemirror_mode": {
    "name": "ipython",
    "version": 3
   },
   "file_extension": ".py",
   "mimetype": "text/x-python",
   "name": "python",
   "nbconvert_exporter": "python",
   "pygments_lexer": "ipython3",
   "version": "3.10.10"
  }
 },
 "nbformat": 4,
 "nbformat_minor": 5
}
