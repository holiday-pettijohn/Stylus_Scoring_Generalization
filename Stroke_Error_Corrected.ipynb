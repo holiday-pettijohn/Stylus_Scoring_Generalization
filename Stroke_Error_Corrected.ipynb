{
 "cells": [
  {
   "cell_type": "markdown",
   "id": "908b26e3",
   "metadata": {},
   "source": [
    "# Debug the Calculation of Stroke Error"
   ]
  },
  {
   "cell_type": "code",
   "execution_count": 1,
   "id": "75cd8874",
   "metadata": {},
   "outputs": [],
   "source": [
    "import os\n",
    "import xmltodict\n",
    "\n",
    "import matplotlib.pyplot as plt\n",
    "import numpy as np\n",
    "\n",
    "from PIL import Image, ImageDraw\n",
    "from random import randint, seed\n",
    "from xmlparse import xmlToGeometry\n",
    "\n",
    "import numpy as np"
   ]
  },
  {
   "cell_type": "code",
   "execution_count": 2,
   "id": "9ef8ec66",
   "metadata": {},
   "outputs": [],
   "source": [
    "def loadRef(han_char, ref_dir = \"Reference\"):\n",
    "    stroke_list = []\n",
    "    frac_dists = []\n",
    "    ref_path = f\"{ref_dir}/{han_char[0]}000/{han_char}.han\"\n",
    "    ref_xml = open(ref_path, \"r\").read()\n",
    "    root = xmltodict.parse(ref_xml)\n",
    "    bounds = root[\"hanDefinition\"][\"bounds\"]\n",
    "    x_min, y_min, x_max, y_max = (float(bounds[\"@left\"]), float(bounds[\"@bottom\"]), float(bounds[\"@right\"]), float(bounds[\"@top\"]))\n",
    "    scale = (int(x_max-x_min), int(y_max-y_min))\n",
    "    strokes = root[\"hanDefinition\"][\"strokes\"][\"stroke\"]\n",
    "    for stroke in strokes:\n",
    "        points = stroke[\"points\"][\"forward\"]\n",
    "        point_arr = []\n",
    "        frac_arr = []\n",
    "        for point in points[\"pointDistance\"]:\n",
    "            point_arr.append((float(point[\"@x\"])-x_min,\n",
    "                              float(point[\"@y\"])-y_min))\n",
    "            frac_arr.append(float(point[\"@fractionalDistance\"]))\n",
    "        stroke_list.append(np.array(point_arr))\n",
    "        frac_dists.append(np.array(frac_arr))\n",
    "    return stroke_list, frac_dists, scale\n",
    "\n",
    "def loadGeometry(data_dir, han_char, output_size = (32, 32), f_read = None):\n",
    "    \"\"\"\n",
    "    Loads geometric data about a gene characetr directly from the XML source\n",
    "    \"\"\"\n",
    "    if f_read is None:\n",
    "        dir_list = os.listdir(f\"{data_dir}/{han_char}\")\n",
    "        dir_list.sort()\n",
    "    else:\n",
    "        dir_list = f_read\n",
    "    g_data = []\n",
    "    f_names = []\n",
    "    for f in dir_list:\n",
    "        flines = open(f\"{data_dir}/{han_char}/{f}\", \"rb\").readlines()\n",
    "        f_names.append(flines[0].decode()[:-1])\n",
    "    for f in f_names:\n",
    "        g = xmlToGeometry(f, output_size)\n",
    "        g_data.append(g)\n",
    "    return g_data\n"
   ]
  },
  {
   "cell_type": "code",
   "execution_count": 3,
   "id": "3c92028f",
   "metadata": {},
   "outputs": [],
   "source": [
    "ref_g, ref_l, output_size = loadRef(\"5EA6\", \"Reference\")\n",
    "# in order to test multiple samples, add the file numbers to the f_read list and delete the [0] at the line end\n",
    "# be aware this will turn g and l into iterables, so handle your loops accordingly\n",
    "g, l = loadGeometry(\"HanBitmap\", \"5EA6\", output_size, f_read = [\"345\"])[0]"
   ]
  },
  {
   "cell_type": "code",
   "execution_count": 4,
   "id": "58cc3bd4",
   "metadata": {},
   "outputs": [],
   "source": [
    "def alignStrokes(strokes, ref, p_strokes, p_ref):\n",
    "    # function to get stroke length given a stroke value (in this case, a stroke value is a 2d list\n",
    "    # that contains an x coord in stroke[][0] and a y coord in stroke[][1])\n",
    "    def getStrokeLen(stroke):\n",
    "        length = 0 # adding all the lengths we get between two points to this variable\n",
    "        # while it looks a little complicated, this is just the pythagorean theorem applied between two coordinates, just \n",
    "        # how one would calculate it on a graph: sqrt(a^2 + b^2)\n",
    "        for i in range(len(stroke)-1):\n",
    "            length += ((stroke[i][0] - stroke[i+1][0])**2 + (stroke[i][1] - stroke[i+1][1])**2)**0.5\n",
    "        return length\n",
    "\n",
    "    #get the lengths of each stroke for the order in the greedy algorithm\n",
    "    ref_lengths = []\n",
    "    for i in range(len(strokes)):\n",
    "        ref_lengths.append(getStrokeLen(ref[i]))\n",
    "    priority = np.argsort(ref_lengths)[::-1]\n",
    "    \n",
    "    strokes = np.array(strokes)\n",
    "    p_strokes = np.array(p_strokes)\n",
    "    ref = np.array(ref)\n",
    "    p_ref = np.array(p_ref)\n",
    "    \n",
    "    error_maps = strokeErrorMatrix(strokes, ref, p_strokes, p_ref)\n",
    "    \n",
    "    print(error_maps.astype(int))\n",
    "\n",
    "    # -1 just means unmatched here since 0 (the other 'default' filler) is a meaningful number in this context\n",
    "    stroke_map = np.full(len(strokes), -1)\n",
    "\n",
    "    \n",
    "    for i in priority:\n",
    "        largestref = i # this is the index for the reference stroke that is largest\n",
    "        smallerror = np.argmin(error_maps[largestref, :]) # access the error map from the largest stroke's index and see which error is smallest\n",
    "        print(f\"{error_maps.astype(int)[i]} - minimizing for priority stroke {i}\")\n",
    "        error_maps[:, smallerror] = 10000\n",
    "        print(\"Resulting error map:\")\n",
    "        print(error_maps.astype(int))\n",
    "        stroke_map[smallerror] = largestref # set the index in the stroke_map to the reference stroke we designated\n",
    "        print(stroke_map)\n",
    "    \n",
    "    return stroke_map\n",
    "\n",
    "xcolors = [\"#7e1e9c\", \"#15b01a\", \"#0343df\", \"#653700\", \"#e50000\", \"#f97306\", \"#033500\", \"#ffff14\", \"#001146\"]\n",
    "color_selection = [(int(c[1:3], 16), int(c[3:5], 16), int(c[5:7], 16)) for c in xcolors]\n",
    "colors = color_selection[:len(ref_l)+1]\n",
    "\n",
    "def strokeErrorMatrix(strokes, ref, p_strokes, p_ref):\n",
    "    error_map = np.zeros((len(ref), len(strokes)), dtype=float)\n",
    "    for i, ref_stroke, r_progresses in zip(range(len(ref)), ref, p_ref):\n",
    "        for j, candidate_stroke, c_progresses in zip(range(len(strokes)), strokes, p_strokes):\n",
    "            error_map[i, j] = strokeError(ref_stroke, candidate_stroke, r_progresses, c_progresses)\n",
    "            print(f\"Ref stroke {i} vs Candidate Stroke {j} - error: {error_map[i, j]}\")\n",
    "            img = Image.new(mode=\"RGBA\", size=output_size)\n",
    "            draw = ImageDraw.Draw(img)\n",
    "            for a in range(len(ref_stroke)-1):\n",
    "                x1, y1 = ref_stroke[a]\n",
    "                x2, y2 = ref_stroke[a+1]\n",
    "                y1 = -(y1-output_size[1]/2)+output_size[1]/2\n",
    "                y2 = -(y2-output_size[1]/2)+output_size[1]/2\n",
    "                draw.line(((x1, y1), (x2, y2)), width=6, fill=colors[0])\n",
    "            for b in range(len(candidate_stroke)-1):\n",
    "                x1, y1 = candidate_stroke[b]\n",
    "                x2, y2 = candidate_stroke[b+1]\n",
    "                y1 = -(y1-output_size[1]/2)+output_size[1]/2\n",
    "                y2 = -(y2-output_size[1]/2)+output_size[1]/2\n",
    "                draw.line(((x1, y1), (x2, y2)), width=6, fill=colors[1])\n",
    "            display(img)\n",
    "    return error_map\n",
    "\n",
    "def strokeError(stroke, ref_stroke, p_stroke, p_ref, mode=\"max\"):\n",
    "    forward_stroke_error, back_stroke_error = np.zeros(len(ref_stroke)), np.zeros(len(ref_stroke))\n",
    "    forward_ref_error, back_ref_error = np.zeros(len(stroke)), np.zeros(len(stroke))\n",
    "    for i, rpoint, rprogress in zip(range(len(ref_stroke)), ref_stroke, p_ref):\n",
    "        forward_stroke_error[i] = (np.linalg.norm(abs(rpoint-strokeTrace(stroke, p_stroke, rprogress))))\n",
    "        #print(i, rpoint, strokeTrace(stroke, p_stroke, rprogress), forward_stroke_error[i])\n",
    "    #print(f\"Final forward stroke error: {forward_stroke_error.max()}\")\n",
    "    for i, rpoint, rprogress in zip(range(len(ref_stroke)), ref_stroke[::-1], p_ref[::-1]):\n",
    "        back_stroke_error[i] = (np.linalg.norm(abs(rpoint-strokeTrace(stroke, p_stroke, 1-rprogress))))\n",
    "        #print(i, rpoint, strokeTrace(stroke, p_stroke, 1-rprogress), back_stroke_error[i])\n",
    "    #print(f\"Final back stroke error: {back_stroke_error.max()}\")\n",
    "    for i, point, progress in zip(range(len(stroke)), stroke, p_stroke):\n",
    "        forward_ref_error[i] = (np.linalg.norm((point-strokeTrace(ref_stroke, p_ref, progress))))\n",
    "        #print(i, point, strokeTrace(stroke, p_stroke, progress), forward_ref_error[i])\n",
    "    #print(f\"Final forward ref error: {forward_ref_error.max()}\")\n",
    "    for i, point, progress in zip(range(len(stroke)), stroke[::-1], p_stroke[::-1]):\n",
    "        back_ref_error[i] = (np.linalg.norm((point-strokeTrace(ref_stroke, p_ref, 1-progress))))\n",
    "        #print(i, point, strokeTrace(stroke, p_stroke, 1-progress), back_ref_error[i])\n",
    "    #print(f\"Final back ref error: {back_ref_error.max()}\")\n",
    "    fse_maxdev = forward_stroke_error.argmax()\n",
    "    bse_maxdev = back_stroke_error.argmax()\n",
    "    fre_maxdev = forward_ref_error.argmax()\n",
    "    bre_maxdev = back_ref_error.argmax()\n",
    "    final_error = max(min(forward_stroke_error.max(), back_stroke_error.max()), min(forward_ref_error.max(), back_ref_error.max()))\n",
    "    #print(f\"Final error: {final_error}\")\n",
    "    return final_error\n",
    "\n",
    "def strokeTrace(stroke, stroke_progresses, progress):\n",
    "    if progress == 1:\n",
    "        return stroke[-1]\n",
    "    progress_line = len(stroke_progresses)-1\n",
    "    for i in range(1, len(stroke_progresses)):\n",
    "        if stroke_progresses[i] > progress:\n",
    "            progress_line = i-1\n",
    "            break\n",
    "    startp, endp = stroke_progresses[progress_line], stroke_progresses[progress_line+1]\n",
    "    norm_progress = (progress-startp)/endp\n",
    "    if stroke[progress_line+1][0] == stroke[progress_line][0]:\n",
    "        x = stroke[progress_line][0]\n",
    "        y = norm_progress*(stroke[progress_line+1][1]-stroke[progress_line][1])+stroke[progress_line][1]\n",
    "    else:\n",
    "        slope = (stroke[progress_line+1][1]-stroke[progress_line][1])/(stroke[progress_line+1][0]-stroke[progress_line][0])\n",
    "        intercept = stroke[progress_line][1]-slope*stroke[progress_line][0]\n",
    "        x = norm_progress*(stroke[progress_line+1][0]-stroke[progress_line][0])+stroke[progress_line][0]\n",
    "        y = slope*x + intercept\n",
    "    return np.array((x, y))\n"
   ]
  },
  {
   "cell_type": "code",
   "execution_count": 5,
   "id": "1a74bf6f",
   "metadata": {},
   "outputs": [
    {
     "name": "stdout",
     "output_type": "stream",
     "text": [
      "Ref stroke 0 vs Candidate Stroke 0 - error: 182.78021064908174\n"
     ]
    },
    {
     "name": "stderr",
     "output_type": "stream",
     "text": [
      "/tmp/ipykernel_94450/2631318836.py:18: VisibleDeprecationWarning: Creating an ndarray from ragged nested sequences (which is a list-or-tuple of lists-or-tuples-or ndarrays with different lengths or shapes) is deprecated. If you meant to do this, you must specify 'dtype=object' when creating the ndarray.\n",
      "  strokes = np.array(strokes)\n",
      "/tmp/ipykernel_94450/2631318836.py:19: VisibleDeprecationWarning: Creating an ndarray from ragged nested sequences (which is a list-or-tuple of lists-or-tuples-or ndarrays with different lengths or shapes) is deprecated. If you meant to do this, you must specify 'dtype=object' when creating the ndarray.\n",
      "  p_strokes = np.array(p_strokes)\n",
      "/tmp/ipykernel_94450/2631318836.py:20: VisibleDeprecationWarning: Creating an ndarray from ragged nested sequences (which is a list-or-tuple of lists-or-tuples-or ndarrays with different lengths or shapes) is deprecated. If you meant to do this, you must specify 'dtype=object' when creating the ndarray.\n",
      "  ref = np.array(ref)\n",
      "/tmp/ipykernel_94450/2631318836.py:21: VisibleDeprecationWarning: Creating an ndarray from ragged nested sequences (which is a list-or-tuple of lists-or-tuples-or ndarrays with different lengths or shapes) is deprecated. If you meant to do this, you must specify 'dtype=object' when creating the ndarray.\n",
      "  p_ref = np.array(p_ref)\n"
     ]
    },
    {
     "data": {
      "image/png": "[encoded data removed]",
      "text/plain": [
       "<PIL.Image.Image image mode=RGBA size=450x460>"
      ]
     },
     "metadata": {},
     "output_type": "display_data"
    },
    {
     "name": "stdout",
     "output_type": "stream",
     "text": [
      "Ref stroke 0 vs Candidate Stroke 1 - error: 211.42993020061894\n"
     ]
    },
    {
     "data": {
      "image/png": "[encoded data removed]",
      "text/plain": [
       "<PIL.Image.Image image mode=RGBA size=450x460>"
      ]
     },
     "metadata": {},
     "output_type": "display_data"
    },
    {
     "name": "stdout",
     "output_type": "stream",
     "text": [
      "Ref stroke 0 vs Candidate Stroke 2 - error: 173.3572706978403\n"
     ]
    },
    {
     "data": {
      "image/png": "[encoded data removed]",
      "text/plain": [
       "<PIL.Image.Image image mode=RGBA size=450x460>"
      ]
     },
     "metadata": {},
     "output_type": "display_data"
    },
    {
     "name": "stdout",
     "output_type": "stream",
     "text": [
      "Ref stroke 0 vs Candidate Stroke 3 - error: 168.68071152224485\n"
     ]
    },
    {
     "data": {
      "image/png": "[encoded data removed]",
      "text/plain": [
       "<PIL.Image.Image image mode=RGBA size=450x460>"
      ]
     },
     "metadata": {},
     "output_type": "display_data"
    },
    {
     "name": "stdout",
     "output_type": "stream",
     "text": [
      "Ref stroke 0 vs Candidate Stroke 4 - error: 36.74670695024312\n"
     ]
    },
    {
     "data": {
      "image/png": "[encoded data removed]",
      "text/plain": [
       "<PIL.Image.Image image mode=RGBA size=450x460>"
      ]
     },
     "metadata": {},
     "output_type": "display_data"
    },
    {
     "name": "stdout",
     "output_type": "stream",
     "text": [
      "Ref stroke 0 vs Candidate Stroke 5 - error: 138.0941818017103\n"
     ]
    },
    {
     "data": {
      "image/png": "[encoded data removed]",
      "text/plain": [
       "<PIL.Image.Image image mode=RGBA size=450x460>"
      ]
     },
     "metadata": {},
     "output_type": "display_data"
    },
    {
     "name": "stdout",
     "output_type": "stream",
     "text": [
      "Ref stroke 0 vs Candidate Stroke 6 - error: 442.87761475161545\n"
     ]
    },
    {
     "data": {
      "image/png": "[encoded data removed]",
      "text/plain": [
       "<PIL.Image.Image image mode=RGBA size=450x460>"
      ]
     },
     "metadata": {},
     "output_type": "display_data"
    },
    {
     "name": "stdout",
     "output_type": "stream",
     "text": [
      "Ref stroke 0 vs Candidate Stroke 7 - error: 407.6956519000082\n"
     ]
    },
    {
     "data": {
      "image/png": "[encoded data removed]",
      "text/plain": [
       "<PIL.Image.Image image mode=RGBA size=450x460>"
      ]
     },
     "metadata": {},
     "output_type": "display_data"
    },
    {
     "name": "stdout",
     "output_type": "stream",
     "text": [
      "Ref stroke 0 vs Candidate Stroke 8 - error: 456.17978911828175\n"
     ]
    },
    {
     "data": {
      "image/png": "[encoded data removed]",
      "text/plain": [
       "<PIL.Image.Image image mode=RGBA size=450x460>"
      ]
     },
     "metadata": {},
     "output_type": "display_data"
    },
    {
     "name": "stdout",
     "output_type": "stream",
     "text": [
      "Ref stroke 1 vs Candidate Stroke 0 - error: 285.9629616941205\n"
     ]
    },
    {
     "data": {
      "image/png": "[encoded data removed]",
      "text/plain": [
       "<PIL.Image.Image image mode=RGBA size=450x460>"
      ]
     },
     "metadata": {},
     "output_type": "display_data"
    },
    {
     "name": "stdout",
     "output_type": "stream",
     "text": [
      "Ref stroke 1 vs Candidate Stroke 1 - error: 222.83531054546293\n"
     ]
    },
    {
     "data": {
      "image/png": "[encoded data removed]",
      "text/plain": [
       "<PIL.Image.Image image mode=RGBA size=450x460>"
      ]
     },
     "metadata": {},
     "output_type": "display_data"
    },
    {
     "name": "stdout",
     "output_type": "stream",
     "text": [
      "Ref stroke 1 vs Candidate Stroke 2 - error: 215.15911503329286\n"
     ]
    },
    {
     "data": {
      "image/png": "[encoded data removed]",
      "text/plain": [
       "<PIL.Image.Image image mode=RGBA size=450x460>"
      ]
     },
     "metadata": {},
     "output_type": "display_data"
    },
    {
     "name": "stdout",
     "output_type": "stream",
     "text": [
      "Ref stroke 1 vs Candidate Stroke 3 - error: 137.27695722396504\n"
     ]
    },
    {
     "data": {
      "image/png": "[encoded data removed]",
      "text/plain": [
       "<PIL.Image.Image image mode=RGBA size=450x460>"
      ]
     },
     "metadata": {},
     "output_type": "display_data"
    },
    {
     "name": "stdout",
     "output_type": "stream",
     "text": [
      "Ref stroke 1 vs Candidate Stroke 4 - error: 210.87175166046723\n"
     ]
    },
    {
     "data": {
      "image/png": "[encoded data removed]",
      "text/plain": [
       "<PIL.Image.Image image mode=RGBA size=450x460>"
      ]
     },
     "metadata": {},
     "output_type": "display_data"
    },
    {
     "name": "stdout",
     "output_type": "stream",
     "text": [
      "Ref stroke 1 vs Candidate Stroke 5 - error: 74.74044240417625\n"
     ]
    },
    {
     "data": {
      "image/png": "[encoded data removed]",
      "text/plain": [
       "<PIL.Image.Image image mode=RGBA size=450x460>"
      ]
     },
     "metadata": {},
     "output_type": "display_data"
    },
    {
     "name": "stdout",
     "output_type": "stream",
     "text": [
      "Ref stroke 1 vs Candidate Stroke 6 - error: 368.97233181917625\n"
     ]
    },
    {
     "data": {
      "image/png": "[encoded data removed]",
      "text/plain": [
       "<PIL.Image.Image image mode=RGBA size=450x460>"
      ]
     },
     "metadata": {},
     "output_type": "display_data"
    },
    {
     "name": "stdout",
     "output_type": "stream",
     "text": [
      "Ref stroke 1 vs Candidate Stroke 7 - error: 409.6801221800993\n"
     ]
    },
    {
     "data": {
      "image/png": "[encoded data removed]",
      "text/plain": [
       "<PIL.Image.Image image mode=RGBA size=450x460>"
      ]
     },
     "metadata": {},
     "output_type": "display_data"
    },
    {
     "name": "stdout",
     "output_type": "stream",
     "text": [
      "Ref stroke 1 vs Candidate Stroke 8 - error: 410.0\n"
     ]
    },
    {
     "data": {
      "image/png": "[encoded data removed]",
      "text/plain": [
       "<PIL.Image.Image image mode=RGBA size=450x460>"
      ]
     },
     "metadata": {},
     "output_type": "display_data"
    },
    {
     "name": "stdout",
     "output_type": "stream",
     "text": [
      "Ref stroke 2 vs Candidate Stroke 0 - error: 448.18097286239794\n"
     ]
    },
    {
     "data": {
      "image/png": "[encoded data removed]",
      "text/plain": [
       "<PIL.Image.Image image mode=RGBA size=450x460>"
      ]
     },
     "metadata": {},
     "output_type": "display_data"
    },
    {
     "name": "stdout",
     "output_type": "stream",
     "text": [
      "Ref stroke 2 vs Candidate Stroke 1 - error: 330.8131075191826\n"
     ]
    },
    {
     "data": {
      "image/png": "[encoded data removed]",
      "text/plain": [
       "<PIL.Image.Image image mode=RGBA size=450x460>"
      ]
     },
     "metadata": {},
     "output_type": "display_data"
    },
    {
     "name": "stdout",
     "output_type": "stream",
     "text": [
      "Ref stroke 2 vs Candidate Stroke 2 - error: 312.098332063239\n"
     ]
    },
    {
     "data": {
      "image/png": "[encoded data removed]",
      "text/plain": [
       "<PIL.Image.Image image mode=RGBA size=450x460>"
      ]
     },
     "metadata": {},
     "output_type": "display_data"
    },
    {
     "name": "stdout",
     "output_type": "stream",
     "text": [
      "Ref stroke 2 vs Candidate Stroke 3 - error: 381.437999705123\n"
     ]
    },
    {
     "data": {
      "image/png": "[encoded data removed]",
      "text/plain": [
       "<PIL.Image.Image image mode=RGBA size=450x460>"
      ]
     },
     "metadata": {},
     "output_type": "display_data"
    },
    {
     "name": "stdout",
     "output_type": "stream",
     "text": [
      "Ref stroke 2 vs Candidate Stroke 4 - error: 475.9525672613428\n"
     ]
    },
    {
     "data": {
      "image/png": "[encoded data removed]",
      "text/plain": [
       "<PIL.Image.Image image mode=RGBA size=450x460>"
      ]
     },
     "metadata": {},
     "output_type": "display_data"
    },
    {
     "name": "stdout",
     "output_type": "stream",
     "text": [
      "Ref stroke 2 vs Candidate Stroke 5 - error: 430.55880166815393\n"
     ]
    },
    {
     "data": {
      "image/png": "[encoded data removed]",
      "text/plain": [
       "<PIL.Image.Image image mode=RGBA size=450x460>"
      ]
     },
     "metadata": {},
     "output_type": "display_data"
    },
    {
     "name": "stdout",
     "output_type": "stream",
     "text": [
      "Ref stroke 2 vs Candidate Stroke 6 - error: 126.96508256529052\n"
     ]
    },
    {
     "data": {
      "image/png": "[encoded data removed]",
      "text/plain": [
       "<PIL.Image.Image image mode=RGBA size=450x460>"
      ]
     },
     "metadata": {},
     "output_type": "display_data"
    },
    {
     "name": "stdout",
     "output_type": "stream",
     "text": [
      "Ref stroke 2 vs Candidate Stroke 7 - error: 339.064966344075\n"
     ]
    },
    {
     "data": {
      "image/png": "[encoded data removed]",
      "text/plain": [
       "<PIL.Image.Image image mode=RGBA size=450x460>"
      ]
     },
     "metadata": {},
     "output_type": "display_data"
    },
    {
     "name": "stdout",
     "output_type": "stream",
     "text": [
      "Ref stroke 2 vs Candidate Stroke 8 - error: 450.0\n"
     ]
    },
    {
     "data": {
      "image/png": "[encoded data removed]",
      "text/plain": [
       "<PIL.Image.Image image mode=RGBA size=450x460>"
      ]
     },
     "metadata": {},
     "output_type": "display_data"
    },
    {
     "name": "stdout",
     "output_type": "stream",
     "text": [
      "Ref stroke 3 vs Candidate Stroke 0 - error: 251.45302072237556\n"
     ]
    },
    {
     "data": {
      "image/png": "[encoded data removed]",
      "text/plain": [
       "<PIL.Image.Image image mode=RGBA size=450x460>"
      ]
     },
     "metadata": {},
     "output_type": "display_data"
    },
    {
     "name": "stdout",
     "output_type": "stream",
     "text": [
      "Ref stroke 3 vs Candidate Stroke 1 - error: 135.73661310503724\n"
     ]
    },
    {
     "data": {
      "image/png": "[encoded data removed]",
      "text/plain": [
       "<PIL.Image.Image image mode=RGBA size=450x460>"
      ]
     },
     "metadata": {},
     "output_type": "display_data"
    },
    {
     "name": "stdout",
     "output_type": "stream",
     "text": [
      "Ref stroke 3 vs Candidate Stroke 2 - error: 207.1881337491938\n"
     ]
    },
    {
     "data": {
      "image/png": "[encoded data removed]",
      "text/plain": [
       "<PIL.Image.Image image mode=RGBA size=450x460>"
      ]
     },
     "metadata": {},
     "output_type": "display_data"
    },
    {
     "name": "stdout",
     "output_type": "stream",
     "text": [
      "Ref stroke 3 vs Candidate Stroke 3 - error: 82.14127325561861\n"
     ]
    },
    {
     "data": {
      "image/png": "[encoded data removed]",
      "text/plain": [
       "<PIL.Image.Image image mode=RGBA size=450x460>"
      ]
     },
     "metadata": {},
     "output_type": "display_data"
    },
    {
     "name": "stdout",
     "output_type": "stream",
     "text": [
      "Ref stroke 3 vs Candidate Stroke 4 - error: 208.1802213350508\n"
     ]
    },
    {
     "data": {
      "image/png": "[encoded data removed]",
      "text/plain": [
       "<PIL.Image.Image image mode=RGBA size=450x460>"
      ]
     },
     "metadata": {},
     "output_type": "display_data"
    },
    {
     "name": "stdout",
     "output_type": "stream",
     "text": [
      "Ref stroke 3 vs Candidate Stroke 5 - error: 127.62728249769094\n"
     ]
    },
    {
     "data": {
      "image/png": "[encoded data removed]",
      "text/plain": [
       "<PIL.Image.Image image mode=RGBA size=450x460>"
      ]
     },
     "metadata": {},
     "output_type": "display_data"
    },
    {
     "name": "stdout",
     "output_type": "stream",
     "text": [
      "Ref stroke 3 vs Candidate Stroke 6 - error: 299.51107850146224\n"
     ]
    },
    {
     "data": {
      "image/png": "[encoded data removed]",
      "text/plain": [
       "<PIL.Image.Image image mode=RGBA size=450x460>"
      ]
     },
     "metadata": {},
     "output_type": "display_data"
    },
    {
     "name": "stdout",
     "output_type": "stream",
     "text": [
      "Ref stroke 3 vs Candidate Stroke 7 - error: 343.2475620612074\n"
     ]
    },
    {
     "data": {
      "image/png": "[encoded data removed]",
      "text/plain": [
       "<PIL.Image.Image image mode=RGBA size=450x460>"
      ]
     },
     "metadata": {},
     "output_type": "display_data"
    },
    {
     "name": "stdout",
     "output_type": "stream",
     "text": [
      "Ref stroke 3 vs Candidate Stroke 8 - error: 320.1562118716424\n"
     ]
    },
    {
     "data": {
      "image/png": "[encoded data removed]",
      "text/plain": [
       "<PIL.Image.Image image mode=RGBA size=450x460>"
      ]
     },
     "metadata": {},
     "output_type": "display_data"
    },
    {
     "name": "stdout",
     "output_type": "stream",
     "text": [
      "Ref stroke 4 vs Candidate Stroke 0 - error: 181.9321096119079\n"
     ]
    },
    {
     "data": {
      "image/png": "[encoded data removed]",
      "text/plain": [
       "<PIL.Image.Image image mode=RGBA size=450x460>"
      ]
     },
     "metadata": {},
     "output_type": "display_data"
    },
    {
     "name": "stdout",
     "output_type": "stream",
     "text": [
      "Ref stroke 4 vs Candidate Stroke 1 - error: 154.3435261483688\n"
     ]
    },
    {
     "data": {
      "image/png": "[encoded data removed]",
      "text/plain": [
       "<PIL.Image.Image image mode=RGBA size=450x460>"
      ]
     },
     "metadata": {},
     "output_type": "display_data"
    },
    {
     "name": "stdout",
     "output_type": "stream",
     "text": [
      "Ref stroke 4 vs Candidate Stroke 2 - error: 64.20084091069798\n"
     ]
    },
    {
     "data": {
      "image/png": "[encoded data removed]",
      "text/plain": [
       "<PIL.Image.Image image mode=RGBA size=450x460>"
      ]
     },
     "metadata": {},
     "output_type": "display_data"
    },
    {
     "name": "stdout",
     "output_type": "stream",
     "text": [
      "Ref stroke 4 vs Candidate Stroke 3 - error: 230.46912582786433\n"
     ]
    },
    {
     "data": {
      "image/png": "[encoded data removed]",
      "text/plain": [
       "<PIL.Image.Image image mode=RGBA size=450x460>"
      ]
     },
     "metadata": {},
     "output_type": "display_data"
    },
    {
     "name": "stdout",
     "output_type": "stream",
     "text": [
      "Ref stroke 4 vs Candidate Stroke 4 - error: 177.6175143001057\n"
     ]
    },
    {
     "data": {
      "image/png": "[encoded data removed]",
      "text/plain": [
       "<PIL.Image.Image image mode=RGBA size=450x460>"
      ]
     },
     "metadata": {},
     "output_type": "display_data"
    },
    {
     "name": "stdout",
     "output_type": "stream",
     "text": [
      "Ref stroke 4 vs Candidate Stroke 5 - error: 211.12368323088037\n"
     ]
    },
    {
     "data": {
      "image/png": "[encoded data removed]",
      "text/plain": [
       "<PIL.Image.Image image mode=RGBA size=450x460>"
      ]
     },
     "metadata": {},
     "output_type": "display_data"
    },
    {
     "name": "stdout",
     "output_type": "stream",
     "text": [
      "Ref stroke 4 vs Candidate Stroke 6 - error: 265.795360726618\n"
     ]
    },
    {
     "data": {
      "image/png": "[encoded data removed]",
      "text/plain": [
       "<PIL.Image.Image image mode=RGBA size=450x460>"
      ]
     },
     "metadata": {},
     "output_type": "display_data"
    },
    {
     "name": "stdout",
     "output_type": "stream",
     "text": [
      "Ref stroke 4 vs Candidate Stroke 7 - error: 252.52085139390178\n"
     ]
    },
    {
     "data": {
      "image/png": "[encoded data removed]",
      "text/plain": [
       "<PIL.Image.Image image mode=RGBA size=450x460>"
      ]
     },
     "metadata": {},
     "output_type": "display_data"
    },
    {
     "name": "stdout",
     "output_type": "stream",
     "text": [
      "Ref stroke 4 vs Candidate Stroke 8 - error: 361.24783736376884\n"
     ]
    },
    {
     "data": {
      "image/png": "[encoded data removed]",
      "text/plain": [
       "<PIL.Image.Image image mode=RGBA size=450x460>"
      ]
     },
     "metadata": {},
     "output_type": "display_data"
    },
    {
     "name": "stdout",
     "output_type": "stream",
     "text": [
      "Ref stroke 5 vs Candidate Stroke 0 - error: 34.55480613509439\n"
     ]
    },
    {
     "data": {
      "image/png": "[encoded data removed]",
      "text/plain": [
       "<PIL.Image.Image image mode=RGBA size=450x460>"
      ]
     },
     "metadata": {},
     "output_type": "display_data"
    },
    {
     "name": "stdout",
     "output_type": "stream",
     "text": [
      "Ref stroke 5 vs Candidate Stroke 1 - error: 132.68547898344656\n"
     ]
    },
    {
     "data": {
      "image/png": "[encoded data removed]",
      "text/plain": [
       "<PIL.Image.Image image mode=RGBA size=450x460>"
      ]
     },
     "metadata": {},
     "output_type": "display_data"
    },
    {
     "name": "stdout",
     "output_type": "stream",
     "text": [
      "Ref stroke 5 vs Candidate Stroke 2 - error: 149.56858786504276\n"
     ]
    },
    {
     "data": {
      "image/png": "[encoded data removed]",
      "text/plain": [
       "<PIL.Image.Image image mode=RGBA size=450x460>"
      ]
     },
     "metadata": {},
     "output_type": "display_data"
    },
    {
     "name": "stdout",
     "output_type": "stream",
     "text": [
      "Ref stroke 5 vs Candidate Stroke 3 - error: 171.78284211734476\n"
     ]
    },
    {
     "data": {
      "image/png": "[encoded data removed]",
      "text/plain": [
       "<PIL.Image.Image image mode=RGBA size=450x460>"
      ]
     },
     "metadata": {},
     "output_type": "display_data"
    },
    {
     "name": "stdout",
     "output_type": "stream",
     "text": [
      "Ref stroke 5 vs Candidate Stroke 4 - error: 177.12395860565297\n"
     ]
    },
    {
     "data": {
      "image/png": "[encoded data removed]",
      "text/plain": [
       "<PIL.Image.Image image mode=RGBA size=450x460>"
      ]
     },
     "metadata": {},
     "output_type": "display_data"
    },
    {
     "name": "stdout",
     "output_type": "stream",
     "text": [
      "Ref stroke 5 vs Candidate Stroke 5 - error: 234.68817162249528\n"
     ]
    },
    {
     "data": {
      "image/png": "[encoded data removed]",
      "text/plain": [
       "<PIL.Image.Image image mode=RGBA size=450x460>"
      ]
     },
     "metadata": {},
     "output_type": "display_data"
    },
    {
     "name": "stdout",
     "output_type": "stream",
     "text": [
      "Ref stroke 5 vs Candidate Stroke 6 - error: 392.23357044469435\n"
     ]
    },
    {
     "data": {
      "image/png": "[encoded data removed]",
      "text/plain": [
       "<PIL.Image.Image image mode=RGBA size=450x460>"
      ]
     },
     "metadata": {},
     "output_type": "display_data"
    },
    {
     "name": "stdout",
     "output_type": "stream",
     "text": [
      "Ref stroke 5 vs Candidate Stroke 7 - error: 295.8302678202371\n"
     ]
    },
    {
     "data": {
      "image/png": "[encoded data removed]",
      "text/plain": [
       "<PIL.Image.Image image mode=RGBA size=450x460>"
      ]
     },
     "metadata": {},
     "output_type": "display_data"
    },
    {
     "name": "stdout",
     "output_type": "stream",
     "text": [
      "Ref stroke 5 vs Candidate Stroke 8 - error: 277.18651832285434\n"
     ]
    },
    {
     "data": {
      "image/png": "[encoded data removed]",
      "text/plain": [
       "<PIL.Image.Image image mode=RGBA size=450x460>"
      ]
     },
     "metadata": {},
     "output_type": "display_data"
    },
    {
     "name": "stdout",
     "output_type": "stream",
     "text": [
      "Ref stroke 6 vs Candidate Stroke 0 - error: 181.27346994215608\n"
     ]
    },
    {
     "data": {
      "image/png": "[encoded data removed]",
      "text/plain": [
       "<PIL.Image.Image image mode=RGBA size=450x460>"
      ]
     },
     "metadata": {},
     "output_type": "display_data"
    },
    {
     "name": "stdout",
     "output_type": "stream",
     "text": [
      "Ref stroke 6 vs Candidate Stroke 1 - error: 34.40958259835721\n"
     ]
    },
    {
     "data": {
      "image/png": "[encoded data removed]",
      "text/plain": [
       "<PIL.Image.Image image mode=RGBA size=450x460>"
      ]
     },
     "metadata": {},
     "output_type": "display_data"
    },
    {
     "name": "stdout",
     "output_type": "stream",
     "text": [
      "Ref stroke 6 vs Candidate Stroke 2 - error: 151.84187786216862\n"
     ]
    },
    {
     "data": {
      "image/png": "[encoded data removed]",
      "text/plain": [
       "<PIL.Image.Image image mode=RGBA size=450x460>"
      ]
     },
     "metadata": {},
     "output_type": "display_data"
    },
    {
     "name": "stdout",
     "output_type": "stream",
     "text": [
      "Ref stroke 6 vs Candidate Stroke 3 - error: 137.42220124053895\n"
     ]
    },
    {
     "data": {
      "image/png": "[encoded data removed]",
      "text/plain": [
       "<PIL.Image.Image image mode=RGBA size=450x460>"
      ]
     },
     "metadata": {},
     "output_type": "display_data"
    },
    {
     "name": "stdout",
     "output_type": "stream",
     "text": [
      "Ref stroke 6 vs Candidate Stroke 4 - error: 226.5481629875461\n"
     ]
    },
    {
     "data": {
      "image/png": "[encoded data removed]",
      "text/plain": [
       "<PIL.Image.Image image mode=RGBA size=450x460>"
      ]
     },
     "metadata": {},
     "output_type": "display_data"
    },
    {
     "name": "stdout",
     "output_type": "stream",
     "text": [
      "Ref stroke 6 vs Candidate Stroke 5 - error: 195.6747237849303\n"
     ]
    },
    {
     "data": {
      "image/png": "[encoded data removed]",
      "text/plain": [
       "<PIL.Image.Image image mode=RGBA size=450x460>"
      ]
     },
     "metadata": {},
     "output_type": "display_data"
    },
    {
     "name": "stdout",
     "output_type": "stream",
     "text": [
      "Ref stroke 6 vs Candidate Stroke 6 - error: 270.889305093987\n"
     ]
    },
    {
     "data": {
      "image/png": "[encoded data removed]",
      "text/plain": [
       "<PIL.Image.Image image mode=RGBA size=450x460>"
      ]
     },
     "metadata": {},
     "output_type": "display_data"
    },
    {
     "name": "stdout",
     "output_type": "stream",
     "text": [
      "Ref stroke 6 vs Candidate Stroke 7 - error: 226.93372487425378\n"
     ]
    },
    {
     "data": {
      "image/png": "[encoded data removed]",
      "text/plain": [
       "<PIL.Image.Image image mode=RGBA size=450x460>"
      ]
     },
     "metadata": {},
     "output_type": "display_data"
    },
    {
     "name": "stdout",
     "output_type": "stream",
     "text": [
      "Ref stroke 6 vs Candidate Stroke 8 - error: 264.0075756488817\n"
     ]
    },
    {
     "data": {
      "image/png": "[encoded data removed]",
      "text/plain": [
       "<PIL.Image.Image image mode=RGBA size=450x460>"
      ]
     },
     "metadata": {},
     "output_type": "display_data"
    },
    {
     "name": "stdout",
     "output_type": "stream",
     "text": [
      "Ref stroke 7 vs Candidate Stroke 0 - error: 377.6904754705211\n"
     ]
    },
    {
     "data": {
      "image/png": "[encoded data removed]",
      "text/plain": [
       "<PIL.Image.Image image mode=RGBA size=450x460>"
      ]
     },
     "metadata": {},
     "output_type": "display_data"
    },
    {
     "name": "stdout",
     "output_type": "stream",
     "text": [
      "Ref stroke 7 vs Candidate Stroke 1 - error: 274.44009942064173\n"
     ]
    },
    {
     "data": {
      "image/png": "[encoded data removed]",
      "text/plain": [
       "<PIL.Image.Image image mode=RGBA size=450x460>"
      ]
     },
     "metadata": {},
     "output_type": "display_data"
    },
    {
     "name": "stdout",
     "output_type": "stream",
     "text": [
      "Ref stroke 7 vs Candidate Stroke 2 - error: 261.6607779296502\n"
     ]
    },
    {
     "data": {
      "image/png": "[encoded data removed]",
      "text/plain": [
       "<PIL.Image.Image image mode=RGBA size=450x460>"
      ]
     },
     "metadata": {},
     "output_type": "display_data"
    },
    {
     "name": "stdout",
     "output_type": "stream",
     "text": [
      "Ref stroke 7 vs Candidate Stroke 3 - error: 354.4211510902607\n"
     ]
    },
    {
     "data": {
      "image/png": "[encoded data removed]",
      "text/plain": [
       "<PIL.Image.Image image mode=RGBA size=450x460>"
      ]
     },
     "metadata": {},
     "output_type": "display_data"
    },
    {
     "name": "stdout",
     "output_type": "stream",
     "text": [
      "Ref stroke 7 vs Candidate Stroke 4 - error: 428.2256706485459\n"
     ]
    },
    {
     "data": {
      "image/png": "[encoded data removed]",
      "text/plain": [
       "<PIL.Image.Image image mode=RGBA size=450x460>"
      ]
     },
     "metadata": {},
     "output_type": "display_data"
    },
    {
     "name": "stdout",
     "output_type": "stream",
     "text": [
      "Ref stroke 7 vs Candidate Stroke 5 - error: 406.9917997047234\n"
     ]
    },
    {
     "data": {
      "image/png": "[encoded data removed]",
      "text/plain": [
       "<PIL.Image.Image image mode=RGBA size=450x460>"
      ]
     },
     "metadata": {},
     "output_type": "display_data"
    },
    {
     "name": "stdout",
     "output_type": "stream",
     "text": [
      "Ref stroke 7 vs Candidate Stroke 6 - error: 347.26729421522447\n"
     ]
    },
    {
     "data": {
      "image/png": "[encoded data removed]",
      "text/plain": [
       "<PIL.Image.Image image mode=RGBA size=450x460>"
      ]
     },
     "metadata": {},
     "output_type": "display_data"
    },
    {
     "name": "stdout",
     "output_type": "stream",
     "text": [
      "Ref stroke 7 vs Candidate Stroke 7 - error: 67.66489170708842\n"
     ]
    },
    {
     "data": {
      "image/png": "[encoded data removed]",
      "text/plain": [
       "<PIL.Image.Image image mode=RGBA size=450x460>"
      ]
     },
     "metadata": {},
     "output_type": "display_data"
    },
    {
     "name": "stdout",
     "output_type": "stream",
     "text": [
      "Ref stroke 7 vs Candidate Stroke 8 - error: 370.1351104664349\n"
     ]
    },
    {
     "data": {
      "image/png": "[encoded data removed]",
      "text/plain": [
       "<PIL.Image.Image image mode=RGBA size=450x460>"
      ]
     },
     "metadata": {},
     "output_type": "display_data"
    },
    {
     "name": "stdout",
     "output_type": "stream",
     "text": [
      "Ref stroke 8 vs Candidate Stroke 0 - error: 291.5596803712444\n"
     ]
    },
    {
     "data": {
      "image/png": "[encoded data removed]",
      "text/plain": [
       "<PIL.Image.Image image mode=RGBA size=450x460>"
      ]
     },
     "metadata": {},
     "output_type": "display_data"
    },
    {
     "name": "stdout",
     "output_type": "stream",
     "text": [
      "Ref stroke 8 vs Candidate Stroke 1 - error: 259.54530561967795\n"
     ]
    },
    {
     "data": {
      "image/png": "[encoded data removed]",
      "text/plain": [
       "<PIL.Image.Image image mode=RGBA size=450x460>"
      ]
     },
     "metadata": {},
     "output_type": "display_data"
    },
    {
     "name": "stdout",
     "output_type": "stream",
     "text": [
      "Ref stroke 8 vs Candidate Stroke 2 - error: 351.4556372748267\n"
     ]
    },
    {
     "data": {
      "image/png": "[encoded data removed]",
      "text/plain": [
       "<PIL.Image.Image image mode=RGBA size=450x460>"
      ]
     },
     "metadata": {},
     "output_type": "display_data"
    },
    {
     "name": "stdout",
     "output_type": "stream",
     "text": [
      "Ref stroke 8 vs Candidate Stroke 3 - error: 350.2230703169139\n"
     ]
    },
    {
     "data": {
      "image/png": "[encoded data removed]",
      "text/plain": [
       "<PIL.Image.Image image mode=RGBA size=450x460>"
      ]
     },
     "metadata": {},
     "output_type": "display_data"
    },
    {
     "name": "stdout",
     "output_type": "stream",
     "text": [
      "Ref stroke 8 vs Candidate Stroke 4 - error: 432.0559474116124\n"
     ]
    },
    {
     "data": {
      "image/png": "[encoded data removed]",
      "text/plain": [
       "<PIL.Image.Image image mode=RGBA size=450x460>"
      ]
     },
     "metadata": {},
     "output_type": "display_data"
    },
    {
     "name": "stdout",
     "output_type": "stream",
     "text": [
      "Ref stroke 8 vs Candidate Stroke 5 - error: 427.8577350334203\n"
     ]
    },
    {
     "data": {
      "image/png": "[encoded data removed]",
      "text/plain": [
       "<PIL.Image.Image image mode=RGBA size=450x460>"
      ]
     },
     "metadata": {},
     "output_type": "display_data"
    },
    {
     "name": "stdout",
     "output_type": "stream",
     "text": [
      "Ref stroke 8 vs Candidate Stroke 6 - error: 451.3153047707837\n"
     ]
    },
    {
     "data": {
      "image/png": "[encoded data removed]",
      "text/plain": [
       "<PIL.Image.Image image mode=RGBA size=450x460>"
      ]
     },
     "metadata": {},
     "output_type": "display_data"
    },
    {
     "name": "stdout",
     "output_type": "stream",
     "text": [
      "Ref stroke 8 vs Candidate Stroke 7 - error: 302.60039454157095\n"
     ]
    },
    {
     "data": {
      "image/png": "[encoded data removed]",
      "text/plain": [
       "<PIL.Image.Image image mode=RGBA size=450x460>"
      ]
     },
     "metadata": {},
     "output_type": "display_data"
    },
    {
     "name": "stdout",
     "output_type": "stream",
     "text": [
      "Ref stroke 8 vs Candidate Stroke 8 - error: 51.591298732856814\n"
     ]
    },
    {
     "data": {
      "image/png": "[encoded data removed]",
      "text/plain": [
       "<PIL.Image.Image image mode=RGBA size=450x460>"
      ]
     },
     "metadata": {},
     "output_type": "display_data"
    },
    {
     "name": "stdout",
     "output_type": "stream",
     "text": [
      "[[182 211 173 168  36 138 442 407 456]\n",
      " [285 222 215 137 210  74 368 409 410]\n",
      " [448 330 312 381 475 430 126 339 450]\n",
      " [251 135 207  82 208 127 299 343 320]\n",
      " [181 154  64 230 177 211 265 252 361]\n",
      " [ 34 132 149 171 177 234 392 295 277]\n",
      " [181  34 151 137 226 195 270 226 264]\n",
      " [377 274 261 354 428 406 347  67 370]\n",
      " [291 259 351 350 432 427 451 302  51]]\n",
      "[377 274 261 354 428 406 347  67 370] - minimizing for priority stroke 7\n",
      "Resulting error map:\n",
      "[[  182   211   173   168    36   138   442 10000   456]\n",
      " [  285   222   215   137   210    74   368 10000   410]\n",
      " [  448   330   312   381   475   430   126 10000   450]\n",
      " [  251   135   207    82   208   127   299 10000   320]\n",
      " [  181   154    64   230   177   211   265 10000   361]\n",
      " [   34   132   149   171   177   234   392 10000   277]\n",
      " [  181    34   151   137   226   195   270 10000   264]\n",
      " [  377   274   261   354   428   406   347 10000   370]\n",
      " [  291   259   351   350   432   427   451 10000    51]]\n",
      "[-1 -1 -1 -1 -1 -1 -1  7 -1]\n",
      "[  448   330   312   381   475   430   126 10000   450] - minimizing for priority stroke 2\n",
      "Resulting error map:\n",
      "[[  182   211   173   168    36   138 10000 10000   456]\n",
      " [  285   222   215   137   210    74 10000 10000   410]\n",
      " [  448   330   312   381   475   430 10000 10000   450]\n",
      " [  251   135   207    82   208   127 10000 10000   320]\n",
      " [  181   154    64   230   177   211 10000 10000   361]\n",
      " [   34   132   149   171   177   234 10000 10000   277]\n",
      " [  181    34   151   137   226   195 10000 10000   264]\n",
      " [  377   274   261   354   428   406 10000 10000   370]\n",
      " [  291   259   351   350   432   427 10000 10000    51]]\n",
      "[-1 -1 -1 -1 -1 -1  2  7 -1]\n",
      "[  285   222   215   137   210    74 10000 10000   410] - minimizing for priority stroke 1\n",
      "Resulting error map:\n",
      "[[  182   211   173   168    36 10000 10000 10000   456]\n",
      " [  285   222   215   137   210 10000 10000 10000   410]\n",
      " [  448   330   312   381   475 10000 10000 10000   450]\n",
      " [  251   135   207    82   208 10000 10000 10000   320]\n",
      " [  181   154    64   230   177 10000 10000 10000   361]\n",
      " [   34   132   149   171   177 10000 10000 10000   277]\n",
      " [  181    34   151   137   226 10000 10000 10000   264]\n",
      " [  377   274   261   354   428 10000 10000 10000   370]\n",
      " [  291   259   351   350   432 10000 10000 10000    51]]\n",
      "[-1 -1 -1 -1 -1  1  2  7 -1]\n",
      "[  291   259   351   350   432 10000 10000 10000    51] - minimizing for priority stroke 8\n",
      "Resulting error map:\n",
      "[[  182   211   173   168    36 10000 10000 10000 10000]\n",
      " [  285   222   215   137   210 10000 10000 10000 10000]\n",
      " [  448   330   312   381   475 10000 10000 10000 10000]\n",
      " [  251   135   207    82   208 10000 10000 10000 10000]\n",
      " [  181   154    64   230   177 10000 10000 10000 10000]\n",
      " [   34   132   149   171   177 10000 10000 10000 10000]\n",
      " [  181    34   151   137   226 10000 10000 10000 10000]\n",
      " [  377   274   261   354   428 10000 10000 10000 10000]\n",
      " [  291   259   351   350   432 10000 10000 10000 10000]]\n",
      "[-1 -1 -1 -1 -1  1  2  7  8]\n",
      "[  251   135   207    82   208 10000 10000 10000 10000] - minimizing for priority stroke 3\n",
      "Resulting error map:\n",
      "[[  182   211   173 10000    36 10000 10000 10000 10000]\n",
      " [  285   222   215 10000   210 10000 10000 10000 10000]\n",
      " [  448   330   312 10000   475 10000 10000 10000 10000]\n",
      " [  251   135   207 10000   208 10000 10000 10000 10000]\n",
      " [  181   154    64 10000   177 10000 10000 10000 10000]\n",
      " [   34   132   149 10000   177 10000 10000 10000 10000]\n",
      " [  181    34   151 10000   226 10000 10000 10000 10000]\n",
      " [  377   274   261 10000   428 10000 10000 10000 10000]\n",
      " [  291   259   351 10000   432 10000 10000 10000 10000]]\n",
      "[-1 -1 -1  3 -1  1  2  7  8]\n",
      "[  181    34   151 10000   226 10000 10000 10000 10000] - minimizing for priority stroke 6\n",
      "Resulting error map:\n",
      "[[  182 10000   173 10000    36 10000 10000 10000 10000]\n",
      " [  285 10000   215 10000   210 10000 10000 10000 10000]\n",
      " [  448 10000   312 10000   475 10000 10000 10000 10000]\n",
      " [  251 10000   207 10000   208 10000 10000 10000 10000]\n",
      " [  181 10000    64 10000   177 10000 10000 10000 10000]\n",
      " [   34 10000   149 10000   177 10000 10000 10000 10000]\n",
      " [  181 10000   151 10000   226 10000 10000 10000 10000]\n",
      " [  377 10000   261 10000   428 10000 10000 10000 10000]\n",
      " [  291 10000   351 10000   432 10000 10000 10000 10000]]\n",
      "[-1  6 -1  3 -1  1  2  7  8]\n",
      "[   34 10000   149 10000   177 10000 10000 10000 10000] - minimizing for priority stroke 5\n",
      "Resulting error map:\n",
      "[[10000 10000   173 10000    36 10000 10000 10000 10000]\n",
      " [10000 10000   215 10000   210 10000 10000 10000 10000]\n",
      " [10000 10000   312 10000   475 10000 10000 10000 10000]\n",
      " [10000 10000   207 10000   208 10000 10000 10000 10000]\n",
      " [10000 10000    64 10000   177 10000 10000 10000 10000]\n",
      " [10000 10000   149 10000   177 10000 10000 10000 10000]\n",
      " [10000 10000   151 10000   226 10000 10000 10000 10000]\n",
      " [10000 10000   261 10000   428 10000 10000 10000 10000]\n",
      " [10000 10000   351 10000   432 10000 10000 10000 10000]]\n",
      "[ 5  6 -1  3 -1  1  2  7  8]\n",
      "[10000 10000    64 10000   177 10000 10000 10000 10000] - minimizing for priority stroke 4\n",
      "Resulting error map:\n",
      "[[10000 10000 10000 10000    36 10000 10000 10000 10000]\n",
      " [10000 10000 10000 10000   210 10000 10000 10000 10000]\n",
      " [10000 10000 10000 10000   475 10000 10000 10000 10000]\n",
      " [10000 10000 10000 10000   208 10000 10000 10000 10000]\n",
      " [10000 10000 10000 10000   177 10000 10000 10000 10000]\n",
      " [10000 10000 10000 10000   177 10000 10000 10000 10000]\n",
      " [10000 10000 10000 10000   226 10000 10000 10000 10000]\n",
      " [10000 10000 10000 10000   428 10000 10000 10000 10000]\n",
      " [10000 10000 10000 10000   432 10000 10000 10000 10000]]\n",
      "[ 5  6  4  3 -1  1  2  7  8]\n",
      "[10000 10000 10000 10000    36 10000 10000 10000 10000] - minimizing for priority stroke 0\n",
      "Resulting error map:\n",
      "[[10000 10000 10000 10000 10000 10000 10000 10000 10000]\n",
      " [10000 10000 10000 10000 10000 10000 10000 10000 10000]\n",
      " [10000 10000 10000 10000 10000 10000 10000 10000 10000]\n",
      " [10000 10000 10000 10000 10000 10000 10000 10000 10000]\n",
      " [10000 10000 10000 10000 10000 10000 10000 10000 10000]\n",
      " [10000 10000 10000 10000 10000 10000 10000 10000 10000]\n",
      " [10000 10000 10000 10000 10000 10000 10000 10000 10000]\n",
      " [10000 10000 10000 10000 10000 10000 10000 10000 10000]\n",
      " [10000 10000 10000 10000 10000 10000 10000 10000 10000]]\n",
      "[5 6 4 3 0 1 2 7 8]\n",
      "[5 6 4 3 0 1 2 7 8]\n"
     ]
    }
   ],
   "source": [
    "alignments = alignStrokes(g, ref_g, l, ref_l)\n",
    "print(alignments)"
   ]
  },
  {
   "cell_type": "code",
   "execution_count": 6,
   "id": "bb97b14e",
   "metadata": {},
   "outputs": [
    {
     "name": "stdout",
     "output_type": "stream",
     "text": [
      "[5 6 4 3 0 1 2 7 8]\n"
     ]
    },
    {
     "data": {
      "image/png": "[encoded data removed]",
      "text/plain": [
       "<PIL.Image.Image image mode=RGBA size=450x460>"
      ]
     },
     "metadata": {},
     "output_type": "display_data"
    },
    {
     "data": {
      "image/png": "[encoded data removed]",
      "text/plain": [
       "<PIL.Image.Image image mode=RGBA size=450x460>"
      ]
     },
     "metadata": {},
     "output_type": "display_data"
    },
    {
     "data": {
      "image/png": "[encoded data removed]",
      "text/plain": [
       "<PIL.Image.Image image mode=RGBA size=450x460>"
      ]
     },
     "metadata": {},
     "output_type": "display_data"
    },
    {
     "data": {
      "image/png": "[encoded data removed]",
      "text/plain": [
       "<PIL.Image.Image image mode=RGBA size=450x460>"
      ]
     },
     "metadata": {},
     "output_type": "display_data"
    },
    {
     "data": {
      "image/png": "[encoded data removed]",
      "text/plain": [
       "<PIL.Image.Image image mode=RGBA size=450x460>"
      ]
     },
     "metadata": {},
     "output_type": "display_data"
    },
    {
     "data": {
      "image/png": "[encoded data removed]",
      "text/plain": [
       "<PIL.Image.Image image mode=RGBA size=450x460>"
      ]
     },
     "metadata": {},
     "output_type": "display_data"
    },
    {
     "data": {
      "image/png": "[encoded data removed]",
      "text/plain": [
       "<PIL.Image.Image image mode=RGBA size=450x460>"
      ]
     },
     "metadata": {},
     "output_type": "display_data"
    },
    {
     "data": {
      "image/png": "[encoded data removed]",
      "text/plain": [
       "<PIL.Image.Image image mode=RGBA size=450x460>"
      ]
     },
     "metadata": {},
     "output_type": "display_data"
    },
    {
     "data": {
      "image/png": "[encoded data removed]",
      "text/plain": [
       "<PIL.Image.Image image mode=RGBA size=450x460>"
      ]
     },
     "metadata": {},
     "output_type": "display_data"
    },
    {
     "name": "stdout",
     "output_type": "stream",
     "text": [
      "[5 6 4 3 0 1 2 7 8]\n"
     ]
    }
   ],
   "source": [
    "imgs = [Image.new(mode=\"RGBA\", size=output_size) for _ in range(len(ref_g))]\n",
    "img_full = Image.new(mode=\"RGBA\", size=output_size)\n",
    "seed(ref_l[0][0])\n",
    "xcolors = [\"#7e1e9c\", \"#15b01a\", \"#0343df\", \"#653700\", \"#e50000\", \"#f97306\", \"#033500\", \"#ffff14\", \"#001146\"]\n",
    "color_selection = [(int(c[1:3], 16), int(c[3:5], 16), int(c[5:7], 16)) for c in xcolors]\n",
    "colors = color_selection[:len(ref_l)+1]\n",
    "#colors = [(randint(0, 256), randint(0, 256), randint(0, 256)) for _ in range(len(ref_l)+1)]\n",
    "colors_t = [(c[0], c[1], c[2], 70) for c in colors]\n",
    "\n",
    "priority = [7, 2, 1, 8, 3, 6, 5, 4, 0]\n",
    "#alignments = [7, 6, 5, 8, 3, 1, 0, 2, 4]\n",
    "#alignments = [7 4 6 8 3 2 1 0 5]\n",
    "#alignments = alignments[priority]\n",
    "\n",
    "print(alignments)\n",
    "for x in range(len(alignments)):\n",
    "    i = np.where(alignments == x)[0][0]\n",
    "    draw = ImageDraw.Draw(imgs[x])\n",
    "    draw_full = ImageDraw.Draw(img_full)\n",
    "    for a in range(len(g[i])-1):\n",
    "        x1, y1 = g[i][a]\n",
    "        x2, y2 = g[i][a+1]\n",
    "        y1 = -(y1-output_size[1]/2)+output_size[1]/2\n",
    "        y2 = -(y2-output_size[1]/2)+output_size[1]/2\n",
    "        draw.line(((x1, y1), (x2, y2)), width=6, fill=colors[i])\n",
    "        draw_full.line(((x1, y1), (x2, y2)), width=6, fill=colors[i])\n",
    "\n",
    "for i in range(len(alignments)):\n",
    "    draw = ImageDraw.Draw(imgs[i])\n",
    "    draw_full = ImageDraw.Draw(img_full)\n",
    "    for a in range(len(ref_g[i])-1):\n",
    "        x1, y1 = ref_g[i][a]\n",
    "        x2, y2 = ref_g[i][a+1]\n",
    "        y1 = -(y1-output_size[1]/2)+output_size[1]/2\n",
    "        y2 = -(y2-output_size[1]/2)+output_size[1]/2\n",
    "        draw.line(((x1, y1), (x2, y2)), width=3, fill=colors[i])\n",
    "        draw_full.line(((x1, y1), (x2, y2)), width=3, fill=colors[i])\n",
    "        \n",
    "#display(img_full)\n",
    "for p in range(len(priority)):\n",
    "    display(imgs[p])\n",
    "    \n",
    "print(alignments)"
   ]
  },
  {
   "cell_type": "code",
   "execution_count": null,
   "id": "0be51788",
   "metadata": {},
   "outputs": [],
   "source": []
  }
 ],
 "metadata": {
  "kernelspec": {
   "display_name": "Python 3 (ipykernel)",
   "language": "python",
   "name": "python3"
  },
  "language_info": {
   "codemirror_mode": {
    "name": "ipython",
    "version": 3
   },
   "file_extension": ".py",
   "mimetype": "text/x-python",
   "name": "python",
   "nbconvert_exporter": "python",
   "pygments_lexer": "ipython3",
   "version": "3.9.13"
  }
 },
 "nbformat": 4,
 "nbformat_minor": 5
}
