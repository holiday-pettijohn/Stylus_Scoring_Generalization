{
 "cells": [
  {
   "cell_type": "markdown",
   "id": "908b26e3",
   "metadata": {},
   "source": [
    "# Visualize Reference Gene File"
   ]
  },
  {
   "cell_type": "code",
   "execution_count": 1,
   "id": "75cd8874",
   "metadata": {},
   "outputs": [
    {
     "name": "stderr",
     "output_type": "stream",
     "text": [
      "2024-05-16T21:41:36.571823Z [INFO ] Stylus initialized - Stylus 1.5.0 [RELEASE - Aug 29 2023 15:40:46] (c) 2006-2009 Biologic Institute\n"
     ]
    }
   ],
   "source": [
    "import os\n",
    "import xmltodict\n",
    "\n",
    "import matplotlib.pyplot as plt\n",
    "import numpy as np\n",
    "\n",
    "from PIL import Image, ImageDraw\n",
    "from random import randint, seed\n",
    "from xmlparse import xmlToGeometry, loadScores\n",
    "\n",
    "from score_strokes import alignStrokes\n",
    "\n",
    "import numpy as np"
   ]
  },
  {
   "cell_type": "code",
   "execution_count": 2,
   "id": "9ef8ec66",
   "metadata": {},
   "outputs": [],
   "source": [
    "def loadRef(han_char, ref_dir = \"Reference\"):\n",
    "    stroke_list = []\n",
    "    frac_dists = []\n",
    "    ref_path = f\"{ref_dir}/{han_char[0]}000/{han_char}.han\"\n",
    "    ref_xml = open(ref_path, \"r\").read()\n",
    "    root = xmltodict.parse(ref_xml)\n",
    "    bounds = root[\"hanDefinition\"][\"bounds\"]\n",
    "    x_min, y_min, x_max, y_max = (float(bounds[\"@left\"]), float(bounds[\"@bottom\"]), float(bounds[\"@right\"]), float(bounds[\"@top\"]))\n",
    "    scale = (int(x_max-x_min), int(y_max-y_min))\n",
    "    strokes = root[\"hanDefinition\"][\"strokes\"][\"stroke\"]\n",
    "    for stroke in strokes:\n",
    "        points = stroke[\"points\"][\"forward\"]\n",
    "        point_arr = []\n",
    "        frac_arr = []\n",
    "        for point in points[\"pointDistance\"]:\n",
    "            point_arr.append((float(point[\"@x\"])-x_min,\n",
    "                              float(point[\"@y\"])-y_min))\n",
    "            frac_arr.append(float(point[\"@fractionalDistance\"]))\n",
    "        stroke_list.append(np.array(point_arr))\n",
    "        frac_dists.append(np.array(frac_arr))\n",
    "    return stroke_list, frac_dists, scale\n",
    "\n",
    "def loadGeometry(data_dir, han_char, output_size = (32, 32), f_read = None):\n",
    "    \"\"\"\n",
    "    Loads geometric data about a gene characetr directly from the XML source\n",
    "    \"\"\"\n",
    "    if f_read is None:\n",
    "        dir_list = os.listdir(f\"{data_dir}/{han_char}\")\n",
    "        dir_list.sort()\n",
    "    else:\n",
    "        dir_list = f_read\n",
    "    g_data = []\n",
    "    f_names = []\n",
    "    for f in dir_list:\n",
    "        flines = open(f\"{data_dir}/{han_char}/{f}\", \"rb\").readlines()\n",
    "        f_names.append(flines[0].decode()[:-1])\n",
    "    for f in f_names:\n",
    "        g = xmlToGeometry(f, output_size)\n",
    "        g_data.append(g)\n",
    "    return g_data\n"
   ]
  },
  {
   "cell_type": "code",
   "execution_count": 3,
   "id": "3c92028f",
   "metadata": {},
   "outputs": [],
   "source": [
    "ref_g, ref_l, output_size = loadRef(\"5E7E\", \"Reference\")"
   ]
  },
  {
   "cell_type": "code",
   "execution_count": 4,
   "id": "58cc3bd4",
   "metadata": {},
   "outputs": [],
   "source": [
    "def strokeErrorMatrix(strokes, ref, p_strokes, p_ref):\n",
    "    error_map = np.zeros((len(ref), len(strokes)), dtype=float)\n",
    "    matches_tried = np.zeros(len(strokes), dtype=int)\n",
    "    for i, ref_stroke, r_progresses in zip(range(len(ref)), ref, p_ref):\n",
    "        for j, candidate_stroke, c_progresses in zip(range(len(strokes)), strokes, p_strokes):\n",
    "            error_map[i, j] = strokeError(ref_stroke, candidate_stroke, r_progresses, c_progresses)\n",
    "    return error_map\n",
    "\n",
    "def strokeError(stroke, ref_stroke, p_stroke, p_ref, mode=\"max\"):\n",
    "    forward_stroke_error, back_stroke_error = np.zeros(len(ref_stroke)), np.zeros(len(ref_stroke))\n",
    "    forward_ref_error, back_ref_error = np.zeros(len(stroke)), np.zeros(len(stroke))\n",
    "    for i, rpoint, rprogress in zip(range(len(ref_stroke)), ref_stroke, p_ref):\n",
    "        forward_stroke_error[i] = np.linalg.norm((rpoint-strokeTrace(stroke, p_stroke, rprogress)))\n",
    "    for i, rpoint, rprogress in zip(range(len(ref_stroke)), ref_stroke[::-1], p_ref[::-1]):\n",
    "        back_stroke_error[i] = np.linalg.norm((rpoint-strokeTrace(stroke, p_stroke, 1-rprogress)))\n",
    "    for i, point, progress in zip(range(len(stroke)), stroke, p_stroke):\n",
    "        forward_ref_error[i] = np.linalg.norm((point-strokeTrace(ref_stroke, p_ref, progress)))\n",
    "    for i, point, progress in zip(range(len(stroke)), stroke[::-1], p_stroke[::-1]):\n",
    "        back_ref_error[i] = np.linalg.norm((point-strokeTrace(ref_stroke, p_ref, 1-progress)))\n",
    "    final_error = min(max(forward_stroke_error.sum(), forward_ref_error.sum()), max(back_stroke_error.sum(), back_ref_error.sum()))\n",
    "    return final_error\n",
    "\n",
    "def strokeTrace(stroke, stroke_progresses, progress):\n",
    "    if progress == 1:\n",
    "        return stroke[-1]\n",
    "    progress_line = len(stroke_progresses)-1\n",
    "    for i in range(1, len(stroke_progresses)):\n",
    "        if stroke_progresses[i] > progress:\n",
    "            progress_line = i-1\n",
    "            break\n",
    "    startp, endp = stroke_progresses[progress_line], stroke_progresses[progress_line+1]\n",
    "    norm_progress = (progress-startp)/endp\n",
    "    if stroke[progress_line+1][0] == stroke[progress_line][0]:\n",
    "        x = stroke[progress_line][0]\n",
    "        y = norm_progress*(stroke[progress_line+1][1]-stroke[progress_line][1])+stroke[progress_line][0]\n",
    "    else:\n",
    "        slope = (stroke[progress_line+1][1]-stroke[progress_line][1])/(stroke[progress_line+1][0]-stroke[progress_line][0])\n",
    "        intercept = stroke[progress_line][1]-slope*stroke[progress_line][0]\n",
    "        x = norm_progress*(stroke[progress_line+1][0]-stroke[progress_line][0])+stroke[progress_line][0]\n",
    "        y = slope*x + intercept\n",
    "    return np.array((x, y))\n"
   ]
  },
  {
   "cell_type": "code",
   "execution_count": 5,
   "id": "1434c9db-6223-4219-b429-90603f6a5f29",
   "metadata": {},
   "outputs": [],
   "source": [
    "xcolors = [\"#7e1e9c\", \"#15b01a\", \"#0343df\", \"#653700\", \"#e50000\", \"#f97306\", \"#033500\", \"#ffff14\", \"#436bad\", \"#840000\", \"#bf9005\", \"#5729ce\"]\n",
    "color_selection = [(int(c[1:3], 16), int(c[3:5], 16), int(c[5:7], 16)) for c in xcolors]"
   ]
  },
  {
   "cell_type": "code",
   "execution_count": 6,
   "id": "5cf9c0a0-a4ce-477b-b81b-d94c71bd3195",
   "metadata": {},
   "outputs": [],
   "source": [
    "def visualizeRef(han_char, ref_dir=\"Reference\", data_dir=\"HanBitmap\"):\n",
    "    ref_g, ref_l, output_size = loadRef(han_char, ref_dir)\n",
    "    img = Image.new(mode=\"RGBA\", size=output_size)\n",
    "    seed(ref_l[0][0])\n",
    "    colors = color_selection[:len(ref_l)+1]\n",
    "\n",
    "    for i in range(len(ref_g)):\n",
    "        draw = ImageDraw.Draw(img)\n",
    "        for a in range(len(ref_g[i])-1):\n",
    "            x1, y1 = ref_g[i][a]\n",
    "            x2, y2 = ref_g[i][a+1]\n",
    "            y1 = -(y1-output_size[1]/2)+output_size[1]/2\n",
    "            y2 = -(y2-output_size[1]/2)+output_size[1]/2\n",
    "            tcolor = colors[i]\n",
    "            draw.line(((x1, y1), (x2, y2)), width=3, fill=tcolor)\n",
    "            \n",
    "    display(img)"
   ]
  },
  {
   "cell_type": "code",
   "execution_count": 7,
   "id": "0be51788",
   "metadata": {},
   "outputs": [
    {
     "data": {
      "image/png": "[encoded data removed]",
      "text/plain": [
       "<PIL.Image.Image image mode=RGBA size=450x430>"
      ]
     },
     "metadata": {},
     "output_type": "display_data"
    }
   ],
   "source": [
    "visualizeRef(\"8CAB\")"
   ]
  },
  {
   "cell_type": "code",
   "execution_count": null,
   "id": "3ec63adf-a9b2-4f05-9af2-347f387c3beb",
   "metadata": {},
   "outputs": [],
   "source": []
  }
 ],
 "metadata": {
  "kernelspec": {
   "display_name": "Python 3 (ipykernel)",
   "language": "python",
   "name": "python3"
  },
  "language_info": {
   "codemirror_mode": {
    "name": "ipython",
    "version": 3
   },
   "file_extension": ".py",
   "mimetype": "text/x-python",
   "name": "python",
   "nbconvert_exporter": "python",
   "pygments_lexer": "ipython3",
   "version": "3.11.5"
  }
 },
 "nbformat": 4,
 "nbformat_minor": 5
}
